{
  "nbformat": 4,
  "nbformat_minor": 0,
  "metadata": {
    "colab": {
      "name": "Py4DS_Lab01_Ex04.jpny",
      "provenance": [],
      "collapsed_sections": []
    },
    "kernelspec": {
      "name": "python3",
      "display_name": "Python 3"
    }
  },
  "cells": [
    {
      "cell_type": "code",
      "metadata": {
        "id": "dcpZZ4yqAXOk"
      },
      "source": [
        "import numpy as np # linear algebra\n",
        "import pandas as pd # data processing, CSV file I/O (e.g. pd.read_csv)"
      ],
      "execution_count": null,
      "outputs": []
    },
    {
      "cell_type": "markdown",
      "metadata": {
        "id": "d4_lXj5QA2O9"
      },
      "source": [
        "# **STEP 1: Read and view file**"
      ]
    },
    {
      "cell_type": "code",
      "metadata": {
        "id": "7mF8yomg_m95",
        "outputId": "55b604e6-5dba-4152-e916-4188cbde8423",
        "colab": {
          "base_uri": "https://localhost:8080/",
          "height": 226
        }
      },
      "source": [
        "API_edu = pd.read_csv(r\"/content/drive/My Drive/0. STUDYING Peo Peo/PYTHON/xAPI-Edu-Data.csv\")\n",
        "API_edu.head()"
      ],
      "execution_count": null,
      "outputs": [
        {
          "output_type": "execute_result",
          "data": {
            "text/html": [
              "<div>\n",
              "<style scoped>\n",
              "    .dataframe tbody tr th:only-of-type {\n",
              "        vertical-align: middle;\n",
              "    }\n",
              "\n",
              "    .dataframe tbody tr th {\n",
              "        vertical-align: top;\n",
              "    }\n",
              "\n",
              "    .dataframe thead th {\n",
              "        text-align: right;\n",
              "    }\n",
              "</style>\n",
              "<table border=\"1\" class=\"dataframe\">\n",
              "  <thead>\n",
              "    <tr style=\"text-align: right;\">\n",
              "      <th></th>\n",
              "      <th>gender</th>\n",
              "      <th>NationalITy</th>\n",
              "      <th>PlaceofBirth</th>\n",
              "      <th>StageID</th>\n",
              "      <th>GradeID</th>\n",
              "      <th>SectionID</th>\n",
              "      <th>Topic</th>\n",
              "      <th>Semester</th>\n",
              "      <th>Relation</th>\n",
              "      <th>raisedhands</th>\n",
              "      <th>VisITedResources</th>\n",
              "      <th>AnnouncementsView</th>\n",
              "      <th>Discussion</th>\n",
              "      <th>ParentAnsweringSurvey</th>\n",
              "      <th>ParentschoolSatisfaction</th>\n",
              "      <th>StudentAbsenceDays</th>\n",
              "      <th>Class</th>\n",
              "    </tr>\n",
              "  </thead>\n",
              "  <tbody>\n",
              "    <tr>\n",
              "      <th>0</th>\n",
              "      <td>M</td>\n",
              "      <td>KW</td>\n",
              "      <td>KuwaIT</td>\n",
              "      <td>lowerlevel</td>\n",
              "      <td>G-04</td>\n",
              "      <td>A</td>\n",
              "      <td>IT</td>\n",
              "      <td>F</td>\n",
              "      <td>Father</td>\n",
              "      <td>15</td>\n",
              "      <td>16</td>\n",
              "      <td>2</td>\n",
              "      <td>20</td>\n",
              "      <td>Yes</td>\n",
              "      <td>Good</td>\n",
              "      <td>Under-7</td>\n",
              "      <td>M</td>\n",
              "    </tr>\n",
              "    <tr>\n",
              "      <th>1</th>\n",
              "      <td>M</td>\n",
              "      <td>KW</td>\n",
              "      <td>KuwaIT</td>\n",
              "      <td>lowerlevel</td>\n",
              "      <td>G-04</td>\n",
              "      <td>A</td>\n",
              "      <td>IT</td>\n",
              "      <td>F</td>\n",
              "      <td>Father</td>\n",
              "      <td>20</td>\n",
              "      <td>20</td>\n",
              "      <td>3</td>\n",
              "      <td>25</td>\n",
              "      <td>Yes</td>\n",
              "      <td>Good</td>\n",
              "      <td>Under-7</td>\n",
              "      <td>M</td>\n",
              "    </tr>\n",
              "    <tr>\n",
              "      <th>2</th>\n",
              "      <td>M</td>\n",
              "      <td>KW</td>\n",
              "      <td>KuwaIT</td>\n",
              "      <td>lowerlevel</td>\n",
              "      <td>G-04</td>\n",
              "      <td>A</td>\n",
              "      <td>IT</td>\n",
              "      <td>F</td>\n",
              "      <td>Father</td>\n",
              "      <td>10</td>\n",
              "      <td>7</td>\n",
              "      <td>0</td>\n",
              "      <td>30</td>\n",
              "      <td>No</td>\n",
              "      <td>Bad</td>\n",
              "      <td>Above-7</td>\n",
              "      <td>L</td>\n",
              "    </tr>\n",
              "    <tr>\n",
              "      <th>3</th>\n",
              "      <td>M</td>\n",
              "      <td>KW</td>\n",
              "      <td>KuwaIT</td>\n",
              "      <td>lowerlevel</td>\n",
              "      <td>G-04</td>\n",
              "      <td>A</td>\n",
              "      <td>IT</td>\n",
              "      <td>F</td>\n",
              "      <td>Father</td>\n",
              "      <td>30</td>\n",
              "      <td>25</td>\n",
              "      <td>5</td>\n",
              "      <td>35</td>\n",
              "      <td>No</td>\n",
              "      <td>Bad</td>\n",
              "      <td>Above-7</td>\n",
              "      <td>L</td>\n",
              "    </tr>\n",
              "    <tr>\n",
              "      <th>4</th>\n",
              "      <td>M</td>\n",
              "      <td>KW</td>\n",
              "      <td>KuwaIT</td>\n",
              "      <td>lowerlevel</td>\n",
              "      <td>G-04</td>\n",
              "      <td>A</td>\n",
              "      <td>IT</td>\n",
              "      <td>F</td>\n",
              "      <td>Father</td>\n",
              "      <td>40</td>\n",
              "      <td>50</td>\n",
              "      <td>12</td>\n",
              "      <td>50</td>\n",
              "      <td>No</td>\n",
              "      <td>Bad</td>\n",
              "      <td>Above-7</td>\n",
              "      <td>M</td>\n",
              "    </tr>\n",
              "  </tbody>\n",
              "</table>\n",
              "</div>"
            ],
            "text/plain": [
              "  gender NationalITy  ... StudentAbsenceDays Class\n",
              "0      M          KW  ...            Under-7     M\n",
              "1      M          KW  ...            Under-7     M\n",
              "2      M          KW  ...            Above-7     L\n",
              "3      M          KW  ...            Above-7     L\n",
              "4      M          KW  ...            Above-7     M\n",
              "\n",
              "[5 rows x 17 columns]"
            ]
          },
          "metadata": {
            "tags": []
          },
          "execution_count": 6
        }
      ]
    },
    {
      "cell_type": "markdown",
      "metadata": {
        "id": "54Fww_ElBdDL"
      },
      "source": [
        "# **STEP 2: Kiểm tra dữ liệu lỗi**"
      ]
    },
    {
      "cell_type": "code",
      "metadata": {
        "id": "kkxXPu8hA1Qw",
        "outputId": "7efd20f8-965d-4d18-a2b7-63b31ad436de",
        "colab": {
          "base_uri": "https://localhost:8080/",
          "height": 434
        }
      },
      "source": [
        "API_edu.info()"
      ],
      "execution_count": null,
      "outputs": [
        {
          "output_type": "stream",
          "text": [
            "<class 'pandas.core.frame.DataFrame'>\n",
            "RangeIndex: 480 entries, 0 to 479\n",
            "Data columns (total 17 columns):\n",
            " #   Column                    Non-Null Count  Dtype \n",
            "---  ------                    --------------  ----- \n",
            " 0   gender                    480 non-null    object\n",
            " 1   NationalITy               480 non-null    object\n",
            " 2   PlaceofBirth              480 non-null    object\n",
            " 3   StageID                   480 non-null    object\n",
            " 4   GradeID                   480 non-null    object\n",
            " 5   SectionID                 480 non-null    object\n",
            " 6   Topic                     480 non-null    object\n",
            " 7   Semester                  480 non-null    object\n",
            " 8   Relation                  480 non-null    object\n",
            " 9   raisedhands               480 non-null    int64 \n",
            " 10  VisITedResources          480 non-null    int64 \n",
            " 11  AnnouncementsView         480 non-null    int64 \n",
            " 12  Discussion                480 non-null    int64 \n",
            " 13  ParentAnsweringSurvey     480 non-null    object\n",
            " 14  ParentschoolSatisfaction  480 non-null    object\n",
            " 15  StudentAbsenceDays        480 non-null    object\n",
            " 16  Class                     480 non-null    object\n",
            "dtypes: int64(4), object(13)\n",
            "memory usage: 63.9+ KB\n"
          ],
          "name": "stdout"
        }
      ]
    },
    {
      "cell_type": "markdown",
      "metadata": {
        "id": "-a_3mJv-DVhe"
      },
      "source": [
        "# **STEP 3**: \n",
        "##**1. Tách X va y (dataframe)**"
      ]
    },
    {
      "cell_type": "code",
      "metadata": {
        "id": "8-4ZKHvOBkck"
      },
      "source": [
        "from sklearn import preprocessing\n",
        "le = preprocessing.LabelEncoder()\n",
        "\n",
        "# Tạo biến target\n",
        "y = API_edu['Class']\n",
        "\n",
        "#  Tập X được chia thành 2 loại:\n",
        "## Data có dữ liệu là continuous (Dữ liệu chứa số)\n",
        "X_continuous = API_edu[['Discussion', 'AnnouncementsView', 'VisITedResources', 'raisedhands']]\n",
        "## Data với dữ liệu là category (Dữ liệu chứa chữ)\n",
        "X_category = API_edu.drop(['Class', 'Discussion', 'AnnouncementsView', 'VisITedResources', 'raisedhands'], axis = 1)\n",
        "## Encoding các data\n",
        "X_category_encode = pd.get_dummies(X_category, prefix_sep='_')\n",
        "y = le.fit_transform(y)\n",
        "X = pd.concat([X_continuous, X_category_encode], axis = 1) "
      ],
      "execution_count": null,
      "outputs": []
    },
    {
      "cell_type": "markdown",
      "metadata": {
        "id": "kU3HMf2bDfBF"
      },
      "source": [
        "##**2. Train_Test**"
      ]
    },
    {
      "cell_type": "code",
      "metadata": {
        "id": "UFzhgWJCDC0E"
      },
      "source": [
        "from sklearn.model_selection import train_test_split\n",
        "X_train, X_test, y_train, y_test = train_test_split(X, y, test_size = 0.3, \n",
        "                                                    stratify = y, random_state = 0)"
      ],
      "execution_count": null,
      "outputs": []
    },
    {
      "cell_type": "markdown",
      "metadata": {
        "id": "zOs2-fofDo6-"
      },
      "source": [
        "#**STEP 4: Choose model**"
      ]
    },
    {
      "cell_type": "markdown",
      "metadata": {
        "id": "XLqHxCnQI_60"
      },
      "source": [
        "##**1. Model: Support Vector Machine (SVM)**"
      ]
    },
    {
      "cell_type": "code",
      "metadata": {
        "id": "zEpKBMx9DrqX",
        "outputId": "bbef9ca5-e17b-4369-a96b-7518adb599fb",
        "colab": {
          "base_uri": "https://localhost:8080/",
          "height": 364
        }
      },
      "source": [
        "from sklearn.svm import SVC\n",
        "from sklearn.metrics import accuracy_score, confusion_matrix,classification_report\n",
        "\n",
        "clf_svm = SVC(kernel = 'poly', C = 10)   \n",
        "clf_svm.fit(X_train, y_train)\n",
        "\n",
        "print(\"Support Vector Machine\")\n",
        "print(\"\\ntrain acc: \", accuracy_score(y_train, clf_svm.predict(X_train)))\n",
        "print(\"train acc: \", accuracy_score(y_test, clf_svm.predict(X_test)))\n",
        "print('\\nConfusion matrix : \\n', confusion_matrix(y_test, clf_svm.predict(X_test)))\n",
        "print('Classification report : \\n', classification_report(y_test, clf_svm.predict(X_test), digits = 5))"
      ],
      "execution_count": null,
      "outputs": [
        {
          "output_type": "stream",
          "text": [
            "Support Vector Machine\n",
            "\n",
            "train acc:  0.7202380952380952\n",
            "train acc:  0.6388888888888888\n",
            "\n",
            "Confusion matrix : \n",
            " [[19  3 21]\n",
            " [ 0 34  4]\n",
            " [ 9 15 39]]\n",
            "Classification report : \n",
            "               precision    recall  f1-score   support\n",
            "\n",
            "           0    0.67857   0.44186   0.53521        43\n",
            "           1    0.65385   0.89474   0.75556        38\n",
            "           2    0.60938   0.61905   0.61417        63\n",
            "\n",
            "    accuracy                        0.63889       144\n",
            "   macro avg    0.64726   0.65188   0.63498       144\n",
            "weighted avg    0.64177   0.63889   0.62790       144\n",
            "\n"
          ],
          "name": "stdout"
        }
      ]
    },
    {
      "cell_type": "markdown",
      "metadata": {
        "id": "IWOzRIqEJ3SX"
      },
      "source": [
        "#**2. Model: Decision Tree Classifier**\n"
      ]
    },
    {
      "cell_type": "code",
      "metadata": {
        "id": "anANyhkTHNTV",
        "outputId": "921a4351-4361-4547-e55b-1b74d6c9d5c6",
        "colab": {
          "base_uri": "https://localhost:8080/",
          "height": 364
        }
      },
      "source": [
        "from sklearn.tree import DecisionTreeClassifier\n",
        "from sklearn.metrics import accuracy_score, confusion_matrix,classification_report\n",
        "\n",
        "clf = DecisionTreeClassifier()\n",
        "clf.fit(X_train,y_train)\n",
        "\n",
        "print(\"Decision Tree Classifier\")\n",
        "print(\"\\ntrain acc: \", accuracy_score(y_train, clf.predict(X_train)))\n",
        "print(\"train acc: \", accuracy_score(y_test, clf.predict(X_test)))\n",
        "print('\\nConfusion matrix : \\n', confusion_matrix(y_test, clf.predict(X_test)))\n",
        "print('Classification report : \\n', classification_report(y_test, clf.predict(X_test), digits = 5))"
      ],
      "execution_count": null,
      "outputs": [
        {
          "output_type": "stream",
          "text": [
            "Decision Tree Classifier\n",
            "\n",
            "train acc:  1.0\n",
            "train acc:  0.7777777777777778\n",
            "\n",
            "Confusion matrix : \n",
            " [[33  0 10]\n",
            " [ 0 34  4]\n",
            " [ 8 10 45]]\n",
            "Classification report : \n",
            "               precision    recall  f1-score   support\n",
            "\n",
            "           0    0.80488   0.76744   0.78571        43\n",
            "           1    0.77273   0.89474   0.82927        38\n",
            "           2    0.76271   0.71429   0.73770        63\n",
            "\n",
            "    accuracy                        0.77778       144\n",
            "   macro avg    0.78011   0.79215   0.78423       144\n",
            "weighted avg    0.77795   0.77778   0.77620       144\n",
            "\n"
          ],
          "name": "stdout"
        }
      ]
    },
    {
      "cell_type": "markdown",
      "metadata": {
        "id": "JNDUQfqiKC63"
      },
      "source": [
        "#**3. Model: Random Forest Classifier**"
      ]
    },
    {
      "cell_type": "code",
      "metadata": {
        "id": "ZkVu1ipCIWz2",
        "outputId": "76e35ce3-0298-4f75-8274-873dc0b8e983",
        "colab": {
          "base_uri": "https://localhost:8080/",
          "height": 364
        }
      },
      "source": [
        "from sklearn.ensemble import RandomForestClassifier\n",
        "from sklearn.metrics import accuracy_score, confusion_matrix,classification_report\n",
        "\n",
        "clf = RandomForestClassifier()\n",
        "clf.fit(X_train,y_train)\n",
        "\n",
        "print(\"Random Forest Classifier\")\n",
        "print(\"\\ntrain acc: \", accuracy_score(y_train, clf.predict(X_train)))\n",
        "print(\"train acc: \", accuracy_score(y_test, clf.predict(X_test)))\n",
        "print('\\nConfusion matrix : \\n', confusion_matrix(y_test, clf.predict(X_test)))\n",
        "print('Classification report : \\n', classification_report(y_test, clf.predict(X_test), digits = 5))"
      ],
      "execution_count": null,
      "outputs": [
        {
          "output_type": "stream",
          "text": [
            "Random Forest Classifier\n",
            "\n",
            "train acc:  1.0\n",
            "train acc:  0.8125\n",
            "\n",
            "Confusion matrix : \n",
            " [[35  0  8]\n",
            " [ 0 32  6]\n",
            " [ 6  7 50]]\n",
            "Classification report : \n",
            "               precision    recall  f1-score   support\n",
            "\n",
            "           0    0.85366   0.81395   0.83333        43\n",
            "           1    0.82051   0.84211   0.83117        38\n",
            "           2    0.78125   0.79365   0.78740        63\n",
            "\n",
            "    accuracy                        0.81250       144\n",
            "   macro avg    0.81847   0.81657   0.81730       144\n",
            "weighted avg    0.81323   0.81250   0.81267       144\n",
            "\n"
          ],
          "name": "stdout"
        }
      ]
    }
  ]
}