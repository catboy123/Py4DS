{
  "nbformat": 4,
  "nbformat_minor": 0,
  "metadata": {
    "colab": {
      "name": "Classify images of clothing.ipynb",
      "provenance": [],
      "collapsed_sections": []
    },
    "kernelspec": {
      "name": "python3",
      "display_name": "Python 3"
    }
  },
  "cells": [
    {
      "cell_type": "markdown",
      "metadata": {
        "id": "vAnBLcPnc6_o"
      },
      "source": [
        "#*TensorFlow:* \n",
        "#*Classify images of clothing*\n",
        "\n",
        "https://www.tensorflow.org/tutorials/keras/classification \n",
        "--> Run in Google Colab"
      ]
    },
    {
      "cell_type": "markdown",
      "metadata": {
        "id": "zQW1l0tNMylC"
      },
      "source": [
        "#**1. Library**"
      ]
    },
    {
      "cell_type": "code",
      "metadata": {
        "id": "dzLKpmZICaWN",
        "colab": {
          "base_uri": "https://localhost:8080/"
        },
        "outputId": "25a3734a-2849-4c87-b570-5e9abffa5887"
      },
      "source": [
        "# TensorFlow and tf.keras\n",
        "import tensorflow as tf\n",
        "\n",
        "# Helper libraries\n",
        "import numpy as np\n",
        "import matplotlib.pyplot as plt\n",
        "\n",
        "print(tf.__version__)"
      ],
      "execution_count": null,
      "outputs": [
        {
          "output_type": "stream",
          "text": [
            "2.3.0\n"
          ],
          "name": "stdout"
        }
      ]
    },
    {
      "cell_type": "markdown",
      "metadata": {
        "id": "TE-98c0nM9eM"
      },
      "source": [
        "#**2. Load data (train images, train labels - text images, text labels)**"
      ]
    },
    {
      "cell_type": "markdown",
      "metadata": {
        "id": "vHLDOn3dVy1r"
      },
      "source": [
        "Here, 60,000 images are used to train the network and 10,000 images to evaluate how accurately the network learned to classify images."
      ]
    },
    {
      "cell_type": "code",
      "metadata": {
        "id": "7MqDQO0KCaWS"
      },
      "source": [
        "fashion_mnist = tf.keras.datasets.fashion_mnist\n",
        "\n",
        "(train_images, train_labels), (test_images, test_labels) = fashion_mnist.load_data()"
      ],
      "execution_count": null,
      "outputs": []
    },
    {
      "cell_type": "markdown",
      "metadata": {
        "id": "uj8yQtxSNYRg"
      },
      "source": [
        "\n",
        "\n",
        "---\n",
        "\n",
        "\n",
        "Each image is mapped to a single label. Since the *class names* are not included with the dataset, store them here to use later when plotting the images:\n",
        "\n",
        "\n",
        "\n",
        "\n",
        "\n"
      ]
    },
    {
      "cell_type": "code",
      "metadata": {
        "id": "IjnLH5S2CaWx"
      },
      "source": [
        "class_names = ['T-shirt/top', 'Trouser', 'Pullover', 'Dress', 'Coat',\n",
        "               'Sandal', 'Shirt', 'Sneaker', 'Bag', 'Ankle boot']"
      ],
      "execution_count": null,
      "outputs": []
    },
    {
      "cell_type": "markdown",
      "metadata": {
        "id": "mB8XVCTP0FZu"
      },
      "source": [
        "NOTE: Label \tClass\n",
        "\n",
        "0 \tT-shirt/top\n",
        "\n",
        "1 \tTrouser\n",
        "\n",
        "2 \tPullover\n",
        "\n",
        "3 \tDress\n",
        "\n",
        "4 \tCoat\n",
        "\n",
        "5 \tSandal\n",
        "\n",
        "6 \tShirt\n",
        "\n",
        "7 \tSneaker\n",
        "\n",
        "8 \tBag\n",
        "\n",
        "9 \tAnkle boot"
      ]
    },
    {
      "cell_type": "markdown",
      "metadata": {
        "id": "6ViRt3gqXk_g"
      },
      "source": [
        "#**3. Explore the data**"
      ]
    },
    {
      "cell_type": "markdown",
      "metadata": {
        "id": "0Mk3CzBDYdx2"
      },
      "source": [
        "###**Training set (train images, train labels)**"
      ]
    },
    {
      "cell_type": "markdown",
      "metadata": {
        "id": "ohnIkbpmX8bA"
      },
      "source": [
        "Let's explore the format of the dataset before training the model. The following shows there are 60,000 images in the training set, with each image represented as 28 x 28 pixels:"
      ]
    },
    {
      "cell_type": "code",
      "metadata": {
        "colab": {
          "base_uri": "https://localhost:8080/"
        },
        "id": "smUSBK7TX9m1",
        "outputId": "a10e302e-f0a6-4ef7-e5e2-9b4c387a6908"
      },
      "source": [
        "train_images.shape"
      ],
      "execution_count": null,
      "outputs": [
        {
          "output_type": "execute_result",
          "data": {
            "text/plain": [
              "(60000, 28, 28)"
            ]
          },
          "metadata": {
            "tags": []
          },
          "execution_count": 19
        }
      ]
    },
    {
      "cell_type": "markdown",
      "metadata": {
        "id": "80oftfDyYEqf"
      },
      "source": [
        "There are 60,000 labels in the training set:"
      ]
    },
    {
      "cell_type": "code",
      "metadata": {
        "colab": {
          "base_uri": "https://localhost:8080/"
        },
        "id": "FXcKeOqWYHxP",
        "outputId": "1f8a7cfb-b490-4f4e-ada6-194cf279f821"
      },
      "source": [
        "len(train_labels)"
      ],
      "execution_count": null,
      "outputs": [
        {
          "output_type": "execute_result",
          "data": {
            "text/plain": [
              "60000"
            ]
          },
          "metadata": {
            "tags": []
          },
          "execution_count": 20
        }
      ]
    },
    {
      "cell_type": "markdown",
      "metadata": {
        "id": "quTFBkn1Yp21"
      },
      "source": [
        "###**Testing set (test images, test labels)**"
      ]
    },
    {
      "cell_type": "markdown",
      "metadata": {
        "id": "LjGSmMCKYRg_"
      },
      "source": [
        "The test set contains 10,000 images labels:"
      ]
    },
    {
      "cell_type": "code",
      "metadata": {
        "colab": {
          "base_uri": "https://localhost:8080/"
        },
        "id": "K_yEqUIUZPh9",
        "outputId": "14b62a22-7947-4d2a-e660-992778fe577d"
      },
      "source": [
        "test_images.shape"
      ],
      "execution_count": null,
      "outputs": [
        {
          "output_type": "execute_result",
          "data": {
            "text/plain": [
              "(10000, 28, 28)"
            ]
          },
          "metadata": {
            "tags": []
          },
          "execution_count": 21
        }
      ]
    },
    {
      "cell_type": "markdown",
      "metadata": {
        "id": "K1K5BjK-Zqy2"
      },
      "source": [
        "The test set contains 10,000 images labels:"
      ]
    },
    {
      "cell_type": "code",
      "metadata": {
        "colab": {
          "base_uri": "https://localhost:8080/"
        },
        "id": "GibCWoDyZsgd",
        "outputId": "26ed4c4e-f000-4f8a-e0a5-10fad78f3e30"
      },
      "source": [
        "len(test_labels)"
      ],
      "execution_count": null,
      "outputs": [
        {
          "output_type": "execute_result",
          "data": {
            "text/plain": [
              "10000"
            ]
          },
          "metadata": {
            "tags": []
          },
          "execution_count": 22
        }
      ]
    },
    {
      "cell_type": "markdown",
      "metadata": {
        "id": "B1yTrG_ZaQz5"
      },
      "source": [
        "#**4. Pre-processing**"
      ]
    },
    {
      "cell_type": "code",
      "metadata": {
        "colab": {
          "base_uri": "https://localhost:8080/",
          "height": 265
        },
        "id": "BgDOm1goaUwk",
        "outputId": "41a96d80-c12d-4a3e-8ec1-840cd768c243"
      },
      "source": [
        "plt.figure()\n",
        "plt.imshow(train_images[0])\n",
        "plt.colorbar()\n",
        "plt.grid(False) # False: không set lưới\n"
      ],
      "execution_count": null,
      "outputs": [
        {
          "output_type": "display_data",
          "data": {
            "image/png": "[encoded data removed]",
            "text/plain": [
              "<Figure size 432x288 with 2 Axes>"
            ]
          },
          "metadata": {
            "tags": [],
            "needs_background": "light"
          }
        }
      ]
    },
    {
      "cell_type": "markdown",
      "metadata": {
        "id": "YidkmnjxcxXP"
      },
      "source": [
        "Scale these values to a range of 0 to 1 before feeding them to the neural network model. To do so, divide the values by 255. It's important that the training set and the testing set be preprocessed in the same way:"
      ]
    },
    {
      "cell_type": "code",
      "metadata": {
        "id": "dTuRnAO2cyTi"
      },
      "source": [
        "train_images = train_images / 255.0\n",
        "\n",
        "test_images = test_images / 255.0"
      ],
      "execution_count": null,
      "outputs": []
    },
    {
      "cell_type": "markdown",
      "metadata": {
        "id": "uf5VFnBcdlum"
      },
      "source": [
        "To verify that the data is in the correct format and that you're ready to build and train the network, let's display the first 25 images from the training set and display the class name below each image."
      ]
    },
    {
      "cell_type": "code",
      "metadata": {
        "colab": {
          "base_uri": "https://localhost:8080/",
          "height": 589
        },
        "id": "mulO18C3dosW",
        "outputId": "f56fc262-6c91-42d7-d407-5ff629c9ff4a"
      },
      "source": [
        "plt.figure(figsize=(10,10))\n",
        "for i in range(25):\n",
        "    plt.subplot(5,5,i+1)\n",
        "    plt.xticks([])\n",
        "    plt.yticks([])\n",
        "    plt.grid(False)\n",
        "    plt.imshow(train_images[i], cmap=plt.cm.binary)\n",
        "    plt.xlabel(class_names[train_labels[i]])\n",
        "plt.show()"
      ],
      "execution_count": null,
      "outputs": [
        {
          "output_type": "display_data",
          "data": {
            "image/png": "[encoded data removed]",
            "text/plain": [
              "<Figure size 720x720 with 25 Axes>"
            ]
          },
          "metadata": {
            "tags": []
          }
        }
      ]
    },
    {
      "cell_type": "markdown",
      "metadata": {
        "id": "_czSdDfbejRE"
      },
      "source": [
        "#**5. Build the model**"
      ]
    },
    {
      "cell_type": "markdown",
      "metadata": {
        "id": "7HPa1qy1l_gR"
      },
      "source": [
        "###**Set up the layers**"
      ]
    },
    {
      "cell_type": "code",
      "metadata": {
        "id": "gLGMHuxGeZDE"
      },
      "source": [
        "model = tf.keras.Sequential([\n",
        "    tf.keras.layers.Flatten(input_shape=(28, 28)),\n",
        "    tf.keras.layers.Dense(128, activation='relu'),\n",
        "    tf.keras.layers.Dense(10)\n",
        "])"
      ],
      "execution_count": null,
      "outputs": []
    },
    {
      "cell_type": "markdown",
      "metadata": {
        "id": "_L_e0BX3jUoy"
      },
      "source": [
        "The first layer in this network, `tf.keras.layers.Flatten`, transforms the format of the images from a two-dimensional array (of 28 by 28 pixels)-matrix to a one-dimensional array (of 28 * 28 = 784 pixels)-dọc. \n",
        "\n",
        "After the pixels are flattened, the network consists of a sequence of two `tf.keras.layers.Dense` layers. These are densely connected, or fully connected, neural layers. The first `Dense` layer has 128 nodes (or neurons). The second (and last) layer returns a logits array with length of 10. Each node contains a score that indicates the current image belongs to one of the 10 classes.\n",
        "\n"
      ]
    },
    {
      "cell_type": "markdown",
      "metadata": {
        "id": "rf1gY1cEljMn"
      },
      "source": [
        "###**Compile the model**\n",
        "\n",
        "Before the model is ready for training, it needs a few more settings. These are added during the model's *compile* step:\n",
        "\n",
        "* *Loss function* —This measures how accurate the model is during training. You want to minimize this function to \"steer\" the model in the right direction. \n",
        "==> Find parameters to minimize the loss function which is the convex fuction.\n",
        "* *Optimizer* —This is how the model is updated based on the data it sees and its loss function.\n",
        "* *Metrics* —Used to monitor the training and testing steps. The following example uses *accuracy*, the fraction of the images that are correctly classified."
      ]
    },
    {
      "cell_type": "code",
      "metadata": {
        "id": "yhgYlT7WjnYR"
      },
      "source": [
        "model.compile(optimizer='adam', #optimizer\n",
        "              loss=tf.keras.losses.SparseCategoricalCrossentropy(from_logits=True), #loss function : Crossentropy\n",
        "              metrics=['accuracy']) #metric"
      ],
      "execution_count": null,
      "outputs": []
    },
    {
      "cell_type": "markdown",
      "metadata": {
        "id": "gcrftlnNpRP7"
      },
      "source": [
        "#**6. Train the model**"
      ]
    },
    {
      "cell_type": "markdown",
      "metadata": {
        "id": "SQfbMqWJpZxF"
      },
      "source": [
        "\n",
        "Training the neural network model requires the following steps:\n",
        "\n",
        "1. Feed the training data to the model. In this example, the training data is in the `train_images` and `train_labels` arrays.\n",
        "2. The model learns to associate images and labels.\n",
        "3. You ask the model to make predictions about a test set—in this example, the `test_images` array.\n",
        "4. Verify that the predictions match the labels from the `test_labels` array.\n"
      ]
    },
    {
      "cell_type": "markdown",
      "metadata": {
        "id": "E14XVlE9qnOF"
      },
      "source": [
        "###**Feed the model**"
      ]
    },
    {
      "cell_type": "code",
      "metadata": {
        "colab": {
          "base_uri": "https://localhost:8080/"
        },
        "id": "urJf4JJMpn-y",
        "outputId": "5b5ddb42-a4a9-4363-f2cf-bcf191da1674"
      },
      "source": [
        "model.fit(train_images, train_labels, epochs=10, batch_size = 100, verbose = 1, shuffle=False) "
      ],
      "execution_count": null,
      "outputs": [
        {
          "output_type": "stream",
          "text": [
            "Epoch 1/10\n",
            "600/600 [==============================] - 1s 2ms/step - loss: 0.5410 - accuracy: 0.8142\n",
            "Epoch 2/10\n",
            "600/600 [==============================] - 1s 2ms/step - loss: 0.4035 - accuracy: 0.8583\n",
            "Epoch 3/10\n",
            "600/600 [==============================] - 1s 2ms/step - loss: 0.3639 - accuracy: 0.8711\n",
            "Epoch 4/10\n",
            "600/600 [==============================] - 1s 2ms/step - loss: 0.3377 - accuracy: 0.8796\n",
            "Epoch 5/10\n",
            "600/600 [==============================] - 1s 2ms/step - loss: 0.3164 - accuracy: 0.8864\n",
            "Epoch 6/10\n",
            "600/600 [==============================] - 1s 2ms/step - loss: 0.3010 - accuracy: 0.8907\n",
            "Epoch 7/10\n",
            "600/600 [==============================] - 1s 2ms/step - loss: 0.2880 - accuracy: 0.8958\n",
            "Epoch 8/10\n",
            "600/600 [==============================] - 1s 2ms/step - loss: 0.2764 - accuracy: 0.8997\n",
            "Epoch 9/10\n",
            "600/600 [==============================] - 1s 2ms/step - loss: 0.2657 - accuracy: 0.9031\n",
            "Epoch 10/10\n",
            "600/600 [==============================] - 1s 2ms/step - loss: 0.2564 - accuracy: 0.9067\n"
          ],
          "name": "stdout"
        },
        {
          "output_type": "execute_result",
          "data": {
            "text/plain": [
              "<tensorflow.python.keras.callbacks.History at 0x7ff2a1846f60>"
            ]
          },
          "metadata": {
            "tags": []
          },
          "execution_count": 28
        }
      ]
    },
    {
      "cell_type": "markdown",
      "metadata": {
        "id": "hk-5ThHArnPv"
      },
      "source": [
        "\n",
        "\n",
        "\n",
        "---\n",
        "*COMMENT*\n",
        "\n",
        "Reference: https://machinelearningmastery.com/use-different-batch-sizes-training-predicting-python-keras/\n",
        "\n",
        "**epochs, batch_size:**\n",
        "Vd: epochs = 10, batch_size = 100\n",
        "- Mỗi lần học, model sẽ học 100 bức ảnh (batch_size) trước --> học tiếp 100 bức ảnh sau --> 100 bức ảnh tiếp theo -->... Model sẽ học quét hết đủ 6000 bức ảnh trong training set.\n",
        "- Model sẽ học 10 lần (epochs) như vậy.\n",
        "\n",
        "**verbose = 1:**\n",
        "Hiển thị tiến trình model nó đã ăn được bao nhiêu phần trăm dữ liệu.\n",
        "\n",
        "**shuffle = False:**\n",
        "- True  = trộn dữ liệu sau mỗi lần epoch.\n",
        "- False = không trộn dữ liệu.\n",
        "\n",
        "---\n",
        "\n"
      ]
    },
    {
      "cell_type": "markdown",
      "metadata": {
        "id": "GESAij_00Y7f"
      },
      "source": [
        "###**Evaluate accuracy**"
      ]
    },
    {
      "cell_type": "code",
      "metadata": {
        "id": "VflXLEeECaXC",
        "colab": {
          "base_uri": "https://localhost:8080/"
        },
        "outputId": "c31fe9f9-4c4d-4f51-f8cf-4fd403377b7c"
      },
      "source": [
        "test_loss, test_acc = model.evaluate(test_images,  test_labels, verbose=2)\n",
        "\n",
        "print('\\nTest accuracy:', test_acc)"
      ],
      "execution_count": null,
      "outputs": [
        {
          "output_type": "stream",
          "text": [
            "313/313 - 0s - loss: 0.3562 - accuracy: 0.8716\n",
            "\n",
            "Test accuracy: 0.8715999722480774\n"
          ],
          "name": "stdout"
        }
      ]
    },
    {
      "cell_type": "markdown",
      "metadata": {
        "id": "ZhAYGl3T1iTx"
      },
      "source": [
        "###**Make predictions**"
      ]
    },
    {
      "cell_type": "code",
      "metadata": {
        "id": "JvEEwYUr71eH"
      },
      "source": [
        "probability_model = tf.keras.Sequential([model, \n",
        "                                         tf.keras.layers.Softmax()])"
      ],
      "execution_count": null,
      "outputs": []
    },
    {
      "cell_type": "code",
      "metadata": {
        "id": "kHQFv-PWCUKG"
      },
      "source": [
        "predictions = probability_model.predict(test_images)"
      ],
      "execution_count": null,
      "outputs": []
    },
    {
      "cell_type": "markdown",
      "metadata": {
        "id": "FMzLhGGpCvdI"
      },
      "source": [
        "Here, the model has predicted the label for each image in the testing set. \n",
        "\n",
        "A prediction is an array of 10 numbers.  Let's take a look at the first prediction:\n",
        "\n"
      ]
    },
    {
      "cell_type": "code",
      "metadata": {
        "colab": {
          "base_uri": "https://localhost:8080/"
        },
        "id": "zfC3Hwf6Ceio",
        "outputId": "c3c4e1ae-aaf7-4bc7-fe74-a6d5c3eb0caa"
      },
      "source": [
        "predictions[0]"
      ],
      "execution_count": null,
      "outputs": [
        {
          "output_type": "execute_result",
          "data": {
            "text/plain": [
              "array([1.64559533e-05, 3.89162436e-09, 4.54657766e-07, 1.03098614e-07,\n",
              "       8.49099138e-07, 1.25316682e-03, 7.13745612e-06, 2.18217243e-02,\n",
              "       8.08512210e-04, 9.76091683e-01], dtype=float32)"
            ]
          },
          "metadata": {
            "tags": []
          },
          "execution_count": 32
        }
      ]
    },
    {
      "cell_type": "markdown",
      "metadata": {
        "id": "7sdOuh6jDRmQ"
      },
      "source": [
        "\n",
        "\n",
        "---\n",
        "\n",
        "*COMMENT:*\n",
        "Output là array gồm 10 thông số. Index: Chạy từ 0-->9 . Tại vị trí index thứ 9 có giá trị lớn nhất là 9.76091683e-01. \n",
        "\n",
        "==> Predict label = 9 \n",
        "\n",
        "\n",
        "---\n",
        "\n"
      ]
    },
    {
      "cell_type": "markdown",
      "metadata": {
        "id": "_lCC45XnXTLi"
      },
      "source": [
        "You can see which label has the highest confidence value:"
      ]
    },
    {
      "cell_type": "code",
      "metadata": {
        "colab": {
          "base_uri": "https://localhost:8080/"
        },
        "id": "lDaMimXcCkkG",
        "outputId": "c57b3b51-9475-4dd1-d32e-4e5802aa7a50"
      },
      "source": [
        "np.argmax(predictions[0])"
      ],
      "execution_count": null,
      "outputs": [
        {
          "output_type": "execute_result",
          "data": {
            "text/plain": [
              "9"
            ]
          },
          "metadata": {
            "tags": []
          },
          "execution_count": 33
        }
      ]
    },
    {
      "cell_type": "markdown",
      "metadata": {
        "id": "FUfnxk5vWw8E"
      },
      "source": [
        " Examining the test label shows that this classification is correct:"
      ]
    },
    {
      "cell_type": "code",
      "metadata": {
        "colab": {
          "base_uri": "https://localhost:8080/"
        },
        "id": "piqyXmQvWbDe",
        "outputId": "d6abd79b-98a3-45ca-ab24-2a6e91e2d9cc"
      },
      "source": [
        "test_labels[0]"
      ],
      "execution_count": 34,
      "outputs": [
        {
          "output_type": "execute_result",
          "data": {
            "text/plain": [
              "9"
            ]
          },
          "metadata": {
            "tags": []
          },
          "execution_count": 34
        }
      ]
    },
    {
      "cell_type": "markdown",
      "metadata": {
        "id": "u-wF-bUeXz0S"
      },
      "source": [
        "Hàm vẽ hình"
      ]
    },
    {
      "cell_type": "code",
      "metadata": {
        "id": "9lT4fLPVXXRf"
      },
      "source": [
        "def plot_image(i, predictions_array, true_label, img):\n",
        "  true_label, img = true_label[i], img[i]\n",
        "  plt.grid(False)\n",
        "  plt.xticks([])\n",
        "  plt.yticks([])\n",
        "\n",
        "  plt.imshow(img, cmap=plt.cm.binary)\n",
        "\n",
        "  predicted_label = np.argmax(predictions_array)\n",
        "  if predicted_label == true_label:\n",
        "    color = 'blue'\n",
        "  else:\n",
        "    color = 'red'\n",
        "\n",
        "  plt.xlabel(\"{} {:2.0f}% ({})\".format(class_names[predicted_label],\n",
        "                                100*np.max(predictions_array),\n",
        "                                class_names[true_label]),\n",
        "                                color=color)\n",
        "\n",
        "def plot_value_array(i, predictions_array, true_label):\n",
        "  true_label = true_label[i]\n",
        "  plt.grid(False)\n",
        "  plt.xticks(range(10))\n",
        "  plt.yticks([])\n",
        "  thisplot = plt.bar(range(10), predictions_array, color=\"#777777\")\n",
        "  plt.ylim([0, 1])\n",
        "  predicted_label = np.argmax(predictions_array)\n",
        "\n",
        "  thisplot[predicted_label].set_color('red')\n",
        "  thisplot[true_label].set_color('blue')"
      ],
      "execution_count": 35,
      "outputs": []
    },
    {
      "cell_type": "markdown",
      "metadata": {
        "id": "N2yYb_bkYL-Z"
      },
      "source": [
        "### **Verify predictions**\n",
        "With the model trained, you can use it to make predictions about some images.\n",
        "\n",
        "Let's look at the 0th image, predictions, and prediction array. Correct prediction labels are blue and incorrect prediction labels are red.\n",
        "\n"
      ]
    },
    {
      "cell_type": "code",
      "metadata": {
        "colab": {
          "base_uri": "https://localhost:8080/",
          "height": 211
        },
        "id": "GXBFcBc2YOcJ",
        "outputId": "4075a2a7-31ed-4c28-a484-0c171500b49f"
      },
      "source": [
        "i = 0\n",
        "plt.figure(figsize=(6,3))\n",
        "plt.subplot(1,2,1)\n",
        "plot_image(i, predictions[i], test_labels, test_images)\n",
        "plt.subplot(1,2,2)\n",
        "plot_value_array(i, predictions[i],  test_labels)\n",
        "plt.show()"
      ],
      "execution_count": 36,
      "outputs": [
        {
          "output_type": "display_data",
          "data": {
            "image/png": "[encoded data removed]",
            "text/plain": [
              "<Figure size 432x216 with 2 Axes>"
            ]
          },
          "metadata": {
            "tags": [],
            "needs_background": "light"
          }
        }
      ]
    },
    {
      "cell_type": "code",
      "metadata": {
        "colab": {
          "base_uri": "https://localhost:8080/",
          "height": 211
        },
        "id": "NAdrudGcY8kD",
        "outputId": "cbc9e891-1099-4961-b734-f8b695c4b17e"
      },
      "source": [
        "i = 12\n",
        "plt.figure(figsize=(6,3))\n",
        "plt.subplot(1,2,1)\n",
        "plot_image(i, predictions[i], test_labels, test_images)\n",
        "plt.subplot(1,2,2)\n",
        "plot_value_array(i, predictions[i],  test_labels)\n",
        "plt.show()"
      ],
      "execution_count": 37,
      "outputs": [
        {
          "output_type": "display_data",
          "data": {
            "image/png": "[encoded data removed]",
            "text/plain": [
              "<Figure size 432x216 with 2 Axes>"
            ]
          },
          "metadata": {
            "tags": [],
            "needs_background": "light"
          }
        }
      ]
    },
    {
      "cell_type": "code",
      "metadata": {
        "colab": {
          "base_uri": "https://localhost:8080/",
          "height": 729
        },
        "id": "45bITMroZLbx",
        "outputId": "bc99a1fc-3426-469e-e1d6-766a5e66dcc4"
      },
      "source": [
        "# Plot the first X test images, their predicted labels, and the true labels.\n",
        "# Color correct predictions in blue and incorrect predictions in red.\n",
        "num_rows = 5\n",
        "num_cols = 3\n",
        "num_images = num_rows*num_cols\n",
        "plt.figure(figsize=(2*2*num_cols, 2*num_rows))\n",
        "for i in range(num_images):\n",
        "  plt.subplot(num_rows, 2*num_cols, 2*i+1)\n",
        "  plot_image(i, predictions[i], test_labels, test_images)\n",
        "  plt.subplot(num_rows, 2*num_cols, 2*i+2)\n",
        "  plot_value_array(i, predictions[i], test_labels)\n",
        "plt.tight_layout()\n",
        "plt.show()"
      ],
      "execution_count": 38,
      "outputs": [
        {
          "output_type": "display_data",
          "data": {
            "image/png": "[encoded data removed]",
            "text/plain": [
              "<Figure size 864x720 with 30 Axes>"
            ]
          },
          "metadata": {
            "tags": [],
            "needs_background": "light"
          }
        }
      ]
    },
    {
      "cell_type": "markdown",
      "metadata": {
        "id": "KCcjJBuRZfoY"
      },
      "source": [
        "#**7. Use the trained model**\n",
        "\n",
        "Finally, use the trained model to make a prediction about a single image."
      ]
    },
    {
      "cell_type": "code",
      "metadata": {
        "colab": {
          "base_uri": "https://localhost:8080/"
        },
        "id": "iOwvxlWSZpTB",
        "outputId": "e4b3a72e-bc82-4af6-b881-6a0f34671273"
      },
      "source": [
        "# Grab an image from the test dataset.\n",
        "img = test_images[1]\n",
        "\n",
        "print(img.shape)"
      ],
      "execution_count": 39,
      "outputs": [
        {
          "output_type": "stream",
          "text": [
            "(28, 28)\n"
          ],
          "name": "stdout"
        }
      ]
    },
    {
      "cell_type": "markdown",
      "metadata": {
        "id": "p9MECjAqZ9Gn"
      },
      "source": [
        "`tf.keras` models are optimized to make predictions on a *batch*, or collection, of examples at once. Accordingly, even though you're using a single image, you need to add it to a list:"
      ]
    },
    {
      "cell_type": "code",
      "metadata": {
        "colab": {
          "base_uri": "https://localhost:8080/"
        },
        "id": "aBek00UJZyPe",
        "outputId": "f10ff38c-3142-45d0-95f3-9a4ba51b160a"
      },
      "source": [
        "# Add the image to a batch where it's the only member.\n",
        "img = (np.expand_dims(img,0))\n",
        "\n",
        "print(img.shape)"
      ],
      "execution_count": 40,
      "outputs": [
        {
          "output_type": "stream",
          "text": [
            "(1, 28, 28)\n"
          ],
          "name": "stdout"
        }
      ]
    },
    {
      "cell_type": "markdown",
      "metadata": {
        "id": "DtYu2Hn3Z-PO"
      },
      "source": [
        "Now predict the correct label for this image:"
      ]
    },
    {
      "cell_type": "code",
      "metadata": {
        "colab": {
          "base_uri": "https://localhost:8080/"
        },
        "id": "bzulcBb9aG1n",
        "outputId": "8b141f40-14ba-48c8-cdf7-6347bf84f6a0"
      },
      "source": [
        "predictions_single = probability_model.predict(img)\n",
        "\n",
        "print(predictions_single)"
      ],
      "execution_count": 41,
      "outputs": [
        {
          "output_type": "stream",
          "text": [
            "[[4.0681934e-04 3.9834979e-11 9.9516124e-01 1.4736821e-11 1.3157328e-03\n",
            "  2.1394750e-16 3.1162810e-03 2.6618212e-13 1.8596737e-08 4.5836917e-15]]\n"
          ],
          "name": "stdout"
        }
      ]
    },
    {
      "cell_type": "markdown",
      "metadata": {
        "id": "FAlPExIVaUfj"
      },
      "source": [
        "\n",
        "\n",
        "---\n",
        "\n",
        "*COMMENT*\n",
        "\n",
        "You can see which label has the highest confidence value: 9.9516124e-01 (index=2)\n",
        "\n",
        "\n",
        "---\n",
        "\n",
        "\n"
      ]
    },
    {
      "cell_type": "markdown",
      "metadata": {
        "id": "x2-hchlUauxu"
      },
      "source": [
        "Vẽ hình"
      ]
    },
    {
      "cell_type": "code",
      "metadata": {
        "colab": {
          "base_uri": "https://localhost:8080/",
          "height": 300
        },
        "id": "TlBNQr7RaOCW",
        "outputId": "24e18131-697e-4728-c3cd-384689f213a1"
      },
      "source": [
        "plot_value_array(1, predictions_single[0], test_labels)\n",
        "_ = plt.xticks(range(10), class_names, rotation=45)"
      ],
      "execution_count": 42,
      "outputs": [
        {
          "output_type": "display_data",
          "data": {
            "image/png": "[encoded data removed]",
            "text/plain": [
              "<Figure size 432x288 with 1 Axes>"
            ]
          },
          "metadata": {
            "tags": [],
            "needs_background": "light"
          }
        }
      ]
    }
  ]
}