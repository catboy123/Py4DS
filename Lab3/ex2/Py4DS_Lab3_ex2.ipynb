{
  "nbformat": 4,
  "nbformat_minor": 0,
  "metadata": {
    "colab": {
      "name": "Py4DS_Lab3_ex2.ipynb",
      "provenance": [],
      "collapsed_sections": []
    },
    "kernelspec": {
      "name": "python3",
      "display_name": "Python 3"
    }
  },
  "cells": [
    {
      "cell_type": "code",
      "metadata": {
        "id": "WNkKU2Ht_J8y",
        "outputId": "1bb113cb-b903-4f04-a898-0d8e15cd5b18",
        "colab": {
          "base_uri": "https://localhost:8080/"
        }
      },
      "source": [
        "from google.colab import drive\n",
        "drive.mount('/content/drive')"
      ],
      "execution_count": 1,
      "outputs": [
        {
          "output_type": "stream",
          "text": [
            "Drive already mounted at /content/drive; to attempt to forcibly remount, call drive.mount(\"/content/drive\", force_remount=True).\n"
          ],
          "name": "stdout"
        }
      ]
    },
    {
      "cell_type": "code",
      "metadata": {
        "id": "72ssmrzd_Wo0"
      },
      "source": [
        "import numpy as np\n",
        "import pandas as pd"
      ],
      "execution_count": 2,
      "outputs": []
    },
    {
      "cell_type": "code",
      "metadata": {
        "id": "X-sKTHvd_nQW",
        "outputId": "270ad90d-fab3-4437-8108-a9a4d715b6cf",
        "colab": {
          "base_uri": "https://localhost:8080/",
          "height": 768
        }
      },
      "source": [
        "df = pd.read_csv('/content/drive/My Drive/Datasets/Py4DS_Lab3/AB_NYC_2019.csv')\n",
        "df"
      ],
      "execution_count": 3,
      "outputs": [
        {
          "output_type": "execute_result",
          "data": {
            "text/html": [
              "<div>\n",
              "<style scoped>\n",
              "    .dataframe tbody tr th:only-of-type {\n",
              "        vertical-align: middle;\n",
              "    }\n",
              "\n",
              "    .dataframe tbody tr th {\n",
              "        vertical-align: top;\n",
              "    }\n",
              "\n",
              "    .dataframe thead th {\n",
              "        text-align: right;\n",
              "    }\n",
              "</style>\n",
              "<table border=\"1\" class=\"dataframe\">\n",
              "  <thead>\n",
              "    <tr style=\"text-align: right;\">\n",
              "      <th></th>\n",
              "      <th>id</th>\n",
              "      <th>name</th>\n",
              "      <th>host_id</th>\n",
              "      <th>host_name</th>\n",
              "      <th>neighbourhood_group</th>\n",
              "      <th>neighbourhood</th>\n",
              "      <th>latitude</th>\n",
              "      <th>longitude</th>\n",
              "      <th>room_type</th>\n",
              "      <th>price</th>\n",
              "      <th>minimum_nights</th>\n",
              "      <th>number_of_reviews</th>\n",
              "      <th>last_review</th>\n",
              "      <th>reviews_per_month</th>\n",
              "      <th>calculated_host_listings_count</th>\n",
              "      <th>availability_365</th>\n",
              "    </tr>\n",
              "  </thead>\n",
              "  <tbody>\n",
              "    <tr>\n",
              "      <th>0</th>\n",
              "      <td>2539</td>\n",
              "      <td>Clean &amp; quiet apt home by the park</td>\n",
              "      <td>2787</td>\n",
              "      <td>John</td>\n",
              "      <td>Brooklyn</td>\n",
              "      <td>Kensington</td>\n",
              "      <td>40.64749</td>\n",
              "      <td>-73.97237</td>\n",
              "      <td>Private room</td>\n",
              "      <td>149</td>\n",
              "      <td>1</td>\n",
              "      <td>9</td>\n",
              "      <td>2018-10-19</td>\n",
              "      <td>0.21</td>\n",
              "      <td>6</td>\n",
              "      <td>365</td>\n",
              "    </tr>\n",
              "    <tr>\n",
              "      <th>1</th>\n",
              "      <td>2595</td>\n",
              "      <td>Skylit Midtown Castle</td>\n",
              "      <td>2845</td>\n",
              "      <td>Jennifer</td>\n",
              "      <td>Manhattan</td>\n",
              "      <td>Midtown</td>\n",
              "      <td>40.75362</td>\n",
              "      <td>-73.98377</td>\n",
              "      <td>Entire home/apt</td>\n",
              "      <td>225</td>\n",
              "      <td>1</td>\n",
              "      <td>45</td>\n",
              "      <td>2019-05-21</td>\n",
              "      <td>0.38</td>\n",
              "      <td>2</td>\n",
              "      <td>355</td>\n",
              "    </tr>\n",
              "    <tr>\n",
              "      <th>2</th>\n",
              "      <td>3647</td>\n",
              "      <td>THE VILLAGE OF HARLEM....NEW YORK !</td>\n",
              "      <td>4632</td>\n",
              "      <td>Elisabeth</td>\n",
              "      <td>Manhattan</td>\n",
              "      <td>Harlem</td>\n",
              "      <td>40.80902</td>\n",
              "      <td>-73.94190</td>\n",
              "      <td>Private room</td>\n",
              "      <td>150</td>\n",
              "      <td>3</td>\n",
              "      <td>0</td>\n",
              "      <td>NaN</td>\n",
              "      <td>NaN</td>\n",
              "      <td>1</td>\n",
              "      <td>365</td>\n",
              "    </tr>\n",
              "    <tr>\n",
              "      <th>3</th>\n",
              "      <td>3831</td>\n",
              "      <td>Cozy Entire Floor of Brownstone</td>\n",
              "      <td>4869</td>\n",
              "      <td>LisaRoxanne</td>\n",
              "      <td>Brooklyn</td>\n",
              "      <td>Clinton Hill</td>\n",
              "      <td>40.68514</td>\n",
              "      <td>-73.95976</td>\n",
              "      <td>Entire home/apt</td>\n",
              "      <td>89</td>\n",
              "      <td>1</td>\n",
              "      <td>270</td>\n",
              "      <td>2019-07-05</td>\n",
              "      <td>4.64</td>\n",
              "      <td>1</td>\n",
              "      <td>194</td>\n",
              "    </tr>\n",
              "    <tr>\n",
              "      <th>4</th>\n",
              "      <td>5022</td>\n",
              "      <td>Entire Apt: Spacious Studio/Loft by central park</td>\n",
              "      <td>7192</td>\n",
              "      <td>Laura</td>\n",
              "      <td>Manhattan</td>\n",
              "      <td>East Harlem</td>\n",
              "      <td>40.79851</td>\n",
              "      <td>-73.94399</td>\n",
              "      <td>Entire home/apt</td>\n",
              "      <td>80</td>\n",
              "      <td>10</td>\n",
              "      <td>9</td>\n",
              "      <td>2018-11-19</td>\n",
              "      <td>0.10</td>\n",
              "      <td>1</td>\n",
              "      <td>0</td>\n",
              "    </tr>\n",
              "    <tr>\n",
              "      <th>...</th>\n",
              "      <td>...</td>\n",
              "      <td>...</td>\n",
              "      <td>...</td>\n",
              "      <td>...</td>\n",
              "      <td>...</td>\n",
              "      <td>...</td>\n",
              "      <td>...</td>\n",
              "      <td>...</td>\n",
              "      <td>...</td>\n",
              "      <td>...</td>\n",
              "      <td>...</td>\n",
              "      <td>...</td>\n",
              "      <td>...</td>\n",
              "      <td>...</td>\n",
              "      <td>...</td>\n",
              "      <td>...</td>\n",
              "    </tr>\n",
              "    <tr>\n",
              "      <th>48890</th>\n",
              "      <td>36484665</td>\n",
              "      <td>Charming one bedroom - newly renovated rowhouse</td>\n",
              "      <td>8232441</td>\n",
              "      <td>Sabrina</td>\n",
              "      <td>Brooklyn</td>\n",
              "      <td>Bedford-Stuyvesant</td>\n",
              "      <td>40.67853</td>\n",
              "      <td>-73.94995</td>\n",
              "      <td>Private room</td>\n",
              "      <td>70</td>\n",
              "      <td>2</td>\n",
              "      <td>0</td>\n",
              "      <td>NaN</td>\n",
              "      <td>NaN</td>\n",
              "      <td>2</td>\n",
              "      <td>9</td>\n",
              "    </tr>\n",
              "    <tr>\n",
              "      <th>48891</th>\n",
              "      <td>36485057</td>\n",
              "      <td>Affordable room in Bushwick/East Williamsburg</td>\n",
              "      <td>6570630</td>\n",
              "      <td>Marisol</td>\n",
              "      <td>Brooklyn</td>\n",
              "      <td>Bushwick</td>\n",
              "      <td>40.70184</td>\n",
              "      <td>-73.93317</td>\n",
              "      <td>Private room</td>\n",
              "      <td>40</td>\n",
              "      <td>4</td>\n",
              "      <td>0</td>\n",
              "      <td>NaN</td>\n",
              "      <td>NaN</td>\n",
              "      <td>2</td>\n",
              "      <td>36</td>\n",
              "    </tr>\n",
              "    <tr>\n",
              "      <th>48892</th>\n",
              "      <td>36485431</td>\n",
              "      <td>Sunny Studio at Historical Neighborhood</td>\n",
              "      <td>23492952</td>\n",
              "      <td>Ilgar &amp; Aysel</td>\n",
              "      <td>Manhattan</td>\n",
              "      <td>Harlem</td>\n",
              "      <td>40.81475</td>\n",
              "      <td>-73.94867</td>\n",
              "      <td>Entire home/apt</td>\n",
              "      <td>115</td>\n",
              "      <td>10</td>\n",
              "      <td>0</td>\n",
              "      <td>NaN</td>\n",
              "      <td>NaN</td>\n",
              "      <td>1</td>\n",
              "      <td>27</td>\n",
              "    </tr>\n",
              "    <tr>\n",
              "      <th>48893</th>\n",
              "      <td>36485609</td>\n",
              "      <td>43rd St. Time Square-cozy single bed</td>\n",
              "      <td>30985759</td>\n",
              "      <td>Taz</td>\n",
              "      <td>Manhattan</td>\n",
              "      <td>Hell's Kitchen</td>\n",
              "      <td>40.75751</td>\n",
              "      <td>-73.99112</td>\n",
              "      <td>Shared room</td>\n",
              "      <td>55</td>\n",
              "      <td>1</td>\n",
              "      <td>0</td>\n",
              "      <td>NaN</td>\n",
              "      <td>NaN</td>\n",
              "      <td>6</td>\n",
              "      <td>2</td>\n",
              "    </tr>\n",
              "    <tr>\n",
              "      <th>48894</th>\n",
              "      <td>36487245</td>\n",
              "      <td>Trendy duplex in the very heart of Hell's Kitchen</td>\n",
              "      <td>68119814</td>\n",
              "      <td>Christophe</td>\n",
              "      <td>Manhattan</td>\n",
              "      <td>Hell's Kitchen</td>\n",
              "      <td>40.76404</td>\n",
              "      <td>-73.98933</td>\n",
              "      <td>Private room</td>\n",
              "      <td>90</td>\n",
              "      <td>7</td>\n",
              "      <td>0</td>\n",
              "      <td>NaN</td>\n",
              "      <td>NaN</td>\n",
              "      <td>1</td>\n",
              "      <td>23</td>\n",
              "    </tr>\n",
              "  </tbody>\n",
              "</table>\n",
              "<p>48895 rows × 16 columns</p>\n",
              "</div>"
            ],
            "text/plain": [
              "             id  ... availability_365\n",
              "0          2539  ...              365\n",
              "1          2595  ...              355\n",
              "2          3647  ...              365\n",
              "3          3831  ...              194\n",
              "4          5022  ...                0\n",
              "...         ...  ...              ...\n",
              "48890  36484665  ...                9\n",
              "48891  36485057  ...               36\n",
              "48892  36485431  ...               27\n",
              "48893  36485609  ...                2\n",
              "48894  36487245  ...               23\n",
              "\n",
              "[48895 rows x 16 columns]"
            ]
          },
          "metadata": {
            "tags": []
          },
          "execution_count": 3
        }
      ]
    },
    {
      "cell_type": "code",
      "metadata": {
        "id": "M8jAzYy7TTSU"
      },
      "source": [
        "\n",
        "from sklearn.preprocessing import LabelEncoder\n",
        "df = df.drop(['id','host_name','name','last_review'], axis = 1)"
      ],
      "execution_count": 4,
      "outputs": []
    },
    {
      "cell_type": "code",
      "metadata": {
        "id": "TiVVOnzTA1u0",
        "outputId": "8084652b-94bf-4cee-a30b-b77f9c688ade",
        "colab": {
          "base_uri": "https://localhost:8080/",
          "height": 411
        }
      },
      "source": [
        "\n",
        "for name_col in df.columns:\n",
        "  if (isinstance(df[name_col][0],str)):\n",
        "    df[name_col] = LabelEncoder().fit_transform(df[name_col])\n",
        "df['host_id'] = LabelEncoder().fit_transform(df['host_id'])\n",
        "df['reviews_per_month']=df['reviews_per_month'].fillna(0)\n",
        "df.drop_duplicates()\n",
        "df.reset_index()\n",
        "X = df.drop(['price'],axis=1)\n",
        "Y = df['price']\n",
        "X"
      ],
      "execution_count": 5,
      "outputs": [
        {
          "output_type": "execute_result",
          "data": {
            "text/html": [
              "<div>\n",
              "<style scoped>\n",
              "    .dataframe tbody tr th:only-of-type {\n",
              "        vertical-align: middle;\n",
              "    }\n",
              "\n",
              "    .dataframe tbody tr th {\n",
              "        vertical-align: top;\n",
              "    }\n",
              "\n",
              "    .dataframe thead th {\n",
              "        text-align: right;\n",
              "    }\n",
              "</style>\n",
              "<table border=\"1\" class=\"dataframe\">\n",
              "  <thead>\n",
              "    <tr style=\"text-align: right;\">\n",
              "      <th></th>\n",
              "      <th>host_id</th>\n",
              "      <th>neighbourhood_group</th>\n",
              "      <th>neighbourhood</th>\n",
              "      <th>latitude</th>\n",
              "      <th>longitude</th>\n",
              "      <th>room_type</th>\n",
              "      <th>minimum_nights</th>\n",
              "      <th>number_of_reviews</th>\n",
              "      <th>reviews_per_month</th>\n",
              "      <th>calculated_host_listings_count</th>\n",
              "      <th>availability_365</th>\n",
              "    </tr>\n",
              "  </thead>\n",
              "  <tbody>\n",
              "    <tr>\n",
              "      <th>0</th>\n",
              "      <td>2</td>\n",
              "      <td>1</td>\n",
              "      <td>108</td>\n",
              "      <td>40.64749</td>\n",
              "      <td>-73.97237</td>\n",
              "      <td>1</td>\n",
              "      <td>1</td>\n",
              "      <td>9</td>\n",
              "      <td>0.21</td>\n",
              "      <td>6</td>\n",
              "      <td>365</td>\n",
              "    </tr>\n",
              "    <tr>\n",
              "      <th>1</th>\n",
              "      <td>3</td>\n",
              "      <td>2</td>\n",
              "      <td>127</td>\n",
              "      <td>40.75362</td>\n",
              "      <td>-73.98377</td>\n",
              "      <td>0</td>\n",
              "      <td>1</td>\n",
              "      <td>45</td>\n",
              "      <td>0.38</td>\n",
              "      <td>2</td>\n",
              "      <td>355</td>\n",
              "    </tr>\n",
              "    <tr>\n",
              "      <th>2</th>\n",
              "      <td>13</td>\n",
              "      <td>2</td>\n",
              "      <td>94</td>\n",
              "      <td>40.80902</td>\n",
              "      <td>-73.94190</td>\n",
              "      <td>1</td>\n",
              "      <td>3</td>\n",
              "      <td>0</td>\n",
              "      <td>0.00</td>\n",
              "      <td>1</td>\n",
              "      <td>365</td>\n",
              "    </tr>\n",
              "    <tr>\n",
              "      <th>3</th>\n",
              "      <td>14</td>\n",
              "      <td>1</td>\n",
              "      <td>41</td>\n",
              "      <td>40.68514</td>\n",
              "      <td>-73.95976</td>\n",
              "      <td>0</td>\n",
              "      <td>1</td>\n",
              "      <td>270</td>\n",
              "      <td>4.64</td>\n",
              "      <td>1</td>\n",
              "      <td>194</td>\n",
              "    </tr>\n",
              "    <tr>\n",
              "      <th>4</th>\n",
              "      <td>18</td>\n",
              "      <td>2</td>\n",
              "      <td>61</td>\n",
              "      <td>40.79851</td>\n",
              "      <td>-73.94399</td>\n",
              "      <td>0</td>\n",
              "      <td>10</td>\n",
              "      <td>9</td>\n",
              "      <td>0.10</td>\n",
              "      <td>1</td>\n",
              "      <td>0</td>\n",
              "    </tr>\n",
              "    <tr>\n",
              "      <th>...</th>\n",
              "      <td>...</td>\n",
              "      <td>...</td>\n",
              "      <td>...</td>\n",
              "      <td>...</td>\n",
              "      <td>...</td>\n",
              "      <td>...</td>\n",
              "      <td>...</td>\n",
              "      <td>...</td>\n",
              "      <td>...</td>\n",
              "      <td>...</td>\n",
              "      <td>...</td>\n",
              "    </tr>\n",
              "    <tr>\n",
              "      <th>48890</th>\n",
              "      <td>10255</td>\n",
              "      <td>1</td>\n",
              "      <td>13</td>\n",
              "      <td>40.67853</td>\n",
              "      <td>-73.94995</td>\n",
              "      <td>1</td>\n",
              "      <td>2</td>\n",
              "      <td>0</td>\n",
              "      <td>0.00</td>\n",
              "      <td>2</td>\n",
              "      <td>9</td>\n",
              "    </tr>\n",
              "    <tr>\n",
              "      <th>48891</th>\n",
              "      <td>8945</td>\n",
              "      <td>1</td>\n",
              "      <td>28</td>\n",
              "      <td>40.70184</td>\n",
              "      <td>-73.93317</td>\n",
              "      <td>1</td>\n",
              "      <td>4</td>\n",
              "      <td>0</td>\n",
              "      <td>0.00</td>\n",
              "      <td>2</td>\n",
              "      <td>36</td>\n",
              "    </tr>\n",
              "    <tr>\n",
              "      <th>48892</th>\n",
              "      <td>17488</td>\n",
              "      <td>2</td>\n",
              "      <td>94</td>\n",
              "      <td>40.81475</td>\n",
              "      <td>-73.94867</td>\n",
              "      <td>0</td>\n",
              "      <td>10</td>\n",
              "      <td>0</td>\n",
              "      <td>0.00</td>\n",
              "      <td>1</td>\n",
              "      <td>27</td>\n",
              "    </tr>\n",
              "    <tr>\n",
              "      <th>48893</th>\n",
              "      <td>19748</td>\n",
              "      <td>2</td>\n",
              "      <td>95</td>\n",
              "      <td>40.75751</td>\n",
              "      <td>-73.99112</td>\n",
              "      <td>2</td>\n",
              "      <td>1</td>\n",
              "      <td>0</td>\n",
              "      <td>0.00</td>\n",
              "      <td>6</td>\n",
              "      <td>2</td>\n",
              "    </tr>\n",
              "    <tr>\n",
              "      <th>48894</th>\n",
              "      <td>26349</td>\n",
              "      <td>2</td>\n",
              "      <td>95</td>\n",
              "      <td>40.76404</td>\n",
              "      <td>-73.98933</td>\n",
              "      <td>1</td>\n",
              "      <td>7</td>\n",
              "      <td>0</td>\n",
              "      <td>0.00</td>\n",
              "      <td>1</td>\n",
              "      <td>23</td>\n",
              "    </tr>\n",
              "  </tbody>\n",
              "</table>\n",
              "<p>48895 rows × 11 columns</p>\n",
              "</div>"
            ],
            "text/plain": [
              "       host_id  ...  availability_365\n",
              "0            2  ...               365\n",
              "1            3  ...               355\n",
              "2           13  ...               365\n",
              "3           14  ...               194\n",
              "4           18  ...                 0\n",
              "...        ...  ...               ...\n",
              "48890    10255  ...                 9\n",
              "48891     8945  ...                36\n",
              "48892    17488  ...                27\n",
              "48893    19748  ...                 2\n",
              "48894    26349  ...                23\n",
              "\n",
              "[48895 rows x 11 columns]"
            ]
          },
          "metadata": {
            "tags": []
          },
          "execution_count": 5
        }
      ]
    },
    {
      "cell_type": "code",
      "metadata": {
        "id": "kfAeOwDyNKDV",
        "outputId": "0ce85b5e-1042-4636-ea72-eb026bbe1bfe",
        "colab": {
          "base_uri": "https://localhost:8080/"
        }
      },
      "source": [
        "for i in range(0,df.shape[1]):\n",
        "  print(df.iloc[:,i].describe())\n",
        "  print(\"*\"*30)"
      ],
      "execution_count": 6,
      "outputs": [
        {
          "output_type": "stream",
          "text": [
            "count    48895.000000\n",
            "mean     19477.102055\n",
            "std      10996.357930\n",
            "min          0.000000\n",
            "25%       9964.500000\n",
            "50%      19709.000000\n",
            "75%      29407.000000\n",
            "max      37456.000000\n",
            "Name: host_id, dtype: float64\n",
            "******************************\n",
            "count    48895.000000\n",
            "mean         1.675345\n",
            "std          0.735816\n",
            "min          0.000000\n",
            "25%          1.000000\n",
            "50%          2.000000\n",
            "75%          2.000000\n",
            "max          4.000000\n",
            "Name: neighbourhood_group, dtype: float64\n",
            "******************************\n",
            "count    48895.000000\n",
            "mean       107.122732\n",
            "std         68.743096\n",
            "min          0.000000\n",
            "25%         51.000000\n",
            "50%         94.000000\n",
            "75%        178.000000\n",
            "max        220.000000\n",
            "Name: neighbourhood, dtype: float64\n",
            "******************************\n",
            "count    48895.000000\n",
            "mean        40.728949\n",
            "std          0.054530\n",
            "min         40.499790\n",
            "25%         40.690100\n",
            "50%         40.723070\n",
            "75%         40.763115\n",
            "max         40.913060\n",
            "Name: latitude, dtype: float64\n",
            "******************************\n",
            "count    48895.000000\n",
            "mean       -73.952170\n",
            "std          0.046157\n",
            "min        -74.244420\n",
            "25%        -73.983070\n",
            "50%        -73.955680\n",
            "75%        -73.936275\n",
            "max        -73.712990\n",
            "Name: longitude, dtype: float64\n",
            "******************************\n",
            "count    48895.000000\n",
            "mean         0.504060\n",
            "std          0.545379\n",
            "min          0.000000\n",
            "25%          0.000000\n",
            "50%          0.000000\n",
            "75%          1.000000\n",
            "max          2.000000\n",
            "Name: room_type, dtype: float64\n",
            "******************************\n",
            "count    48895.000000\n",
            "mean       152.720687\n",
            "std        240.154170\n",
            "min          0.000000\n",
            "25%         69.000000\n",
            "50%        106.000000\n",
            "75%        175.000000\n",
            "max      10000.000000\n",
            "Name: price, dtype: float64\n",
            "******************************\n",
            "count    48895.000000\n",
            "mean         7.029962\n",
            "std         20.510550\n",
            "min          1.000000\n",
            "25%          1.000000\n",
            "50%          3.000000\n",
            "75%          5.000000\n",
            "max       1250.000000\n",
            "Name: minimum_nights, dtype: float64\n",
            "******************************\n",
            "count    48895.000000\n",
            "mean        23.274466\n",
            "std         44.550582\n",
            "min          0.000000\n",
            "25%          1.000000\n",
            "50%          5.000000\n",
            "75%         24.000000\n",
            "max        629.000000\n",
            "Name: number_of_reviews, dtype: float64\n",
            "******************************\n",
            "count    48895.000000\n",
            "mean         1.090910\n",
            "std          1.597283\n",
            "min          0.000000\n",
            "25%          0.040000\n",
            "50%          0.370000\n",
            "75%          1.580000\n",
            "max         58.500000\n",
            "Name: reviews_per_month, dtype: float64\n",
            "******************************\n",
            "count    48895.000000\n",
            "mean         7.143982\n",
            "std         32.952519\n",
            "min          1.000000\n",
            "25%          1.000000\n",
            "50%          1.000000\n",
            "75%          2.000000\n",
            "max        327.000000\n",
            "Name: calculated_host_listings_count, dtype: float64\n",
            "******************************\n",
            "count    48895.000000\n",
            "mean       112.781327\n",
            "std        131.622289\n",
            "min          0.000000\n",
            "25%          0.000000\n",
            "50%         45.000000\n",
            "75%        227.000000\n",
            "max        365.000000\n",
            "Name: availability_365, dtype: float64\n",
            "******************************\n"
          ],
          "name": "stdout"
        }
      ]
    },
    {
      "cell_type": "code",
      "metadata": {
        "id": "t9S2Mhr5Gqfu"
      },
      "source": [
        "from sklearn.model_selection import train_test_split\n",
        "from sklearn import preprocessing\n",
        "X_train, X_test, Y_train, Y_test = train_test_split(X,Y,test_size=0.3)"
      ],
      "execution_count": 7,
      "outputs": []
    },
    {
      "cell_type": "markdown",
      "metadata": {
        "id": "lWMa3cLzHtKx"
      },
      "source": [
        "Scaling X with StandardScaler"
      ]
    },
    {
      "cell_type": "code",
      "metadata": {
        "id": "6fcLmlePHng0"
      },
      "source": [
        "scaler = preprocessing.StandardScaler()\n",
        "X_train_ss = scaler.fit_transform(X_train)\n",
        "X_test_ss = scaler.transform(X_test)"
      ],
      "execution_count": 8,
      "outputs": []
    },
    {
      "cell_type": "markdown",
      "metadata": {
        "id": "iEuSoqWpKlEj"
      },
      "source": [
        "Scaling X with MinMaxScaler"
      ]
    },
    {
      "cell_type": "code",
      "metadata": {
        "id": "nWQqQblkKtNO"
      },
      "source": [
        "scaler = preprocessing.MinMaxScaler()\n",
        "X_train_mms = scaler.fit_transform(X_train)\n",
        "X_test_mms = scaler.transform(X_test)"
      ],
      "execution_count": 9,
      "outputs": []
    },
    {
      "cell_type": "markdown",
      "metadata": {
        "id": "5Ic6Y1TLLfrn"
      },
      "source": [
        "Scaling X with MaxAbsScaler"
      ]
    },
    {
      "cell_type": "code",
      "metadata": {
        "id": "R3MF4KtJLka7"
      },
      "source": [
        "scaler = preprocessing.MaxAbsScaler()\n",
        "X_train_mas = scaler.fit_transform(X_train)\n",
        "X_test_mas = scaler.transform(X_test)"
      ],
      "execution_count": 10,
      "outputs": []
    },
    {
      "cell_type": "markdown",
      "metadata": {
        "id": "DFBBF-YuMDD3"
      },
      "source": [
        "Scaling X with RobustScaler"
      ]
    },
    {
      "cell_type": "code",
      "metadata": {
        "id": "6C0d_FuRLykr"
      },
      "source": [
        "scaler = preprocessing.RobustScaler()\n",
        "X_train_rs = scaler.fit_transform(X_train)\n",
        "X_test_rs = scaler.transform(X_test)"
      ],
      "execution_count": 11,
      "outputs": []
    },
    {
      "cell_type": "markdown",
      "metadata": {
        "id": "H2LC2uh2MhN9"
      },
      "source": [
        "Scaling X with PCA"
      ]
    },
    {
      "cell_type": "code",
      "metadata": {
        "id": "4UYpn0nskbk0"
      },
      "source": [
        "from sklearn.decomposition import PCA\n",
        "scaler = PCA(n_components = \"mle\", svd_solver = \"full\")\n",
        "X_train_pca = scaler.fit_transform(X_train)\n",
        "X_test_pca = scaler.transform(X_test)"
      ],
      "execution_count": 12,
      "outputs": []
    },
    {
      "cell_type": "markdown",
      "metadata": {
        "id": "xCSvhG2pOZG1"
      },
      "source": [
        "Mapping X with Uniform distribution"
      ]
    },
    {
      "cell_type": "code",
      "metadata": {
        "id": "3RoSrDsnNpsD"
      },
      "source": [
        "transformer = preprocessing.QuantileTransformer()\n",
        "X_train_u = transformer.fit_transform(X_train)\n",
        "X_test_u = transformer.transform(X_test)"
      ],
      "execution_count": 13,
      "outputs": []
    },
    {
      "cell_type": "markdown",
      "metadata": {
        "id": "VbIhBPToQP8n"
      },
      "source": [
        "Mapping X with Normalize distribution"
      ]
    },
    {
      "cell_type": "code",
      "metadata": {
        "id": "pziaYh-DPuea"
      },
      "source": [
        "transformer = preprocessing.Normalizer(norm = 'l2')\n",
        "X_train_n = transformer.transform(X_train)\n",
        "X_test_n = transformer.transform(X_test)"
      ],
      "execution_count": 14,
      "outputs": []
    },
    {
      "cell_type": "markdown",
      "metadata": {
        "id": "PayJnLa9TYfA"
      },
      "source": [
        "Encoder X with KBin Discretization"
      ]
    },
    {
      "cell_type": "code",
      "metadata": {
        "id": "arypx5ftQqy0"
      },
      "source": [
        "encoder = preprocessing.KBinsDiscretizer(n_bins = 10, strategy = 'uniform')\n",
        "X_train_kbin = encoder.fit_transform(X_train)\n",
        "X_test_kbin = encoder.transform(X_test)"
      ],
      "execution_count": 15,
      "outputs": []
    },
    {
      "cell_type": "markdown",
      "metadata": {
        "id": "4-i6RyDup0XQ"
      },
      "source": [
        "Function to Regression"
      ]
    },
    {
      "cell_type": "code",
      "metadata": {
        "id": "JMUSFhJcXO5v"
      },
      "source": [
        "def SVRmse(X_train,X_test,Y_train,Y_test):\n",
        "  import time\n",
        "  from sklearn import svm\n",
        "  from sklearn.metrics import mean_squared_error\n",
        "  start = time.time()\n",
        "  clf = svm.SVR()\n",
        "  clf.fit(X_train,Y_train)\n",
        "  Y_predict = clf.predict(X_test)\n",
        "  mse = mean_squared_error(Y_test,Y_predict)\n",
        "  end = time.time()\n",
        "  print(\"MSE for Support Vector Regression: {:.4f}\".format(mse))\n",
        "  print(\"Time estimated: \",end-start)\n",
        "  return mse"
      ],
      "execution_count": 16,
      "outputs": []
    },
    {
      "cell_type": "code",
      "metadata": {
        "id": "E_RcHaKZYZdE"
      },
      "source": [
        "def DTRmse(X_train, X_test,Y_train,Y_test):\n",
        "  import time\n",
        "  from sklearn import tree\n",
        "  from sklearn.metrics import mean_squared_error\n",
        "  start = time.time()\n",
        "  clf = tree.DecisionTreeRegressor()\n",
        "  clf.fit(X_train,Y_train)\n",
        "  Y_predict = clf.predict(X_test)\n",
        "  mse = mean_squared_error(Y_test,Y_predict)\n",
        "  end = time.time()\n",
        "  print(\"MSE for Decision Tree Regression: {:.4f}\".format(mse))\n",
        "  print(\"Time estimatimated: \",end-start)\n",
        "  return mse"
      ],
      "execution_count": 17,
      "outputs": []
    },
    {
      "cell_type": "code",
      "metadata": {
        "id": "r0OThwieZx0I"
      },
      "source": [
        "def RFRmse(X_train,X_test,Y_train,Y_test):\n",
        "  import time\n",
        "  from sklearn.ensemble import RandomForestRegressor\n",
        "  from sklearn.metrics import mean_squared_error\n",
        "  start = time.time()\n",
        "  clf = RandomForestRegressor()\n",
        "  clf.fit(X_train,Y_train)\n",
        "  Y_predict = clf.predict(X_test)\n",
        "  mse = mean_squared_error(Y_test,Y_predict)\n",
        "  end = time.time()\n",
        "  print(\"MSE for Random Forest Regression: {:.4f}\".format(mse))\n",
        "  print(\"Time estimated: \",end-start)\n",
        "  return mse"
      ],
      "execution_count": 18,
      "outputs": []
    },
    {
      "cell_type": "code",
      "metadata": {
        "id": "g2OpzG3volT7"
      },
      "source": [
        "def GBRmse(X_train,X_test,Y_train,Y_test):\n",
        "  import time\n",
        "  from sklearn.ensemble import GradientBoostingRegressor\n",
        "  from sklearn.metrics import mean_squared_error\n",
        "  start = time.time()\n",
        "  clf = GradientBoostingRegressor(random_state=0)\n",
        "  clf.fit(X_train,Y_train)\n",
        "  Y_predict = clf.predict(X_test)\n",
        "  mse = mean_squared_error(Y_test,Y_predict)\n",
        "  end = time.time()\n",
        "  print(\"MSE for Gradient Boosting Regressor: {:.4f}\".format(mse))\n",
        "  print(\"Time estimated: \",end-start)\n",
        "  return mse\n"
      ],
      "execution_count": 19,
      "outputs": []
    },
    {
      "cell_type": "code",
      "metadata": {
        "id": "sC5CljW2olR1"
      },
      "source": [
        ""
      ],
      "execution_count": 19,
      "outputs": []
    },
    {
      "cell_type": "code",
      "metadata": {
        "id": "Sjjl6k2mbwei"
      },
      "source": [
        "def Regression(X_train,X_test,Y_train,Y_test):\n",
        "  svr = SVRmse(X_train,X_test,Y_train,Y_test)\n",
        "  dtr = DTRmse(X_train,X_test,Y_train,Y_test)\n",
        "  rfr = RFRmse(X_train,X_test,Y_train,Y_test)\n",
        "  gbr = GBRmse(X_train,X_test,Y_train,Y_test)\n",
        "  print(\"*\"*50)\n",
        "  return np.array([svr,dtr,rfr,gbr])"
      ],
      "execution_count": 20,
      "outputs": []
    },
    {
      "cell_type": "code",
      "metadata": {
        "id": "bLgJ-_c1fVxJ"
      },
      "source": [
        "def Compare(NoneProcessing, Processing):\n",
        "  for i in range(len(NoneProcessing)):\n",
        "    state = \"\"\n",
        "    if (NoneProcessing[i]>Processing[i]):\n",
        "      state = \"Good\"\n",
        "    else:\n",
        "      state = \"Bad\"\n",
        "    switcher = {\n",
        "        0: \"Support Vector Regression\",\n",
        "        1: \"Decision Tree Regression\",\n",
        "        2: \"Random Forest Regression\",\n",
        "        3: \"Gradient Boosting Regression\"\n",
        "    }\n",
        "    print(state + \" \" + switcher.get(i))\n",
        "  print(\"*\"*50)\n",
        "  print(\"*\"*50)\n"
      ],
      "execution_count": 21,
      "outputs": []
    },
    {
      "cell_type": "markdown",
      "metadata": {
        "id": "0pY16Iiep74C"
      },
      "source": [
        "Compare before and after preprocessing"
      ]
    },
    {
      "cell_type": "code",
      "metadata": {
        "id": "E_g-wDfqc3bi",
        "outputId": "54cda485-760b-41fb-b017-a22ac456094d",
        "colab": {
          "base_uri": "https://localhost:8080/"
        }
      },
      "source": [
        "print(\"Regression without preprocessing: \")\n",
        "scores_before = Regression(X_train,X_test,Y_train,Y_test)"
      ],
      "execution_count": 22,
      "outputs": [
        {
          "output_type": "stream",
          "text": [
            "Regression without preprocessing: \n",
            "MSE for Support Vector Regression: 55351.6940\n",
            "Time estimated:  109.72093987464905\n",
            "MSE for Decision Tree Regression: 102892.9463\n",
            "Time estimatimated:  0.4476625919342041\n",
            "MSE for Random Forest Regression: 43281.1442\n",
            "Time estimated:  28.114726781845093\n",
            "MSE for Gradient Boosting Regressor: 44283.4108\n",
            "Time estimated:  7.105589151382446\n",
            "**************************************************\n"
          ],
          "name": "stdout"
        }
      ]
    },
    {
      "cell_type": "code",
      "metadata": {
        "id": "lINCIqtfax1u",
        "outputId": "8b7489b3-f676-4f2a-fcc1-7ddb4cdfa0d2",
        "colab": {
          "base_uri": "https://localhost:8080/"
        }
      },
      "source": [
        "print(\"Regression with StandardScaler: \")\n",
        "scores_after = Regression(X_train_ss,X_test_ss,Y_train,Y_test)\n",
        "Compare(scores_before,scores_after)"
      ],
      "execution_count": 23,
      "outputs": [
        {
          "output_type": "stream",
          "text": [
            "Regression with StandardScaler: \n",
            "MSE for Support Vector Regression: 49171.3547\n",
            "Time estimated:  104.93239426612854\n",
            "MSE for Decision Tree Regression: 92537.4650\n",
            "Time estimatimated:  0.46330952644348145\n",
            "MSE for Random Forest Regression: 42730.4619\n",
            "Time estimated:  28.455687761306763\n",
            "MSE for Gradient Boosting Regressor: 44293.1122\n",
            "Time estimated:  7.353955268859863\n",
            "**************************************************\n",
            "Good Support Vector Regression\n",
            "Good Decision Tree Regression\n",
            "Good Random Forest Regression\n",
            "Bad Gradient Boosting Regression\n",
            "**************************************************\n",
            "**************************************************\n"
          ],
          "name": "stdout"
        }
      ]
    },
    {
      "cell_type": "code",
      "metadata": {
        "id": "g74zCiw4cict",
        "outputId": "bbdb5738-9a1d-45f8-923a-10bccc7c936c",
        "colab": {
          "base_uri": "https://localhost:8080/"
        }
      },
      "source": [
        "print(\"Regression with MinMaxScaler: \")\n",
        "scores_after = Regression(X_train_mms,X_test_mms,Y_train,Y_test)\n",
        "Compare(scores_before,scores_after)"
      ],
      "execution_count": 24,
      "outputs": [
        {
          "output_type": "stream",
          "text": [
            "Regression with MinMaxScaler: \n",
            "MSE for Support Vector Regression: 49748.3575\n",
            "Time estimated:  109.12907671928406\n",
            "MSE for Decision Tree Regression: 94038.2780\n",
            "Time estimatimated:  0.482255220413208\n",
            "MSE for Random Forest Regression: 43489.5086\n",
            "Time estimated:  28.601530075073242\n",
            "MSE for Gradient Boosting Regressor: 44283.4736\n",
            "Time estimated:  7.388197183609009\n",
            "**************************************************\n",
            "Good Support Vector Regression\n",
            "Good Decision Tree Regression\n",
            "Bad Random Forest Regression\n",
            "Bad Gradient Boosting Regression\n",
            "**************************************************\n",
            "**************************************************\n"
          ],
          "name": "stdout"
        }
      ]
    },
    {
      "cell_type": "code",
      "metadata": {
        "id": "fYGm46IsdnX5",
        "outputId": "2ef1cbc6-8e74-45ae-d3ba-9e2b3d02973e",
        "colab": {
          "base_uri": "https://localhost:8080/"
        }
      },
      "source": [
        "print(\"Regression with MaxAbsScaler: \")\n",
        "scores_after = Regression(X_train_mas,X_test_mas,Y_train,Y_test)\n",
        "Compare(scores_before,scores_after)"
      ],
      "execution_count": 25,
      "outputs": [
        {
          "output_type": "stream",
          "text": [
            "Regression with MaxAbsScaler: \n",
            "MSE for Support Vector Regression: 50682.2099\n",
            "Time estimated:  113.13174366950989\n",
            "MSE for Decision Tree Regression: 88355.2650\n",
            "Time estimatimated:  0.46645092964172363\n",
            "MSE for Random Forest Regression: 43369.2612\n",
            "Time estimated:  28.302390098571777\n",
            "MSE for Gradient Boosting Regressor: 44244.6040\n",
            "Time estimated:  7.248213529586792\n",
            "**************************************************\n",
            "Good Support Vector Regression\n",
            "Good Decision Tree Regression\n",
            "Bad Random Forest Regression\n",
            "Good Gradient Boosting Regression\n",
            "**************************************************\n",
            "**************************************************\n"
          ],
          "name": "stdout"
        }
      ]
    },
    {
      "cell_type": "code",
      "metadata": {
        "id": "Ab8L4U-Rd9Rg",
        "outputId": "c0169fba-c27b-495c-f6ec-73b23211b702",
        "colab": {
          "base_uri": "https://localhost:8080/"
        }
      },
      "source": [
        "print(\"Regression with RobustScaler: \")\n",
        "scores_after = Regression(X_train_rs,X_test_rs,Y_train,Y_test)\n",
        "Compare(scores_before,scores_after)"
      ],
      "execution_count": 26,
      "outputs": [
        {
          "output_type": "stream",
          "text": [
            "Regression with RobustScaler: \n",
            "MSE for Support Vector Regression: 53621.8830\n",
            "Time estimated:  119.3638186454773\n",
            "MSE for Decision Tree Regression: 94648.2935\n",
            "Time estimatimated:  0.45986461639404297\n",
            "MSE for Random Forest Regression: 43466.7603\n",
            "Time estimated:  28.575085163116455\n",
            "MSE for Gradient Boosting Regressor: 44283.4726\n",
            "Time estimated:  7.422902822494507\n",
            "**************************************************\n",
            "Good Support Vector Regression\n",
            "Good Decision Tree Regression\n",
            "Bad Random Forest Regression\n",
            "Bad Gradient Boosting Regression\n",
            "**************************************************\n",
            "**************************************************\n"
          ],
          "name": "stdout"
        }
      ]
    },
    {
      "cell_type": "code",
      "metadata": {
        "id": "puRbXGOynmy6",
        "outputId": "9d5bcbd0-7ed7-4ee1-fb91-779c0fdddc1d",
        "colab": {
          "base_uri": "https://localhost:8080/"
        }
      },
      "source": [
        "print(\"Regression with PCA\")\n",
        "scores_after = Regression(X_train_pca,X_test_pca,Y_train,Y_test)\n",
        "Compare(scores_before,scores_after)"
      ],
      "execution_count": 27,
      "outputs": [
        {
          "output_type": "stream",
          "text": [
            "Regression with PCA\n",
            "MSE for Support Vector Regression: 55302.2055\n",
            "Time estimated:  111.0067970752716\n",
            "MSE for Decision Tree Regression: 100470.7602\n",
            "Time estimatimated:  0.869229793548584\n",
            "MSE for Random Forest Regression: 44233.6252\n",
            "Time estimated:  51.36508584022522\n",
            "MSE for Gradient Boosting Regressor: 48232.4116\n",
            "Time estimated:  15.381879568099976\n",
            "**************************************************\n",
            "Good Support Vector Regression\n",
            "Good Decision Tree Regression\n",
            "Bad Random Forest Regression\n",
            "Bad Gradient Boosting Regression\n",
            "**************************************************\n",
            "**************************************************\n"
          ],
          "name": "stdout"
        }
      ]
    },
    {
      "cell_type": "code",
      "metadata": {
        "id": "fMg-yFvcn-m6",
        "outputId": "ab429760-aa30-41a8-8391-063c4d086d06",
        "colab": {
          "base_uri": "https://localhost:8080/"
        }
      },
      "source": [
        "print(\"Regression with Uniform distribution\")\n",
        "scores_after = Regression(X_train_u,X_test_u,Y_train,Y_test)\n",
        "Compare(scores_before,scores_after)"
      ],
      "execution_count": 28,
      "outputs": [
        {
          "output_type": "stream",
          "text": [
            "Regression with Uniform distribution\n",
            "MSE for Support Vector Regression: 48945.4810\n",
            "Time estimated:  105.70454931259155\n",
            "MSE for Decision Tree Regression: 93596.3275\n",
            "Time estimatimated:  0.44654011726379395\n",
            "MSE for Random Forest Regression: 43347.2369\n",
            "Time estimated:  28.556025981903076\n",
            "MSE for Gradient Boosting Regressor: 44283.3956\n",
            "Time estimated:  7.341986417770386\n",
            "**************************************************\n",
            "Good Support Vector Regression\n",
            "Good Decision Tree Regression\n",
            "Bad Random Forest Regression\n",
            "Good Gradient Boosting Regression\n",
            "**************************************************\n",
            "**************************************************\n"
          ],
          "name": "stdout"
        }
      ]
    },
    {
      "cell_type": "code",
      "metadata": {
        "id": "nxVcxhFMo43J",
        "outputId": "8738cdd8-8403-4758-858e-80e5a1cd539f",
        "colab": {
          "base_uri": "https://localhost:8080/"
        }
      },
      "source": [
        "print(\"Regression with Nomalize distribution\")\n",
        "scores_after = Regression(X_train_n,X_test_n,Y_train,Y_test)\n",
        "Compare(scores_before,scores_after)"
      ],
      "execution_count": 29,
      "outputs": [
        {
          "output_type": "stream",
          "text": [
            "Regression with Nomalize distribution\n",
            "MSE for Support Vector Regression: 55464.6680\n",
            "Time estimated:  144.33424758911133\n",
            "MSE for Decision Tree Regression: 107365.3498\n",
            "Time estimatimated:  0.7987663745880127\n",
            "MSE for Random Forest Regression: 49997.9501\n",
            "Time estimated:  44.66296601295471\n",
            "MSE for Gradient Boosting Regressor: 46534.7072\n",
            "Time estimated:  13.247329473495483\n",
            "**************************************************\n",
            "Bad Support Vector Regression\n",
            "Bad Decision Tree Regression\n",
            "Bad Random Forest Regression\n",
            "Bad Gradient Boosting Regression\n",
            "**************************************************\n",
            "**************************************************\n"
          ],
          "name": "stdout"
        }
      ]
    },
    {
      "cell_type": "code",
      "metadata": {
        "id": "CBHrCuUdpQi3",
        "outputId": "a3b15958-e5aa-43f4-e013-269bd0f886a8",
        "colab": {
          "base_uri": "https://localhost:8080/"
        }
      },
      "source": [
        "print(\"Regression with KBinDiscrete\")\n",
        "scores_after = Regression(X_train_kbin,X_test_kbin,Y_train,Y_test)\n",
        "Compare(scores_before,scores_after)"
      ],
      "execution_count": 30,
      "outputs": [
        {
          "output_type": "stream",
          "text": [
            "Regression with KBinDiscrete\n",
            "MSE for Support Vector Regression: 49219.3727\n",
            "Time estimated:  195.1546540260315\n",
            "MSE for Decision Tree Regression: 60012.7507\n",
            "Time estimatimated:  1.6498088836669922\n",
            "MSE for Random Forest Regression: 49526.6325\n",
            "Time estimated:  127.14184927940369\n",
            "MSE for Gradient Boosting Regressor: 46874.5646\n",
            "Time estimated:  3.0620291233062744\n",
            "**************************************************\n",
            "Good Support Vector Regression\n",
            "Good Decision Tree Regression\n",
            "Bad Random Forest Regression\n",
            "Bad Gradient Boosting Regression\n",
            "**************************************************\n",
            "**************************************************\n"
          ],
          "name": "stdout"
        }
      ]
    },
    {
      "cell_type": "code",
      "metadata": {
        "id": "Vi8Ac2C6pl6H"
      },
      "source": [
        ""
      ],
      "execution_count": 30,
      "outputs": []
    }
  ]
}