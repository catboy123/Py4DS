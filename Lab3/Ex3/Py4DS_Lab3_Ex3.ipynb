{
  "nbformat": 4,
  "nbformat_minor": 0,
  "metadata": {
    "colab": {
      "name": "Py4DS_Lab3_Ex3.ipynb",
      "provenance": [],
      "collapsed_sections": [],
      "toc_visible": true
    },
    "kernelspec": {
      "name": "python3",
      "display_name": "Python 3"
    }
  },
  "cells": [
    {
      "cell_type": "markdown",
      "metadata": {
        "id": "TxVUd0zEDfPT"
      },
      "source": [
        "Exercise 3 sẽ chia làm 2 bài:\n",
        "- Ex3 (chưa qua bước pre-processing data) và \n",
        "- Ex3 (đã qua bước pre-processing data).\n",
        "\n",
        "So sánh accuracy."
      ]
    },
    {
      "cell_type": "markdown",
      "metadata": {
        "id": "tpGOnNPTAnzz"
      },
      "source": [
        "\n",
        "\n",
        "---\n",
        "##EXERCISE 3: Not pre-processing data (ignore STEP 1 in Part B)\n"
      ]
    },
    {
      "cell_type": "markdown",
      "metadata": {
        "id": "iLE6F8zjA0K2"
      },
      "source": [
        "#**A. Read and view dataset**"
      ]
    },
    {
      "cell_type": "code",
      "metadata": {
        "id": "lFhJa661ATqJ",
        "outputId": "88498329-3cbf-4d5b-c8b4-53cd9e01c7cc",
        "colab": {
          "base_uri": "https://localhost:8080/",
          "height": 365
        }
      },
      "source": [
        "import numpy as np\n",
        "import pandas as pd\n",
        "\n",
        "df = pd.read_csv(r'/content/drive/My Drive/0. STUDYING Peo Peo/PYTHON/Py4DS/Py4DS_Lab3/Py4DS_Lab3_Dataset/FIFA2018Statistics.csv')\n",
        "df.head()"
      ],
      "execution_count": 52,
      "outputs": [
        {
          "output_type": "execute_result",
          "data": {
            "text/html": [
              "<div>\n",
              "<style scoped>\n",
              "    .dataframe tbody tr th:only-of-type {\n",
              "        vertical-align: middle;\n",
              "    }\n",
              "\n",
              "    .dataframe tbody tr th {\n",
              "        vertical-align: top;\n",
              "    }\n",
              "\n",
              "    .dataframe thead th {\n",
              "        text-align: right;\n",
              "    }\n",
              "</style>\n",
              "<table border=\"1\" class=\"dataframe\">\n",
              "  <thead>\n",
              "    <tr style=\"text-align: right;\">\n",
              "      <th></th>\n",
              "      <th>Date</th>\n",
              "      <th>Team</th>\n",
              "      <th>Opponent</th>\n",
              "      <th>Goal Scored</th>\n",
              "      <th>Ball Possession %</th>\n",
              "      <th>Attempts</th>\n",
              "      <th>On-Target</th>\n",
              "      <th>Off-Target</th>\n",
              "      <th>Blocked</th>\n",
              "      <th>Corners</th>\n",
              "      <th>Offsides</th>\n",
              "      <th>Free Kicks</th>\n",
              "      <th>Saves</th>\n",
              "      <th>Pass Accuracy %</th>\n",
              "      <th>Passes</th>\n",
              "      <th>Distance Covered (Kms)</th>\n",
              "      <th>Fouls Committed</th>\n",
              "      <th>Yellow Card</th>\n",
              "      <th>Yellow &amp; Red</th>\n",
              "      <th>Red</th>\n",
              "      <th>Man of the Match</th>\n",
              "      <th>1st Goal</th>\n",
              "      <th>Round</th>\n",
              "      <th>PSO</th>\n",
              "      <th>Goals in PSO</th>\n",
              "      <th>Own goals</th>\n",
              "      <th>Own goal Time</th>\n",
              "    </tr>\n",
              "  </thead>\n",
              "  <tbody>\n",
              "    <tr>\n",
              "      <th>0</th>\n",
              "      <td>14-06-2018</td>\n",
              "      <td>Russia</td>\n",
              "      <td>Saudi Arabia</td>\n",
              "      <td>5</td>\n",
              "      <td>40</td>\n",
              "      <td>13</td>\n",
              "      <td>7</td>\n",
              "      <td>3</td>\n",
              "      <td>3</td>\n",
              "      <td>6</td>\n",
              "      <td>3</td>\n",
              "      <td>11</td>\n",
              "      <td>0</td>\n",
              "      <td>78</td>\n",
              "      <td>306</td>\n",
              "      <td>118</td>\n",
              "      <td>22</td>\n",
              "      <td>0</td>\n",
              "      <td>0</td>\n",
              "      <td>0</td>\n",
              "      <td>Yes</td>\n",
              "      <td>12.0</td>\n",
              "      <td>Group Stage</td>\n",
              "      <td>No</td>\n",
              "      <td>0</td>\n",
              "      <td>NaN</td>\n",
              "      <td>NaN</td>\n",
              "    </tr>\n",
              "    <tr>\n",
              "      <th>1</th>\n",
              "      <td>14-06-2018</td>\n",
              "      <td>Saudi Arabia</td>\n",
              "      <td>Russia</td>\n",
              "      <td>0</td>\n",
              "      <td>60</td>\n",
              "      <td>6</td>\n",
              "      <td>0</td>\n",
              "      <td>3</td>\n",
              "      <td>3</td>\n",
              "      <td>2</td>\n",
              "      <td>1</td>\n",
              "      <td>25</td>\n",
              "      <td>2</td>\n",
              "      <td>86</td>\n",
              "      <td>511</td>\n",
              "      <td>105</td>\n",
              "      <td>10</td>\n",
              "      <td>0</td>\n",
              "      <td>0</td>\n",
              "      <td>0</td>\n",
              "      <td>No</td>\n",
              "      <td>NaN</td>\n",
              "      <td>Group Stage</td>\n",
              "      <td>No</td>\n",
              "      <td>0</td>\n",
              "      <td>NaN</td>\n",
              "      <td>NaN</td>\n",
              "    </tr>\n",
              "    <tr>\n",
              "      <th>2</th>\n",
              "      <td>15-06-2018</td>\n",
              "      <td>Egypt</td>\n",
              "      <td>Uruguay</td>\n",
              "      <td>0</td>\n",
              "      <td>43</td>\n",
              "      <td>8</td>\n",
              "      <td>3</td>\n",
              "      <td>3</td>\n",
              "      <td>2</td>\n",
              "      <td>0</td>\n",
              "      <td>1</td>\n",
              "      <td>7</td>\n",
              "      <td>3</td>\n",
              "      <td>78</td>\n",
              "      <td>395</td>\n",
              "      <td>112</td>\n",
              "      <td>12</td>\n",
              "      <td>2</td>\n",
              "      <td>0</td>\n",
              "      <td>0</td>\n",
              "      <td>No</td>\n",
              "      <td>NaN</td>\n",
              "      <td>Group Stage</td>\n",
              "      <td>No</td>\n",
              "      <td>0</td>\n",
              "      <td>NaN</td>\n",
              "      <td>NaN</td>\n",
              "    </tr>\n",
              "    <tr>\n",
              "      <th>3</th>\n",
              "      <td>15-06-2018</td>\n",
              "      <td>Uruguay</td>\n",
              "      <td>Egypt</td>\n",
              "      <td>1</td>\n",
              "      <td>57</td>\n",
              "      <td>14</td>\n",
              "      <td>4</td>\n",
              "      <td>6</td>\n",
              "      <td>4</td>\n",
              "      <td>5</td>\n",
              "      <td>1</td>\n",
              "      <td>13</td>\n",
              "      <td>3</td>\n",
              "      <td>86</td>\n",
              "      <td>589</td>\n",
              "      <td>111</td>\n",
              "      <td>6</td>\n",
              "      <td>0</td>\n",
              "      <td>0</td>\n",
              "      <td>0</td>\n",
              "      <td>Yes</td>\n",
              "      <td>89.0</td>\n",
              "      <td>Group Stage</td>\n",
              "      <td>No</td>\n",
              "      <td>0</td>\n",
              "      <td>NaN</td>\n",
              "      <td>NaN</td>\n",
              "    </tr>\n",
              "    <tr>\n",
              "      <th>4</th>\n",
              "      <td>15-06-2018</td>\n",
              "      <td>Morocco</td>\n",
              "      <td>Iran</td>\n",
              "      <td>0</td>\n",
              "      <td>64</td>\n",
              "      <td>13</td>\n",
              "      <td>3</td>\n",
              "      <td>6</td>\n",
              "      <td>4</td>\n",
              "      <td>5</td>\n",
              "      <td>0</td>\n",
              "      <td>14</td>\n",
              "      <td>2</td>\n",
              "      <td>86</td>\n",
              "      <td>433</td>\n",
              "      <td>101</td>\n",
              "      <td>22</td>\n",
              "      <td>1</td>\n",
              "      <td>0</td>\n",
              "      <td>0</td>\n",
              "      <td>No</td>\n",
              "      <td>NaN</td>\n",
              "      <td>Group Stage</td>\n",
              "      <td>No</td>\n",
              "      <td>0</td>\n",
              "      <td>1.0</td>\n",
              "      <td>90.0</td>\n",
              "    </tr>\n",
              "  </tbody>\n",
              "</table>\n",
              "</div>"
            ],
            "text/plain": [
              "         Date          Team  ... Own goals  Own goal Time\n",
              "0  14-06-2018        Russia  ...       NaN            NaN\n",
              "1  14-06-2018  Saudi Arabia  ...       NaN            NaN\n",
              "2  15-06-2018         Egypt  ...       NaN            NaN\n",
              "3  15-06-2018       Uruguay  ...       NaN            NaN\n",
              "4  15-06-2018       Morocco  ...       1.0           90.0\n",
              "\n",
              "[5 rows x 27 columns]"
            ]
          },
          "metadata": {
            "tags": []
          },
          "execution_count": 52
        }
      ]
    },
    {
      "cell_type": "markdown",
      "metadata": {
        "id": "xE31t4J-CGIx"
      },
      "source": [
        "\n",
        "#**B. Processing data**"
      ]
    },
    {
      "cell_type": "code",
      "metadata": {
        "id": "oEQHuLg4QmXY",
        "outputId": "6070ea7e-1575-495a-98a5-a0e899b64ab2",
        "colab": {
          "base_uri": "https://localhost:8080/"
        }
      },
      "source": [
        "df.info()"
      ],
      "execution_count": 53,
      "outputs": [
        {
          "output_type": "stream",
          "text": [
            "<class 'pandas.core.frame.DataFrame'>\n",
            "RangeIndex: 128 entries, 0 to 127\n",
            "Data columns (total 27 columns):\n",
            " #   Column                  Non-Null Count  Dtype  \n",
            "---  ------                  --------------  -----  \n",
            " 0   Date                    128 non-null    object \n",
            " 1   Team                    128 non-null    object \n",
            " 2   Opponent                128 non-null    object \n",
            " 3   Goal Scored             128 non-null    int64  \n",
            " 4   Ball Possession %       128 non-null    int64  \n",
            " 5   Attempts                128 non-null    int64  \n",
            " 6   On-Target               128 non-null    int64  \n",
            " 7   Off-Target              128 non-null    int64  \n",
            " 8   Blocked                 128 non-null    int64  \n",
            " 9   Corners                 128 non-null    int64  \n",
            " 10  Offsides                128 non-null    int64  \n",
            " 11  Free Kicks              128 non-null    int64  \n",
            " 12  Saves                   128 non-null    int64  \n",
            " 13  Pass Accuracy %         128 non-null    int64  \n",
            " 14  Passes                  128 non-null    int64  \n",
            " 15  Distance Covered (Kms)  128 non-null    int64  \n",
            " 16  Fouls Committed         128 non-null    int64  \n",
            " 17  Yellow Card             128 non-null    int64  \n",
            " 18  Yellow & Red            128 non-null    int64  \n",
            " 19  Red                     128 non-null    int64  \n",
            " 20  Man of the Match        128 non-null    object \n",
            " 21  1st Goal                94 non-null     float64\n",
            " 22  Round                   128 non-null    object \n",
            " 23  PSO                     128 non-null    object \n",
            " 24  Goals in PSO            128 non-null    int64  \n",
            " 25  Own goals               12 non-null     float64\n",
            " 26  Own goal Time           12 non-null     float64\n",
            "dtypes: float64(3), int64(18), object(6)\n",
            "memory usage: 27.1+ KB\n"
          ],
          "name": "stdout"
        }
      ]
    },
    {
      "cell_type": "markdown",
      "metadata": {
        "id": "LiBaE_eLdwR1"
      },
      "source": [
        "#**STEP 1: Pre-processing data** ==> Ignore"
      ]
    },
    {
      "cell_type": "markdown",
      "metadata": {
        "id": "4_RHDS5bCd6E"
      },
      "source": [
        "#**STEP 2: EDA** (Explotary Data Analysis)"
      ]
    },
    {
      "cell_type": "markdown",
      "metadata": {
        "id": "9ZhVb_nXFBNT"
      },
      "source": [
        "##**0.Summary-statistic**"
      ]
    },
    {
      "cell_type": "code",
      "metadata": {
        "id": "0yNfUJb-CLhG",
        "outputId": "85998b99-601c-45bb-e14f-b801b24e2929",
        "colab": {
          "base_uri": "https://localhost:8080/",
          "height": 355
        }
      },
      "source": [
        "df.describe()"
      ],
      "execution_count": 54,
      "outputs": [
        {
          "output_type": "execute_result",
          "data": {
            "text/html": [
              "<div>\n",
              "<style scoped>\n",
              "    .dataframe tbody tr th:only-of-type {\n",
              "        vertical-align: middle;\n",
              "    }\n",
              "\n",
              "    .dataframe tbody tr th {\n",
              "        vertical-align: top;\n",
              "    }\n",
              "\n",
              "    .dataframe thead th {\n",
              "        text-align: right;\n",
              "    }\n",
              "</style>\n",
              "<table border=\"1\" class=\"dataframe\">\n",
              "  <thead>\n",
              "    <tr style=\"text-align: right;\">\n",
              "      <th></th>\n",
              "      <th>Goal Scored</th>\n",
              "      <th>Ball Possession %</th>\n",
              "      <th>Attempts</th>\n",
              "      <th>On-Target</th>\n",
              "      <th>Off-Target</th>\n",
              "      <th>Blocked</th>\n",
              "      <th>Corners</th>\n",
              "      <th>Offsides</th>\n",
              "      <th>Free Kicks</th>\n",
              "      <th>Saves</th>\n",
              "      <th>Pass Accuracy %</th>\n",
              "      <th>Passes</th>\n",
              "      <th>Distance Covered (Kms)</th>\n",
              "      <th>Fouls Committed</th>\n",
              "      <th>Yellow Card</th>\n",
              "      <th>Yellow &amp; Red</th>\n",
              "      <th>Red</th>\n",
              "      <th>1st Goal</th>\n",
              "      <th>Goals in PSO</th>\n",
              "      <th>Own goals</th>\n",
              "      <th>Own goal Time</th>\n",
              "    </tr>\n",
              "  </thead>\n",
              "  <tbody>\n",
              "    <tr>\n",
              "      <th>count</th>\n",
              "      <td>128.000000</td>\n",
              "      <td>128.000000</td>\n",
              "      <td>128.000000</td>\n",
              "      <td>128.000000</td>\n",
              "      <td>128.000000</td>\n",
              "      <td>128.000000</td>\n",
              "      <td>128.000000</td>\n",
              "      <td>128.000000</td>\n",
              "      <td>128.000000</td>\n",
              "      <td>128.000000</td>\n",
              "      <td>128.000000</td>\n",
              "      <td>128.000000</td>\n",
              "      <td>128.000000</td>\n",
              "      <td>128.000000</td>\n",
              "      <td>128.000000</td>\n",
              "      <td>128.000000</td>\n",
              "      <td>128.000000</td>\n",
              "      <td>94.000000</td>\n",
              "      <td>128.000000</td>\n",
              "      <td>12.0</td>\n",
              "      <td>12.000000</td>\n",
              "    </tr>\n",
              "    <tr>\n",
              "      <th>mean</th>\n",
              "      <td>1.320312</td>\n",
              "      <td>49.992188</td>\n",
              "      <td>12.593750</td>\n",
              "      <td>3.914062</td>\n",
              "      <td>5.273438</td>\n",
              "      <td>3.359375</td>\n",
              "      <td>4.718750</td>\n",
              "      <td>1.343750</td>\n",
              "      <td>14.890625</td>\n",
              "      <td>2.726562</td>\n",
              "      <td>82.554688</td>\n",
              "      <td>462.648438</td>\n",
              "      <td>106.664062</td>\n",
              "      <td>13.546875</td>\n",
              "      <td>1.695312</td>\n",
              "      <td>0.015625</td>\n",
              "      <td>0.015625</td>\n",
              "      <td>39.457447</td>\n",
              "      <td>0.203125</td>\n",
              "      <td>1.0</td>\n",
              "      <td>45.833333</td>\n",
              "    </tr>\n",
              "    <tr>\n",
              "      <th>std</th>\n",
              "      <td>1.156519</td>\n",
              "      <td>10.444074</td>\n",
              "      <td>5.245827</td>\n",
              "      <td>2.234403</td>\n",
              "      <td>2.409675</td>\n",
              "      <td>2.403195</td>\n",
              "      <td>2.446072</td>\n",
              "      <td>1.193404</td>\n",
              "      <td>4.724262</td>\n",
              "      <td>2.049447</td>\n",
              "      <td>5.933766</td>\n",
              "      <td>151.186311</td>\n",
              "      <td>11.749537</td>\n",
              "      <td>4.619131</td>\n",
              "      <td>1.325454</td>\n",
              "      <td>0.124507</td>\n",
              "      <td>0.124507</td>\n",
              "      <td>24.496506</td>\n",
              "      <td>0.807049</td>\n",
              "      <td>0.0</td>\n",
              "      <td>29.978275</td>\n",
              "    </tr>\n",
              "    <tr>\n",
              "      <th>min</th>\n",
              "      <td>0.000000</td>\n",
              "      <td>25.000000</td>\n",
              "      <td>3.000000</td>\n",
              "      <td>0.000000</td>\n",
              "      <td>1.000000</td>\n",
              "      <td>0.000000</td>\n",
              "      <td>0.000000</td>\n",
              "      <td>0.000000</td>\n",
              "      <td>5.000000</td>\n",
              "      <td>0.000000</td>\n",
              "      <td>67.000000</td>\n",
              "      <td>189.000000</td>\n",
              "      <td>80.000000</td>\n",
              "      <td>5.000000</td>\n",
              "      <td>0.000000</td>\n",
              "      <td>0.000000</td>\n",
              "      <td>0.000000</td>\n",
              "      <td>1.000000</td>\n",
              "      <td>0.000000</td>\n",
              "      <td>1.0</td>\n",
              "      <td>12.000000</td>\n",
              "    </tr>\n",
              "    <tr>\n",
              "      <th>25%</th>\n",
              "      <td>0.000000</td>\n",
              "      <td>42.000000</td>\n",
              "      <td>9.000000</td>\n",
              "      <td>2.000000</td>\n",
              "      <td>4.000000</td>\n",
              "      <td>1.750000</td>\n",
              "      <td>3.000000</td>\n",
              "      <td>0.000000</td>\n",
              "      <td>11.000000</td>\n",
              "      <td>1.000000</td>\n",
              "      <td>79.000000</td>\n",
              "      <td>351.000000</td>\n",
              "      <td>101.000000</td>\n",
              "      <td>10.000000</td>\n",
              "      <td>1.000000</td>\n",
              "      <td>0.000000</td>\n",
              "      <td>0.000000</td>\n",
              "      <td>18.250000</td>\n",
              "      <td>0.000000</td>\n",
              "      <td>1.0</td>\n",
              "      <td>21.750000</td>\n",
              "    </tr>\n",
              "    <tr>\n",
              "      <th>50%</th>\n",
              "      <td>1.000000</td>\n",
              "      <td>50.000000</td>\n",
              "      <td>12.000000</td>\n",
              "      <td>3.500000</td>\n",
              "      <td>5.000000</td>\n",
              "      <td>3.000000</td>\n",
              "      <td>5.000000</td>\n",
              "      <td>1.000000</td>\n",
              "      <td>15.000000</td>\n",
              "      <td>2.000000</td>\n",
              "      <td>83.000000</td>\n",
              "      <td>462.000000</td>\n",
              "      <td>104.500000</td>\n",
              "      <td>13.000000</td>\n",
              "      <td>2.000000</td>\n",
              "      <td>0.000000</td>\n",
              "      <td>0.000000</td>\n",
              "      <td>39.000000</td>\n",
              "      <td>0.000000</td>\n",
              "      <td>1.0</td>\n",
              "      <td>35.000000</td>\n",
              "    </tr>\n",
              "    <tr>\n",
              "      <th>75%</th>\n",
              "      <td>2.000000</td>\n",
              "      <td>58.000000</td>\n",
              "      <td>15.000000</td>\n",
              "      <td>5.000000</td>\n",
              "      <td>7.000000</td>\n",
              "      <td>4.000000</td>\n",
              "      <td>6.000000</td>\n",
              "      <td>2.000000</td>\n",
              "      <td>18.000000</td>\n",
              "      <td>4.000000</td>\n",
              "      <td>87.000000</td>\n",
              "      <td>555.250000</td>\n",
              "      <td>109.000000</td>\n",
              "      <td>16.000000</td>\n",
              "      <td>2.000000</td>\n",
              "      <td>0.000000</td>\n",
              "      <td>0.000000</td>\n",
              "      <td>54.750000</td>\n",
              "      <td>0.000000</td>\n",
              "      <td>1.0</td>\n",
              "      <td>75.750000</td>\n",
              "    </tr>\n",
              "    <tr>\n",
              "      <th>max</th>\n",
              "      <td>6.000000</td>\n",
              "      <td>75.000000</td>\n",
              "      <td>26.000000</td>\n",
              "      <td>12.000000</td>\n",
              "      <td>11.000000</td>\n",
              "      <td>10.000000</td>\n",
              "      <td>11.000000</td>\n",
              "      <td>5.000000</td>\n",
              "      <td>26.000000</td>\n",
              "      <td>9.000000</td>\n",
              "      <td>94.000000</td>\n",
              "      <td>1137.000000</td>\n",
              "      <td>148.000000</td>\n",
              "      <td>25.000000</td>\n",
              "      <td>6.000000</td>\n",
              "      <td>1.000000</td>\n",
              "      <td>1.000000</td>\n",
              "      <td>90.000000</td>\n",
              "      <td>4.000000</td>\n",
              "      <td>1.0</td>\n",
              "      <td>90.000000</td>\n",
              "    </tr>\n",
              "  </tbody>\n",
              "</table>\n",
              "</div>"
            ],
            "text/plain": [
              "       Goal Scored  Ball Possession %  ...  Own goals  Own goal Time\n",
              "count   128.000000         128.000000  ...       12.0      12.000000\n",
              "mean      1.320312          49.992188  ...        1.0      45.833333\n",
              "std       1.156519          10.444074  ...        0.0      29.978275\n",
              "min       0.000000          25.000000  ...        1.0      12.000000\n",
              "25%       0.000000          42.000000  ...        1.0      21.750000\n",
              "50%       1.000000          50.000000  ...        1.0      35.000000\n",
              "75%       2.000000          58.000000  ...        1.0      75.750000\n",
              "max       6.000000          75.000000  ...        1.0      90.000000\n",
              "\n",
              "[8 rows x 21 columns]"
            ]
          },
          "metadata": {
            "tags": []
          },
          "execution_count": 54
        }
      ]
    },
    {
      "cell_type": "markdown",
      "metadata": {
        "id": "ARngc9uKFE27"
      },
      "source": [
        "##**1. Biểu đồ cột - histogram.**  (Feature: 'Fouls Committed')"
      ]
    },
    {
      "cell_type": "code",
      "metadata": {
        "id": "FwjW_EKrFdhv",
        "outputId": "a0adc9ff-c207-414c-fbb6-154a0edc22db",
        "colab": {
          "base_uri": "https://localhost:8080/",
          "height": 285
        }
      },
      "source": [
        "df['Fouls Committed'].hist(bins = 10)"
      ],
      "execution_count": 55,
      "outputs": [
        {
          "output_type": "execute_result",
          "data": {
            "text/plain": [
              "<matplotlib.axes._subplots.AxesSubplot at 0x7f5af134aac8>"
            ]
          },
          "metadata": {
            "tags": []
          },
          "execution_count": 55
        },
        {
          "output_type": "display_data",
          "data": {
            "image/png": "[encoded data removed]",
            "text/plain": [
              "<Figure size 432x288 with 1 Axes>"
            ]
          },
          "metadata": {
            "tags": [],
            "needs_background": "light"
          }
        }
      ]
    },
    {
      "cell_type": "markdown",
      "metadata": {
        "id": "GlrmzOyYMSZ4"
      },
      "source": [
        "**Comomments:**\n",
        "\n",
        "Trục tung y_axis đếm số dữ liệu rơi vào cột nào đó (chính là 1 khoảng của trục hoành x_axis).\n",
        "\n",
        "\n",
        "Trong 128 đội có:\n",
        "- 24 đội: phạm lỗi khoảng [13,15] lần ==> Đây là vùng số lỗi có nhiều quốc gia phạm phải nhất.  Chiếm khoảng 19%\n",
        "- 3 đội: phạm lỗi khoảng [21,13] lần \n",
        "\n",
        "\n"
      ]
    },
    {
      "cell_type": "markdown",
      "metadata": {
        "id": "SQ-fABHpTr37"
      },
      "source": [
        "##**2. Box-plot.  Biểu đồ hình hộp**  (Feature: 'Yellow Card')"
      ]
    },
    {
      "cell_type": "code",
      "metadata": {
        "id": "A0gxWQL0TzmO",
        "outputId": "8cc1a1d3-dd15-42bf-8b60-7f55be3b597a",
        "colab": {
          "base_uri": "https://localhost:8080/",
          "height": 639
        }
      },
      "source": [
        "df['Yellow Card'].plot(kind = 'box', figsize = (4, 8));\n",
        "print(df['Yellow Card'].describe())"
      ],
      "execution_count": 56,
      "outputs": [
        {
          "output_type": "stream",
          "text": [
            "count    128.000000\n",
            "mean       1.695312\n",
            "std        1.325454\n",
            "min        0.000000\n",
            "25%        1.000000\n",
            "50%        2.000000\n",
            "75%        2.000000\n",
            "max        6.000000\n",
            "Name: Yellow Card, dtype: float64\n"
          ],
          "name": "stdout"
        },
        {
          "output_type": "display_data",
          "data": {
            "image/png": "[encoded data removed]",
            "text/plain": [
              "<Figure size 288x576 with 1 Axes>"
            ]
          },
          "metadata": {
            "tags": [],
            "needs_background": "light"
          }
        }
      ]
    },
    {
      "cell_type": "markdown",
      "metadata": {
        "id": "Hkazz8Q8Uzl6"
      },
      "source": [
        "**Comments:**\n",
        "\n",
        "Feature 'Yellow Card' has outliers\n"
      ]
    },
    {
      "cell_type": "markdown",
      "metadata": {
        "id": "N5niQsgBW30L"
      },
      "source": [
        "##**3. Heat-map. Biểu đồ nhiệt.**"
      ]
    },
    {
      "cell_type": "code",
      "metadata": {
        "id": "V9RTu7_4W84B",
        "outputId": "d6246a5d-e4f3-4fa0-980c-8fa8451e0fc0",
        "colab": {
          "base_uri": "https://localhost:8080/",
          "height": 828
        }
      },
      "source": [
        "import seaborn as sns\n",
        "import matplotlib.pyplot as plt\n",
        "\n",
        "fig, ax = plt.subplots(nrows = 1, ncols = 1, figsize = (12, 12))\n",
        "corr = df.corr()\n",
        "sns.heatmap(corr, cmap='coolwarm_r', annot_kws={'size':20}, ax=ax)\n",
        "ax.set_title(\"Correlation Matrix\", fontsize=14);"
      ],
      "execution_count": 57,
      "outputs": [
        {
          "output_type": "display_data",
          "data": {
            "image/png": "[encoded data removed]",
            "text/plain": [
              "<Figure size 864x864 with 2 Axes>"
            ]
          },
          "metadata": {
            "tags": [],
            "needs_background": "light"
          }
        }
      ]
    },
    {
      "cell_type": "markdown",
      "metadata": {
        "id": "6VRKimlCZxAx"
      },
      "source": [
        "#**C. Train-Test**"
      ]
    },
    {
      "cell_type": "markdown",
      "metadata": {
        "id": "0L7mSu7QbyIv"
      },
      "source": [
        "**Xử lý các dữ liệu category**"
      ]
    },
    {
      "cell_type": "code",
      "metadata": {
        "id": "46sWQJjBasM6",
        "outputId": "04ace8c1-cf52-4fdc-c014-52bed9c18912",
        "colab": {
          "base_uri": "https://localhost:8080/"
        }
      },
      "source": [
        "cleaned_data  = pd.get_dummies(df)\n",
        "cleaned_data.shape"
      ],
      "execution_count": 58,
      "outputs": [
        {
          "output_type": "execute_result",
          "data": {
            "text/plain": [
              "(128, 120)"
            ]
          },
          "metadata": {
            "tags": []
          },
          "execution_count": 58
        }
      ]
    },
    {
      "cell_type": "markdown",
      "metadata": {
        "id": "8NNaVQlbb1zW"
      },
      "source": [
        "**Chuyển hóa Encoder**"
      ]
    },
    {
      "cell_type": "code",
      "metadata": {
        "id": "dI8f3zYnbpxG",
        "outputId": "37b4b24a-20a2-42b2-8e59-61478a457225",
        "colab": {
          "base_uri": "https://localhost:8080/",
          "height": 278
        }
      },
      "source": [
        "from sklearn.preprocessing import LabelEncoder\n",
        "df = df.apply(LabelEncoder().fit_transform)\n",
        "df.head()"
      ],
      "execution_count": 59,
      "outputs": [
        {
          "output_type": "execute_result",
          "data": {
            "text/html": [
              "<div>\n",
              "<style scoped>\n",
              "    .dataframe tbody tr th:only-of-type {\n",
              "        vertical-align: middle;\n",
              "    }\n",
              "\n",
              "    .dataframe tbody tr th {\n",
              "        vertical-align: top;\n",
              "    }\n",
              "\n",
              "    .dataframe thead th {\n",
              "        text-align: right;\n",
              "    }\n",
              "</style>\n",
              "<table border=\"1\" class=\"dataframe\">\n",
              "  <thead>\n",
              "    <tr style=\"text-align: right;\">\n",
              "      <th></th>\n",
              "      <th>Date</th>\n",
              "      <th>Team</th>\n",
              "      <th>Opponent</th>\n",
              "      <th>Goal Scored</th>\n",
              "      <th>Ball Possession %</th>\n",
              "      <th>Attempts</th>\n",
              "      <th>On-Target</th>\n",
              "      <th>Off-Target</th>\n",
              "      <th>Blocked</th>\n",
              "      <th>Corners</th>\n",
              "      <th>Offsides</th>\n",
              "      <th>Free Kicks</th>\n",
              "      <th>Saves</th>\n",
              "      <th>Pass Accuracy %</th>\n",
              "      <th>Passes</th>\n",
              "      <th>Distance Covered (Kms)</th>\n",
              "      <th>Fouls Committed</th>\n",
              "      <th>Yellow Card</th>\n",
              "      <th>Yellow &amp; Red</th>\n",
              "      <th>Red</th>\n",
              "      <th>Man of the Match</th>\n",
              "      <th>1st Goal</th>\n",
              "      <th>Round</th>\n",
              "      <th>PSO</th>\n",
              "      <th>Goals in PSO</th>\n",
              "      <th>Own goals</th>\n",
              "      <th>Own goal Time</th>\n",
              "    </tr>\n",
              "  </thead>\n",
              "  <tbody>\n",
              "    <tr>\n",
              "      <th>0</th>\n",
              "      <td>7</td>\n",
              "      <td>23</td>\n",
              "      <td>24</td>\n",
              "      <td>5</td>\n",
              "      <td>11</td>\n",
              "      <td>10</td>\n",
              "      <td>7</td>\n",
              "      <td>2</td>\n",
              "      <td>3</td>\n",
              "      <td>6</td>\n",
              "      <td>3</td>\n",
              "      <td>5</td>\n",
              "      <td>0</td>\n",
              "      <td>8</td>\n",
              "      <td>15</td>\n",
              "      <td>26</td>\n",
              "      <td>17</td>\n",
              "      <td>0</td>\n",
              "      <td>0</td>\n",
              "      <td>0</td>\n",
              "      <td>1</td>\n",
              "      <td>8</td>\n",
              "      <td>2</td>\n",
              "      <td>0</td>\n",
              "      <td>0</td>\n",
              "      <td>25</td>\n",
              "      <td>35</td>\n",
              "    </tr>\n",
              "    <tr>\n",
              "      <th>1</th>\n",
              "      <td>7</td>\n",
              "      <td>24</td>\n",
              "      <td>23</td>\n",
              "      <td>0</td>\n",
              "      <td>31</td>\n",
              "      <td>3</td>\n",
              "      <td>0</td>\n",
              "      <td>2</td>\n",
              "      <td>3</td>\n",
              "      <td>2</td>\n",
              "      <td>1</td>\n",
              "      <td>19</td>\n",
              "      <td>2</td>\n",
              "      <td>16</td>\n",
              "      <td>68</td>\n",
              "      <td>15</td>\n",
              "      <td>5</td>\n",
              "      <td>0</td>\n",
              "      <td>0</td>\n",
              "      <td>0</td>\n",
              "      <td>0</td>\n",
              "      <td>68</td>\n",
              "      <td>2</td>\n",
              "      <td>0</td>\n",
              "      <td>0</td>\n",
              "      <td>83</td>\n",
              "      <td>93</td>\n",
              "    </tr>\n",
              "    <tr>\n",
              "      <th>2</th>\n",
              "      <td>9</td>\n",
              "      <td>8</td>\n",
              "      <td>31</td>\n",
              "      <td>0</td>\n",
              "      <td>14</td>\n",
              "      <td>5</td>\n",
              "      <td>3</td>\n",
              "      <td>2</td>\n",
              "      <td>2</td>\n",
              "      <td>0</td>\n",
              "      <td>1</td>\n",
              "      <td>2</td>\n",
              "      <td>3</td>\n",
              "      <td>8</td>\n",
              "      <td>40</td>\n",
              "      <td>22</td>\n",
              "      <td>7</td>\n",
              "      <td>2</td>\n",
              "      <td>0</td>\n",
              "      <td>0</td>\n",
              "      <td>0</td>\n",
              "      <td>67</td>\n",
              "      <td>2</td>\n",
              "      <td>0</td>\n",
              "      <td>0</td>\n",
              "      <td>82</td>\n",
              "      <td>92</td>\n",
              "    </tr>\n",
              "    <tr>\n",
              "      <th>3</th>\n",
              "      <td>9</td>\n",
              "      <td>31</td>\n",
              "      <td>8</td>\n",
              "      <td>1</td>\n",
              "      <td>28</td>\n",
              "      <td>11</td>\n",
              "      <td>4</td>\n",
              "      <td>5</td>\n",
              "      <td>4</td>\n",
              "      <td>5</td>\n",
              "      <td>1</td>\n",
              "      <td>7</td>\n",
              "      <td>3</td>\n",
              "      <td>16</td>\n",
              "      <td>86</td>\n",
              "      <td>21</td>\n",
              "      <td>1</td>\n",
              "      <td>0</td>\n",
              "      <td>0</td>\n",
              "      <td>0</td>\n",
              "      <td>1</td>\n",
              "      <td>54</td>\n",
              "      <td>2</td>\n",
              "      <td>0</td>\n",
              "      <td>0</td>\n",
              "      <td>81</td>\n",
              "      <td>91</td>\n",
              "    </tr>\n",
              "    <tr>\n",
              "      <th>4</th>\n",
              "      <td>9</td>\n",
              "      <td>17</td>\n",
              "      <td>13</td>\n",
              "      <td>0</td>\n",
              "      <td>35</td>\n",
              "      <td>10</td>\n",
              "      <td>3</td>\n",
              "      <td>5</td>\n",
              "      <td>4</td>\n",
              "      <td>5</td>\n",
              "      <td>0</td>\n",
              "      <td>8</td>\n",
              "      <td>2</td>\n",
              "      <td>16</td>\n",
              "      <td>49</td>\n",
              "      <td>11</td>\n",
              "      <td>17</td>\n",
              "      <td>1</td>\n",
              "      <td>0</td>\n",
              "      <td>0</td>\n",
              "      <td>0</td>\n",
              "      <td>83</td>\n",
              "      <td>2</td>\n",
              "      <td>0</td>\n",
              "      <td>0</td>\n",
              "      <td>0</td>\n",
              "      <td>10</td>\n",
              "    </tr>\n",
              "  </tbody>\n",
              "</table>\n",
              "</div>"
            ],
            "text/plain": [
              "   Date  Team  Opponent  ...  Goals in PSO  Own goals  Own goal Time\n",
              "0     7    23        24  ...             0         25             35\n",
              "1     7    24        23  ...             0         83             93\n",
              "2     9     8        31  ...             0         82             92\n",
              "3     9    31         8  ...             0         81             91\n",
              "4     9    17        13  ...             0          0             10\n",
              "\n",
              "[5 rows x 27 columns]"
            ]
          },
          "metadata": {
            "tags": []
          },
          "execution_count": 59
        }
      ]
    },
    {
      "cell_type": "markdown",
      "metadata": {
        "id": "il5dNpc8cFxs"
      },
      "source": [
        "##**1. Tách dữ liệu**\n"
      ]
    },
    {
      "cell_type": "code",
      "metadata": {
        "id": "SrLRpBElcrWc"
      },
      "source": [
        "X = df.drop(['Man of the Match'], axis = 1)\n",
        "y = df['Man of the Match']"
      ],
      "execution_count": 60,
      "outputs": []
    },
    {
      "cell_type": "markdown",
      "metadata": {
        "id": "4V5_K7DgdJd0"
      },
      "source": [
        "##**2. Train - Test**"
      ]
    },
    {
      "cell_type": "code",
      "metadata": {
        "id": "MS_YvZYkdQg5"
      },
      "source": [
        "from sklearn.model_selection import train_test_split\n",
        "X_train, X_test, y_train, y_test = train_test_split(X, y, test_size = 0.2, random_state = 42)"
      ],
      "execution_count": 61,
      "outputs": []
    },
    {
      "cell_type": "markdown",
      "metadata": {
        "id": "CqxUQEkIdcWu"
      },
      "source": [
        "#**D. Choose model**"
      ]
    },
    {
      "cell_type": "markdown",
      "metadata": {
        "id": "DvHecWc7e9Zq"
      },
      "source": [
        "##**1. Model: Support Vector Machine (SVM)**"
      ]
    },
    {
      "cell_type": "code",
      "metadata": {
        "id": "8ZYo1a79db0n",
        "outputId": "485c6171-bb17-408f-c5c3-93085d8ca820",
        "colab": {
          "base_uri": "https://localhost:8080/"
        }
      },
      "source": [
        "from sklearn.svm import SVC\n",
        "from sklearn.metrics import accuracy_score, confusion_matrix,classification_report\n",
        "\n",
        "clf_svm = SVC(kernel = 'poly', C = 10)   \n",
        "clf_svm.fit(X_train, y_train)\n",
        "\n",
        "print(\"Support Vector Machine\")\n",
        "print(\"\\ntrain accuracy: \", accuracy_score(y_train, clf_svm.predict(X_train)))\n",
        "print(\"test accuracy: \", accuracy_score(y_test, clf_svm.predict(X_test)))\n",
        "print('\\nConfusion matrix : \\n', confusion_matrix(y_test, clf_svm.predict(X_test)))\n",
        "print('Classification report : \\n', classification_report(y_test, clf_svm.predict(X_test), digits = 5))"
      ],
      "execution_count": 62,
      "outputs": [
        {
          "output_type": "stream",
          "text": [
            "Support Vector Machine\n",
            "\n",
            "train accuracy:  0.803921568627451\n",
            "test accuracy:  0.5769230769230769\n",
            "\n",
            "Confusion matrix : \n",
            " [[ 5  6]\n",
            " [ 5 10]]\n",
            "Classification report : \n",
            "               precision    recall  f1-score   support\n",
            "\n",
            "           0    0.50000   0.45455   0.47619        11\n",
            "           1    0.62500   0.66667   0.64516        15\n",
            "\n",
            "    accuracy                        0.57692        26\n",
            "   macro avg    0.56250   0.56061   0.56068        26\n",
            "weighted avg    0.57212   0.57692   0.57367        26\n",
            "\n"
          ],
          "name": "stdout"
        }
      ]
    },
    {
      "cell_type": "markdown",
      "metadata": {
        "id": "ChGLn0r5ewpv"
      },
      "source": [
        "##**2. Model: Decision Tree Classifier**"
      ]
    },
    {
      "cell_type": "code",
      "metadata": {
        "id": "bYYASlZ_exFc",
        "outputId": "f4840744-4dc3-419c-9578-a9f62884a69d",
        "colab": {
          "base_uri": "https://localhost:8080/"
        }
      },
      "source": [
        "from sklearn.tree import DecisionTreeClassifier\n",
        "from sklearn.metrics import accuracy_score, confusion_matrix,classification_report\n",
        "\n",
        "clf = DecisionTreeClassifier()\n",
        "clf.fit(X_train,y_train)\n",
        "\n",
        "print(\"Decision Tree Classifier\")\n",
        "print(\"\\ntrain accuracy: \", accuracy_score(y_train, clf.predict(X_train)))\n",
        "print(\"test acccuracy: \", accuracy_score(y_test, clf.predict(X_test)))\n",
        "print('\\nConfusion matrix : \\n', confusion_matrix(y_test, clf.predict(X_test)))\n",
        "print('Classification report : \\n', classification_report(y_test, clf.predict(X_test), digits = 5))"
      ],
      "execution_count": 63,
      "outputs": [
        {
          "output_type": "stream",
          "text": [
            "Decision Tree Classifier\n",
            "\n",
            "train accuracy:  1.0\n",
            "test acccuracy:  0.6538461538461539\n",
            "\n",
            "Confusion matrix : \n",
            " [[8 3]\n",
            " [6 9]]\n",
            "Classification report : \n",
            "               precision    recall  f1-score   support\n",
            "\n",
            "           0    0.57143   0.72727   0.64000        11\n",
            "           1    0.75000   0.60000   0.66667        15\n",
            "\n",
            "    accuracy                        0.65385        26\n",
            "   macro avg    0.66071   0.66364   0.65333        26\n",
            "weighted avg    0.67445   0.65385   0.65538        26\n",
            "\n"
          ],
          "name": "stdout"
        }
      ]
    },
    {
      "cell_type": "markdown",
      "metadata": {
        "id": "BNcSKYD4faEu"
      },
      "source": [
        "##**3. Model: Random Forest Classifier**"
      ]
    },
    {
      "cell_type": "code",
      "metadata": {
        "id": "Z0UWGsSbfYUJ",
        "outputId": "85debd51-3903-4cca-fe78-a53abb168b52",
        "colab": {
          "base_uri": "https://localhost:8080/"
        }
      },
      "source": [
        "from sklearn.ensemble import RandomForestClassifier\n",
        "from sklearn.metrics import accuracy_score, confusion_matrix,classification_report\n",
        "\n",
        "clf = RandomForestClassifier()\n",
        "clf.fit(X_train,y_train)\n",
        "\n",
        "print(\"Random Forest Classifier\")\n",
        "print(\"\\ntrain acc: \", accuracy_score(y_train, clf.predict(X_train)))\n",
        "print(\"test acc: \", accuracy_score(y_test, clf.predict(X_test)))\n",
        "print('\\nConfusion matrix : \\n', confusion_matrix(y_test, clf.predict(X_test)))\n",
        "print('Classification report : \\n', classification_report(y_test, clf.predict(X_test), digits = 5))"
      ],
      "execution_count": 64,
      "outputs": [
        {
          "output_type": "stream",
          "text": [
            "Random Forest Classifier\n",
            "\n",
            "train acc:  1.0\n",
            "test acc:  0.6538461538461539\n",
            "\n",
            "Confusion matrix : \n",
            " [[8 3]\n",
            " [6 9]]\n",
            "Classification report : \n",
            "               precision    recall  f1-score   support\n",
            "\n",
            "           0    0.57143   0.72727   0.64000        11\n",
            "           1    0.75000   0.60000   0.66667        15\n",
            "\n",
            "    accuracy                        0.65385        26\n",
            "   macro avg    0.66071   0.66364   0.65333        26\n",
            "weighted avg    0.67445   0.65385   0.65538        26\n",
            "\n"
          ],
          "name": "stdout"
        }
      ]
    },
    {
      "cell_type": "markdown",
      "metadata": {
        "id": "SMTCF3Ihf6t_"
      },
      "source": [
        "##**4. Model: Logistic Regression**"
      ]
    },
    {
      "cell_type": "code",
      "metadata": {
        "id": "fuZ2X9DYf5-y",
        "outputId": "11301e32-3ea6-41ff-b1f9-328c3ea719d0",
        "colab": {
          "base_uri": "https://localhost:8080/"
        }
      },
      "source": [
        "from sklearn.linear_model import LogisticRegression\n",
        "from sklearn.metrics import accuracy_score, confusion_matrix,classification_report\n",
        "\n",
        "clf = LogisticRegression(max_iter = len(y_train))\n",
        "clf.fit(X_train,y_train)\n",
        "\n",
        "print(\"Logistic Regression\")\n",
        "print(\"\\ntrain acc: \", accuracy_score(y_train, clf.predict(X_train)))\n",
        "print(\"test acc: \", accuracy_score(y_test, clf.predict(X_test)))\n",
        "print('\\nConfusion matrix : \\n', confusion_matrix(y_test, clf.predict(X_test)))\n",
        "print('Classification report : \\n', classification_report(y_test, clf.predict(X_test), digits = 5))"
      ],
      "execution_count": 65,
      "outputs": [
        {
          "output_type": "stream",
          "text": [
            "Logistic Regression\n",
            "\n",
            "train acc:  0.7647058823529411\n",
            "test acc:  0.5769230769230769\n",
            "\n",
            "Confusion matrix : \n",
            " [[7 4]\n",
            " [7 8]]\n",
            "Classification report : \n",
            "               precision    recall  f1-score   support\n",
            "\n",
            "           0    0.50000   0.63636   0.56000        11\n",
            "           1    0.66667   0.53333   0.59259        15\n",
            "\n",
            "    accuracy                        0.57692        26\n",
            "   macro avg    0.58333   0.58485   0.57630        26\n",
            "weighted avg    0.59615   0.57692   0.57880        26\n",
            "\n"
          ],
          "name": "stdout"
        },
        {
          "output_type": "stream",
          "text": [
            "/usr/local/lib/python3.6/dist-packages/sklearn/linear_model/_logistic.py:940: ConvergenceWarning: lbfgs failed to converge (status=1):\n",
            "STOP: TOTAL NO. of ITERATIONS REACHED LIMIT.\n",
            "\n",
            "Increase the number of iterations (max_iter) or scale the data as shown in:\n",
            "    https://scikit-learn.org/stable/modules/preprocessing.html\n",
            "Please also refer to the documentation for alternative solver options:\n",
            "    https://scikit-learn.org/stable/modules/linear_model.html#logistic-regression\n",
            "  extra_warning_msg=_LOGISTIC_SOLVER_CONVERGENCE_MSG)\n"
          ],
          "name": "stderr"
        }
      ]
    },
    {
      "cell_type": "markdown",
      "metadata": {
        "id": "janvzk4OgBxe"
      },
      "source": [
        "\n",
        "\n",
        "---\n",
        "#EXERCISE 3: Having pre-processing data \n"
      ]
    },
    {
      "cell_type": "markdown",
      "metadata": {
        "id": "njOySvpbgJA3"
      },
      "source": [
        "#**A. Read and view dataset**"
      ]
    },
    {
      "cell_type": "code",
      "metadata": {
        "id": "OS-yun4DgY-q",
        "outputId": "9ed557a4-6e40-47bc-ceea-07eb394b4a0c",
        "colab": {
          "base_uri": "https://localhost:8080/",
          "height": 365
        }
      },
      "source": [
        "import numpy as np\n",
        "import pandas as pd\n",
        "\n",
        "df = pd.read_csv(r'/content/drive/My Drive/0. STUDYING Peo Peo/PYTHON/Py4DS/Py4DS_Lab3/Py4DS_Lab3_Dataset/FIFA2018Statistics.csv')\n",
        "df.head()"
      ],
      "execution_count": 66,
      "outputs": [
        {
          "output_type": "execute_result",
          "data": {
            "text/html": [
              "<div>\n",
              "<style scoped>\n",
              "    .dataframe tbody tr th:only-of-type {\n",
              "        vertical-align: middle;\n",
              "    }\n",
              "\n",
              "    .dataframe tbody tr th {\n",
              "        vertical-align: top;\n",
              "    }\n",
              "\n",
              "    .dataframe thead th {\n",
              "        text-align: right;\n",
              "    }\n",
              "</style>\n",
              "<table border=\"1\" class=\"dataframe\">\n",
              "  <thead>\n",
              "    <tr style=\"text-align: right;\">\n",
              "      <th></th>\n",
              "      <th>Date</th>\n",
              "      <th>Team</th>\n",
              "      <th>Opponent</th>\n",
              "      <th>Goal Scored</th>\n",
              "      <th>Ball Possession %</th>\n",
              "      <th>Attempts</th>\n",
              "      <th>On-Target</th>\n",
              "      <th>Off-Target</th>\n",
              "      <th>Blocked</th>\n",
              "      <th>Corners</th>\n",
              "      <th>Offsides</th>\n",
              "      <th>Free Kicks</th>\n",
              "      <th>Saves</th>\n",
              "      <th>Pass Accuracy %</th>\n",
              "      <th>Passes</th>\n",
              "      <th>Distance Covered (Kms)</th>\n",
              "      <th>Fouls Committed</th>\n",
              "      <th>Yellow Card</th>\n",
              "      <th>Yellow &amp; Red</th>\n",
              "      <th>Red</th>\n",
              "      <th>Man of the Match</th>\n",
              "      <th>1st Goal</th>\n",
              "      <th>Round</th>\n",
              "      <th>PSO</th>\n",
              "      <th>Goals in PSO</th>\n",
              "      <th>Own goals</th>\n",
              "      <th>Own goal Time</th>\n",
              "    </tr>\n",
              "  </thead>\n",
              "  <tbody>\n",
              "    <tr>\n",
              "      <th>0</th>\n",
              "      <td>14-06-2018</td>\n",
              "      <td>Russia</td>\n",
              "      <td>Saudi Arabia</td>\n",
              "      <td>5</td>\n",
              "      <td>40</td>\n",
              "      <td>13</td>\n",
              "      <td>7</td>\n",
              "      <td>3</td>\n",
              "      <td>3</td>\n",
              "      <td>6</td>\n",
              "      <td>3</td>\n",
              "      <td>11</td>\n",
              "      <td>0</td>\n",
              "      <td>78</td>\n",
              "      <td>306</td>\n",
              "      <td>118</td>\n",
              "      <td>22</td>\n",
              "      <td>0</td>\n",
              "      <td>0</td>\n",
              "      <td>0</td>\n",
              "      <td>Yes</td>\n",
              "      <td>12.0</td>\n",
              "      <td>Group Stage</td>\n",
              "      <td>No</td>\n",
              "      <td>0</td>\n",
              "      <td>NaN</td>\n",
              "      <td>NaN</td>\n",
              "    </tr>\n",
              "    <tr>\n",
              "      <th>1</th>\n",
              "      <td>14-06-2018</td>\n",
              "      <td>Saudi Arabia</td>\n",
              "      <td>Russia</td>\n",
              "      <td>0</td>\n",
              "      <td>60</td>\n",
              "      <td>6</td>\n",
              "      <td>0</td>\n",
              "      <td>3</td>\n",
              "      <td>3</td>\n",
              "      <td>2</td>\n",
              "      <td>1</td>\n",
              "      <td>25</td>\n",
              "      <td>2</td>\n",
              "      <td>86</td>\n",
              "      <td>511</td>\n",
              "      <td>105</td>\n",
              "      <td>10</td>\n",
              "      <td>0</td>\n",
              "      <td>0</td>\n",
              "      <td>0</td>\n",
              "      <td>No</td>\n",
              "      <td>NaN</td>\n",
              "      <td>Group Stage</td>\n",
              "      <td>No</td>\n",
              "      <td>0</td>\n",
              "      <td>NaN</td>\n",
              "      <td>NaN</td>\n",
              "    </tr>\n",
              "    <tr>\n",
              "      <th>2</th>\n",
              "      <td>15-06-2018</td>\n",
              "      <td>Egypt</td>\n",
              "      <td>Uruguay</td>\n",
              "      <td>0</td>\n",
              "      <td>43</td>\n",
              "      <td>8</td>\n",
              "      <td>3</td>\n",
              "      <td>3</td>\n",
              "      <td>2</td>\n",
              "      <td>0</td>\n",
              "      <td>1</td>\n",
              "      <td>7</td>\n",
              "      <td>3</td>\n",
              "      <td>78</td>\n",
              "      <td>395</td>\n",
              "      <td>112</td>\n",
              "      <td>12</td>\n",
              "      <td>2</td>\n",
              "      <td>0</td>\n",
              "      <td>0</td>\n",
              "      <td>No</td>\n",
              "      <td>NaN</td>\n",
              "      <td>Group Stage</td>\n",
              "      <td>No</td>\n",
              "      <td>0</td>\n",
              "      <td>NaN</td>\n",
              "      <td>NaN</td>\n",
              "    </tr>\n",
              "    <tr>\n",
              "      <th>3</th>\n",
              "      <td>15-06-2018</td>\n",
              "      <td>Uruguay</td>\n",
              "      <td>Egypt</td>\n",
              "      <td>1</td>\n",
              "      <td>57</td>\n",
              "      <td>14</td>\n",
              "      <td>4</td>\n",
              "      <td>6</td>\n",
              "      <td>4</td>\n",
              "      <td>5</td>\n",
              "      <td>1</td>\n",
              "      <td>13</td>\n",
              "      <td>3</td>\n",
              "      <td>86</td>\n",
              "      <td>589</td>\n",
              "      <td>111</td>\n",
              "      <td>6</td>\n",
              "      <td>0</td>\n",
              "      <td>0</td>\n",
              "      <td>0</td>\n",
              "      <td>Yes</td>\n",
              "      <td>89.0</td>\n",
              "      <td>Group Stage</td>\n",
              "      <td>No</td>\n",
              "      <td>0</td>\n",
              "      <td>NaN</td>\n",
              "      <td>NaN</td>\n",
              "    </tr>\n",
              "    <tr>\n",
              "      <th>4</th>\n",
              "      <td>15-06-2018</td>\n",
              "      <td>Morocco</td>\n",
              "      <td>Iran</td>\n",
              "      <td>0</td>\n",
              "      <td>64</td>\n",
              "      <td>13</td>\n",
              "      <td>3</td>\n",
              "      <td>6</td>\n",
              "      <td>4</td>\n",
              "      <td>5</td>\n",
              "      <td>0</td>\n",
              "      <td>14</td>\n",
              "      <td>2</td>\n",
              "      <td>86</td>\n",
              "      <td>433</td>\n",
              "      <td>101</td>\n",
              "      <td>22</td>\n",
              "      <td>1</td>\n",
              "      <td>0</td>\n",
              "      <td>0</td>\n",
              "      <td>No</td>\n",
              "      <td>NaN</td>\n",
              "      <td>Group Stage</td>\n",
              "      <td>No</td>\n",
              "      <td>0</td>\n",
              "      <td>1.0</td>\n",
              "      <td>90.0</td>\n",
              "    </tr>\n",
              "  </tbody>\n",
              "</table>\n",
              "</div>"
            ],
            "text/plain": [
              "         Date          Team  ... Own goals  Own goal Time\n",
              "0  14-06-2018        Russia  ...       NaN            NaN\n",
              "1  14-06-2018  Saudi Arabia  ...       NaN            NaN\n",
              "2  15-06-2018         Egypt  ...       NaN            NaN\n",
              "3  15-06-2018       Uruguay  ...       NaN            NaN\n",
              "4  15-06-2018       Morocco  ...       1.0           90.0\n",
              "\n",
              "[5 rows x 27 columns]"
            ]
          },
          "metadata": {
            "tags": []
          },
          "execution_count": 66
        }
      ]
    },
    {
      "cell_type": "markdown",
      "metadata": {
        "id": "eqj41na5gh-g"
      },
      "source": [
        "#**B. Processing data**"
      ]
    },
    {
      "cell_type": "markdown",
      "metadata": {
        "id": "lJ7MsC2JgjOA"
      },
      "source": [
        "##**STEP 1: Pre-processing data**"
      ]
    },
    {
      "cell_type": "markdown",
      "metadata": {
        "id": "buaE8mmsgx7x"
      },
      "source": [
        "##**1. Kiểm tra data cơ bản  &  Remove missing values** (Loại bỏ các giá trị khuyết)"
      ]
    },
    {
      "cell_type": "code",
      "metadata": {
        "id": "SU6xO_0mg0-Z",
        "outputId": "fc8bdafb-e723-4e34-9c0a-f68a32fac8d0",
        "colab": {
          "base_uri": "https://localhost:8080/"
        }
      },
      "source": [
        "df.info()"
      ],
      "execution_count": 67,
      "outputs": [
        {
          "output_type": "stream",
          "text": [
            "<class 'pandas.core.frame.DataFrame'>\n",
            "RangeIndex: 128 entries, 0 to 127\n",
            "Data columns (total 27 columns):\n",
            " #   Column                  Non-Null Count  Dtype  \n",
            "---  ------                  --------------  -----  \n",
            " 0   Date                    128 non-null    object \n",
            " 1   Team                    128 non-null    object \n",
            " 2   Opponent                128 non-null    object \n",
            " 3   Goal Scored             128 non-null    int64  \n",
            " 4   Ball Possession %       128 non-null    int64  \n",
            " 5   Attempts                128 non-null    int64  \n",
            " 6   On-Target               128 non-null    int64  \n",
            " 7   Off-Target              128 non-null    int64  \n",
            " 8   Blocked                 128 non-null    int64  \n",
            " 9   Corners                 128 non-null    int64  \n",
            " 10  Offsides                128 non-null    int64  \n",
            " 11  Free Kicks              128 non-null    int64  \n",
            " 12  Saves                   128 non-null    int64  \n",
            " 13  Pass Accuracy %         128 non-null    int64  \n",
            " 14  Passes                  128 non-null    int64  \n",
            " 15  Distance Covered (Kms)  128 non-null    int64  \n",
            " 16  Fouls Committed         128 non-null    int64  \n",
            " 17  Yellow Card             128 non-null    int64  \n",
            " 18  Yellow & Red            128 non-null    int64  \n",
            " 19  Red                     128 non-null    int64  \n",
            " 20  Man of the Match        128 non-null    object \n",
            " 21  1st Goal                94 non-null     float64\n",
            " 22  Round                   128 non-null    object \n",
            " 23  PSO                     128 non-null    object \n",
            " 24  Goals in PSO            128 non-null    int64  \n",
            " 25  Own goals               12 non-null     float64\n",
            " 26  Own goal Time           12 non-null     float64\n",
            "dtypes: float64(3), int64(18), object(6)\n",
            "memory usage: 27.1+ KB\n"
          ],
          "name": "stdout"
        }
      ]
    },
    {
      "cell_type": "markdown",
      "metadata": {
        "id": "prQ1Ixv0g--6"
      },
      "source": [
        "##**2. Drop Duplicates**  (Loại bỏ các giá trị trùng)"
      ]
    },
    {
      "cell_type": "code",
      "metadata": {
        "id": "MRAacU8zg4mh",
        "outputId": "982d5ebf-303c-4d21-d6e5-8e8009b04bf8",
        "colab": {
          "base_uri": "https://localhost:8080/"
        }
      },
      "source": [
        "N = len(df)  # Count the number of rows in data\n",
        "print(N)     \n",
        "\n",
        "df.drop_duplicates(inplace = True) # df after dropping duplicates\n",
        "print(\"The new dimension after checking duplicate & removing is:\\t (%s, %s)\"%(df.shape)) #size of data (rows,columns)\n",
        "print('There are %s observations is duplicated, take %s percentage on total dataset'%(N - len(df), \n",
        "                                                                                      round(100*(N - len(df))/N, 2)))"
      ],
      "execution_count": 68,
      "outputs": [
        {
          "output_type": "stream",
          "text": [
            "128\n",
            "The new dimension after checking duplicate & removing is:\t (128, 27)\n",
            "There are 0 observations is duplicated, take 0.0 percentage on total dataset\n"
          ],
          "name": "stdout"
        }
      ]
    },
    {
      "cell_type": "markdown",
      "metadata": {
        "id": "Cs0CcXYfhgtK"
      },
      "source": [
        "**Comments:**\n",
        "\n",
        "Có thể thấy, ban đầu có 128 dữ liệu, sau bước Dropping Duplicates còn  128 dữ liệu. Tức không có dữ liệu trùng"
      ]
    },
    {
      "cell_type": "markdown",
      "metadata": {
        "id": "nLoy92-bh2v7"
      },
      "source": [
        "##**3. Remove outliers** (Loại bỏ các giá trị ngoại lai))"
      ]
    },
    {
      "cell_type": "code",
      "metadata": {
        "id": "9IbyOEVlh651",
        "outputId": "1680240a-4068-4de4-9164-fb4f276a688a",
        "colab": {
          "base_uri": "https://localhost:8080/"
        }
      },
      "source": [
        "### Tìm IQR của dữ liệu\n",
        "Q1 = df.quantile(0.25)\n",
        "Q3 = df.quantile(0.75)\n",
        "IQR = Q3 - Q1\n",
        "## Loại bỏ outlier\n",
        "outlier_condition = (df < (Q1 - 1.5 * IQR)) | (df > (Q3 + 1.5 * IQR))\n",
        "df = df[~outlier_condition]\n",
        "df.shape"
      ],
      "execution_count": 69,
      "outputs": [
        {
          "output_type": "execute_result",
          "data": {
            "text/plain": [
              "(128, 27)"
            ]
          },
          "metadata": {
            "tags": []
          },
          "execution_count": 69
        }
      ]
    },
    {
      "cell_type": "markdown",
      "metadata": {
        "id": "YePwzJjniAv7"
      },
      "source": [
        "**Comments:**\n",
        "  - After dropping duplicates, the size of data: (128,27).\n",
        "  \n",
        "  i.e 128 rows, 27 columns\n",
        "  - After removing outliers, the size of data is (128,27). \n",
        "\n",
        "  i.e data không thay đổi  ==>  Data không có outliers"
      ]
    },
    {
      "cell_type": "markdown",
      "metadata": {
        "id": "tdklKfzgizJ6"
      },
      "source": [
        "##**4. Drop column according to NAN percentage for dataframe**"
      ]
    },
    {
      "cell_type": "code",
      "metadata": {
        "id": "1ygdJKyviNKj",
        "outputId": "294b78a8-ba7a-4c66-f347-6db793422c3c",
        "colab": {
          "base_uri": "https://localhost:8080/"
        }
      },
      "source": [
        "df=df = df.loc[:, df.isnull().mean() < .8] # remove all columns has values which be NAN accounting for >= 80%\n",
        "\n",
        "df.shape"
      ],
      "execution_count": 77,
      "outputs": [
        {
          "output_type": "execute_result",
          "data": {
            "text/plain": [
              "(128, 25)"
            ]
          },
          "metadata": {
            "tags": []
          },
          "execution_count": 77
        }
      ]
    },
    {
      "cell_type": "markdown",
      "metadata": {
        "id": "joHZp7UImdU0"
      },
      "source": [
        "#**STEP 2: EDA** (Explotary Data Analysis)"
      ]
    },
    {
      "cell_type": "markdown",
      "metadata": {
        "id": "APgU7YAzmedz"
      },
      "source": [
        "##**0.Summary-statistic**"
      ]
    },
    {
      "cell_type": "code",
      "metadata": {
        "id": "PcUUYPh3mh6C",
        "outputId": "e71c1062-360c-42be-adcb-6c3b28ebb072",
        "colab": {
          "base_uri": "https://localhost:8080/",
          "height": 355
        }
      },
      "source": [
        "df.describe()"
      ],
      "execution_count": 78,
      "outputs": [
        {
          "output_type": "execute_result",
          "data": {
            "text/html": [
              "<div>\n",
              "<style scoped>\n",
              "    .dataframe tbody tr th:only-of-type {\n",
              "        vertical-align: middle;\n",
              "    }\n",
              "\n",
              "    .dataframe tbody tr th {\n",
              "        vertical-align: top;\n",
              "    }\n",
              "\n",
              "    .dataframe thead th {\n",
              "        text-align: right;\n",
              "    }\n",
              "</style>\n",
              "<table border=\"1\" class=\"dataframe\">\n",
              "  <thead>\n",
              "    <tr style=\"text-align: right;\">\n",
              "      <th></th>\n",
              "      <th>Goal Scored</th>\n",
              "      <th>Ball Possession %</th>\n",
              "      <th>Attempts</th>\n",
              "      <th>On-Target</th>\n",
              "      <th>Off-Target</th>\n",
              "      <th>Blocked</th>\n",
              "      <th>Corners</th>\n",
              "      <th>Offsides</th>\n",
              "      <th>Free Kicks</th>\n",
              "      <th>Saves</th>\n",
              "      <th>Pass Accuracy %</th>\n",
              "      <th>Passes</th>\n",
              "      <th>Distance Covered (Kms)</th>\n",
              "      <th>Fouls Committed</th>\n",
              "      <th>Yellow Card</th>\n",
              "      <th>Yellow &amp; Red</th>\n",
              "      <th>Red</th>\n",
              "      <th>1st Goal</th>\n",
              "      <th>Goals in PSO</th>\n",
              "    </tr>\n",
              "  </thead>\n",
              "  <tbody>\n",
              "    <tr>\n",
              "      <th>count</th>\n",
              "      <td>127.000000</td>\n",
              "      <td>128.000000</td>\n",
              "      <td>123.000000</td>\n",
              "      <td>126.000000</td>\n",
              "      <td>128.000000</td>\n",
              "      <td>118.000000</td>\n",
              "      <td>127.000000</td>\n",
              "      <td>128.000000</td>\n",
              "      <td>128.000000</td>\n",
              "      <td>125.000000</td>\n",
              "      <td>128.000000</td>\n",
              "      <td>127.000000</td>\n",
              "      <td>116.000000</td>\n",
              "      <td>128.000000</td>\n",
              "      <td>116.000000</td>\n",
              "      <td>126.0</td>\n",
              "      <td>126.0</td>\n",
              "      <td>94.000000</td>\n",
              "      <td>120.0</td>\n",
              "    </tr>\n",
              "    <tr>\n",
              "      <th>mean</th>\n",
              "      <td>1.283465</td>\n",
              "      <td>49.992188</td>\n",
              "      <td>12.065041</td>\n",
              "      <td>3.801587</td>\n",
              "      <td>5.273438</td>\n",
              "      <td>2.889831</td>\n",
              "      <td>4.669291</td>\n",
              "      <td>1.343750</td>\n",
              "      <td>14.890625</td>\n",
              "      <td>2.576000</td>\n",
              "      <td>82.554688</td>\n",
              "      <td>457.338583</td>\n",
              "      <td>104.163793</td>\n",
              "      <td>13.546875</td>\n",
              "      <td>1.405172</td>\n",
              "      <td>0.0</td>\n",
              "      <td>0.0</td>\n",
              "      <td>39.457447</td>\n",
              "      <td>0.0</td>\n",
              "    </tr>\n",
              "    <tr>\n",
              "      <th>std</th>\n",
              "      <td>1.083041</td>\n",
              "      <td>10.444074</td>\n",
              "      <td>4.628387</td>\n",
              "      <td>2.059203</td>\n",
              "      <td>2.409675</td>\n",
              "      <td>1.834074</td>\n",
              "      <td>2.390640</td>\n",
              "      <td>1.193404</td>\n",
              "      <td>4.724262</td>\n",
              "      <td>1.823962</td>\n",
              "      <td>5.933766</td>\n",
              "      <td>139.288055</td>\n",
              "      <td>5.641375</td>\n",
              "      <td>4.619131</td>\n",
              "      <td>0.986680</td>\n",
              "      <td>0.0</td>\n",
              "      <td>0.0</td>\n",
              "      <td>24.496506</td>\n",
              "      <td>0.0</td>\n",
              "    </tr>\n",
              "    <tr>\n",
              "      <th>min</th>\n",
              "      <td>0.000000</td>\n",
              "      <td>25.000000</td>\n",
              "      <td>3.000000</td>\n",
              "      <td>0.000000</td>\n",
              "      <td>1.000000</td>\n",
              "      <td>0.000000</td>\n",
              "      <td>0.000000</td>\n",
              "      <td>0.000000</td>\n",
              "      <td>5.000000</td>\n",
              "      <td>0.000000</td>\n",
              "      <td>67.000000</td>\n",
              "      <td>189.000000</td>\n",
              "      <td>89.000000</td>\n",
              "      <td>5.000000</td>\n",
              "      <td>0.000000</td>\n",
              "      <td>0.0</td>\n",
              "      <td>0.0</td>\n",
              "      <td>1.000000</td>\n",
              "      <td>0.0</td>\n",
              "    </tr>\n",
              "    <tr>\n",
              "      <th>25%</th>\n",
              "      <td>0.000000</td>\n",
              "      <td>42.000000</td>\n",
              "      <td>8.500000</td>\n",
              "      <td>2.000000</td>\n",
              "      <td>4.000000</td>\n",
              "      <td>1.000000</td>\n",
              "      <td>3.000000</td>\n",
              "      <td>0.000000</td>\n",
              "      <td>11.000000</td>\n",
              "      <td>1.000000</td>\n",
              "      <td>79.000000</td>\n",
              "      <td>351.000000</td>\n",
              "      <td>101.000000</td>\n",
              "      <td>10.000000</td>\n",
              "      <td>1.000000</td>\n",
              "      <td>0.0</td>\n",
              "      <td>0.0</td>\n",
              "      <td>18.250000</td>\n",
              "      <td>0.0</td>\n",
              "    </tr>\n",
              "    <tr>\n",
              "      <th>50%</th>\n",
              "      <td>1.000000</td>\n",
              "      <td>50.000000</td>\n",
              "      <td>12.000000</td>\n",
              "      <td>3.000000</td>\n",
              "      <td>5.000000</td>\n",
              "      <td>3.000000</td>\n",
              "      <td>5.000000</td>\n",
              "      <td>1.000000</td>\n",
              "      <td>15.000000</td>\n",
              "      <td>2.000000</td>\n",
              "      <td>83.000000</td>\n",
              "      <td>462.000000</td>\n",
              "      <td>104.000000</td>\n",
              "      <td>13.000000</td>\n",
              "      <td>1.000000</td>\n",
              "      <td>0.0</td>\n",
              "      <td>0.0</td>\n",
              "      <td>39.000000</td>\n",
              "      <td>0.0</td>\n",
              "    </tr>\n",
              "    <tr>\n",
              "      <th>75%</th>\n",
              "      <td>2.000000</td>\n",
              "      <td>58.000000</td>\n",
              "      <td>15.000000</td>\n",
              "      <td>5.000000</td>\n",
              "      <td>7.000000</td>\n",
              "      <td>4.000000</td>\n",
              "      <td>6.000000</td>\n",
              "      <td>2.000000</td>\n",
              "      <td>18.000000</td>\n",
              "      <td>4.000000</td>\n",
              "      <td>87.000000</td>\n",
              "      <td>553.500000</td>\n",
              "      <td>107.250000</td>\n",
              "      <td>16.000000</td>\n",
              "      <td>2.000000</td>\n",
              "      <td>0.0</td>\n",
              "      <td>0.0</td>\n",
              "      <td>54.750000</td>\n",
              "      <td>0.0</td>\n",
              "    </tr>\n",
              "    <tr>\n",
              "      <th>max</th>\n",
              "      <td>5.000000</td>\n",
              "      <td>75.000000</td>\n",
              "      <td>24.000000</td>\n",
              "      <td>9.000000</td>\n",
              "      <td>11.000000</td>\n",
              "      <td>7.000000</td>\n",
              "      <td>10.000000</td>\n",
              "      <td>5.000000</td>\n",
              "      <td>26.000000</td>\n",
              "      <td>8.000000</td>\n",
              "      <td>94.000000</td>\n",
              "      <td>805.000000</td>\n",
              "      <td>118.000000</td>\n",
              "      <td>25.000000</td>\n",
              "      <td>3.000000</td>\n",
              "      <td>0.0</td>\n",
              "      <td>0.0</td>\n",
              "      <td>90.000000</td>\n",
              "      <td>0.0</td>\n",
              "    </tr>\n",
              "  </tbody>\n",
              "</table>\n",
              "</div>"
            ],
            "text/plain": [
              "       Goal Scored  Ball Possession %  ...   1st Goal  Goals in PSO\n",
              "count   127.000000         128.000000  ...  94.000000         120.0\n",
              "mean      1.283465          49.992188  ...  39.457447           0.0\n",
              "std       1.083041          10.444074  ...  24.496506           0.0\n",
              "min       0.000000          25.000000  ...   1.000000           0.0\n",
              "25%       0.000000          42.000000  ...  18.250000           0.0\n",
              "50%       1.000000          50.000000  ...  39.000000           0.0\n",
              "75%       2.000000          58.000000  ...  54.750000           0.0\n",
              "max       5.000000          75.000000  ...  90.000000           0.0\n",
              "\n",
              "[8 rows x 19 columns]"
            ]
          },
          "metadata": {
            "tags": []
          },
          "execution_count": 78
        }
      ]
    },
    {
      "cell_type": "markdown",
      "metadata": {
        "id": "Xiu4GZ0vmvQM"
      },
      "source": [
        "##**1. Biểu đồ cột - histogram.**  (Feature: 'Fouls Committed')"
      ]
    },
    {
      "cell_type": "code",
      "metadata": {
        "id": "5_2HB6ndmwQ7",
        "outputId": "e2a31d19-8834-46b5-a896-0fbba09df840",
        "colab": {
          "base_uri": "https://localhost:8080/",
          "height": 285
        }
      },
      "source": [
        "df['Fouls Committed'].hist(bins = 10)"
      ],
      "execution_count": 79,
      "outputs": [
        {
          "output_type": "execute_result",
          "data": {
            "text/plain": [
              "<matplotlib.axes._subplots.AxesSubplot at 0x7f5af09b5f28>"
            ]
          },
          "metadata": {
            "tags": []
          },
          "execution_count": 79
        },
        {
          "output_type": "display_data",
          "data": {
            "image/png": "[encoded data removed]",
            "text/plain": [
              "<Figure size 432x288 with 1 Axes>"
            ]
          },
          "metadata": {
            "tags": [],
            "needs_background": "light"
          }
        }
      ]
    },
    {
      "cell_type": "markdown",
      "metadata": {
        "id": "_04CxCoGm9Dq"
      },
      "source": [
        "##**2. Box-plot.  Biểu đồ hình hộp**  (Feature: 'Yellow Card')"
      ]
    },
    {
      "cell_type": "code",
      "metadata": {
        "id": "v7K1UjAmnBsp",
        "outputId": "eb7dfed2-b1e2-471a-b096-73b7d0659c62",
        "colab": {
          "base_uri": "https://localhost:8080/",
          "height": 639
        }
      },
      "source": [
        "df['Yellow Card'].plot(kind = 'box', figsize = (4, 8));\n",
        "print(df['Yellow Card'].describe())"
      ],
      "execution_count": 80,
      "outputs": [
        {
          "output_type": "stream",
          "text": [
            "count    116.000000\n",
            "mean       1.405172\n",
            "std        0.986680\n",
            "min        0.000000\n",
            "25%        1.000000\n",
            "50%        1.000000\n",
            "75%        2.000000\n",
            "max        3.000000\n",
            "Name: Yellow Card, dtype: float64\n"
          ],
          "name": "stdout"
        },
        {
          "output_type": "display_data",
          "data": {
            "image/png": "[encoded data removed]",
            "text/plain": [
              "<Figure size 288x576 with 1 Axes>"
            ]
          },
          "metadata": {
            "tags": [],
            "needs_background": "light"
          }
        }
      ]
    },
    {
      "cell_type": "markdown",
      "metadata": {
        "id": "MKYJbzFOnKyA"
      },
      "source": [
        "**Comment**\n",
        "After removing outliers (Section 3 in STEP 1), data has NO outliers."
      ]
    },
    {
      "cell_type": "markdown",
      "metadata": {
        "id": "9tBF2q8ynxNp"
      },
      "source": [
        "##**3. Heat-map. Biểu đồ nhiệt.**"
      ]
    },
    {
      "cell_type": "code",
      "metadata": {
        "id": "GLd6O0BKn3L3",
        "outputId": "9ee52bf7-d1ac-480d-de24-58717189c762",
        "colab": {
          "base_uri": "https://localhost:8080/",
          "height": 828
        }
      },
      "source": [
        "import seaborn as sns\n",
        "import matplotlib.pyplot as plt\n",
        "\n",
        "fig, ax = plt.subplots(nrows = 1, ncols = 1, figsize = (12, 12))\n",
        "corr = df.corr()\n",
        "sns.heatmap(corr, cmap='coolwarm_r', annot_kws={'size':20}, ax=ax)\n",
        "ax.set_title(\"Correlation Matrix\", fontsize=14);"
      ],
      "execution_count": 81,
      "outputs": [
        {
          "output_type": "display_data",
          "data": {
            "image/png": "[encoded data removed]",
            "text/plain": [
              "<Figure size 864x864 with 2 Axes>"
            ]
          },
          "metadata": {
            "tags": [],
            "needs_background": "light"
          }
        }
      ]
    },
    {
      "cell_type": "markdown",
      "metadata": {
        "id": "9KChtnnGoIlh"
      },
      "source": [
        "#**C. Train-Test**"
      ]
    },
    {
      "cell_type": "code",
      "metadata": {
        "id": "D7twr6HqoJZY",
        "outputId": "f370f751-8f5f-428c-8fe9-35ee5f27eab9",
        "colab": {
          "base_uri": "https://localhost:8080/"
        }
      },
      "source": [
        "cleaned_data  = pd.get_dummies(df)\n",
        "cleaned_data.shape"
      ],
      "execution_count": 82,
      "outputs": [
        {
          "output_type": "execute_result",
          "data": {
            "text/plain": [
              "(128, 118)"
            ]
          },
          "metadata": {
            "tags": []
          },
          "execution_count": 82
        }
      ]
    },
    {
      "cell_type": "code",
      "metadata": {
        "id": "pYBU0EZtouSv",
        "outputId": "f4ea27da-3a09-40e0-ac04-cdf0114d156c",
        "colab": {
          "base_uri": "https://localhost:8080/",
          "height": 278
        }
      },
      "source": [
        "from sklearn.preprocessing import LabelEncoder\n",
        "df = df.apply(LabelEncoder().fit_transform)\n",
        "df.head()"
      ],
      "execution_count": 83,
      "outputs": [
        {
          "output_type": "execute_result",
          "data": {
            "text/html": [
              "<div>\n",
              "<style scoped>\n",
              "    .dataframe tbody tr th:only-of-type {\n",
              "        vertical-align: middle;\n",
              "    }\n",
              "\n",
              "    .dataframe tbody tr th {\n",
              "        vertical-align: top;\n",
              "    }\n",
              "\n",
              "    .dataframe thead th {\n",
              "        text-align: right;\n",
              "    }\n",
              "</style>\n",
              "<table border=\"1\" class=\"dataframe\">\n",
              "  <thead>\n",
              "    <tr style=\"text-align: right;\">\n",
              "      <th></th>\n",
              "      <th>Date</th>\n",
              "      <th>Team</th>\n",
              "      <th>Opponent</th>\n",
              "      <th>Goal Scored</th>\n",
              "      <th>Ball Possession %</th>\n",
              "      <th>Attempts</th>\n",
              "      <th>On-Target</th>\n",
              "      <th>Off-Target</th>\n",
              "      <th>Blocked</th>\n",
              "      <th>Corners</th>\n",
              "      <th>Offsides</th>\n",
              "      <th>Free Kicks</th>\n",
              "      <th>Saves</th>\n",
              "      <th>Pass Accuracy %</th>\n",
              "      <th>Passes</th>\n",
              "      <th>Distance Covered (Kms)</th>\n",
              "      <th>Fouls Committed</th>\n",
              "      <th>Yellow Card</th>\n",
              "      <th>Yellow &amp; Red</th>\n",
              "      <th>Red</th>\n",
              "      <th>Man of the Match</th>\n",
              "      <th>1st Goal</th>\n",
              "      <th>Round</th>\n",
              "      <th>PSO</th>\n",
              "      <th>Goals in PSO</th>\n",
              "    </tr>\n",
              "  </thead>\n",
              "  <tbody>\n",
              "    <tr>\n",
              "      <th>0</th>\n",
              "      <td>7</td>\n",
              "      <td>23</td>\n",
              "      <td>24</td>\n",
              "      <td>5</td>\n",
              "      <td>11</td>\n",
              "      <td>10</td>\n",
              "      <td>7</td>\n",
              "      <td>2</td>\n",
              "      <td>3</td>\n",
              "      <td>6</td>\n",
              "      <td>3</td>\n",
              "      <td>5</td>\n",
              "      <td>0</td>\n",
              "      <td>8</td>\n",
              "      <td>15</td>\n",
              "      <td>24</td>\n",
              "      <td>17</td>\n",
              "      <td>0</td>\n",
              "      <td>0</td>\n",
              "      <td>0</td>\n",
              "      <td>1</td>\n",
              "      <td>8</td>\n",
              "      <td>2</td>\n",
              "      <td>0</td>\n",
              "      <td>0</td>\n",
              "    </tr>\n",
              "    <tr>\n",
              "      <th>1</th>\n",
              "      <td>7</td>\n",
              "      <td>24</td>\n",
              "      <td>23</td>\n",
              "      <td>0</td>\n",
              "      <td>31</td>\n",
              "      <td>3</td>\n",
              "      <td>0</td>\n",
              "      <td>2</td>\n",
              "      <td>3</td>\n",
              "      <td>2</td>\n",
              "      <td>1</td>\n",
              "      <td>19</td>\n",
              "      <td>2</td>\n",
              "      <td>16</td>\n",
              "      <td>68</td>\n",
              "      <td>13</td>\n",
              "      <td>5</td>\n",
              "      <td>0</td>\n",
              "      <td>0</td>\n",
              "      <td>0</td>\n",
              "      <td>0</td>\n",
              "      <td>68</td>\n",
              "      <td>2</td>\n",
              "      <td>0</td>\n",
              "      <td>0</td>\n",
              "    </tr>\n",
              "    <tr>\n",
              "      <th>2</th>\n",
              "      <td>9</td>\n",
              "      <td>8</td>\n",
              "      <td>31</td>\n",
              "      <td>0</td>\n",
              "      <td>14</td>\n",
              "      <td>5</td>\n",
              "      <td>3</td>\n",
              "      <td>2</td>\n",
              "      <td>2</td>\n",
              "      <td>0</td>\n",
              "      <td>1</td>\n",
              "      <td>2</td>\n",
              "      <td>3</td>\n",
              "      <td>8</td>\n",
              "      <td>40</td>\n",
              "      <td>20</td>\n",
              "      <td>7</td>\n",
              "      <td>2</td>\n",
              "      <td>0</td>\n",
              "      <td>0</td>\n",
              "      <td>0</td>\n",
              "      <td>67</td>\n",
              "      <td>2</td>\n",
              "      <td>0</td>\n",
              "      <td>0</td>\n",
              "    </tr>\n",
              "    <tr>\n",
              "      <th>3</th>\n",
              "      <td>9</td>\n",
              "      <td>31</td>\n",
              "      <td>8</td>\n",
              "      <td>1</td>\n",
              "      <td>28</td>\n",
              "      <td>11</td>\n",
              "      <td>4</td>\n",
              "      <td>5</td>\n",
              "      <td>4</td>\n",
              "      <td>5</td>\n",
              "      <td>1</td>\n",
              "      <td>7</td>\n",
              "      <td>3</td>\n",
              "      <td>16</td>\n",
              "      <td>86</td>\n",
              "      <td>19</td>\n",
              "      <td>1</td>\n",
              "      <td>0</td>\n",
              "      <td>0</td>\n",
              "      <td>0</td>\n",
              "      <td>1</td>\n",
              "      <td>54</td>\n",
              "      <td>2</td>\n",
              "      <td>0</td>\n",
              "      <td>0</td>\n",
              "    </tr>\n",
              "    <tr>\n",
              "      <th>4</th>\n",
              "      <td>9</td>\n",
              "      <td>17</td>\n",
              "      <td>13</td>\n",
              "      <td>0</td>\n",
              "      <td>35</td>\n",
              "      <td>10</td>\n",
              "      <td>3</td>\n",
              "      <td>5</td>\n",
              "      <td>4</td>\n",
              "      <td>5</td>\n",
              "      <td>0</td>\n",
              "      <td>8</td>\n",
              "      <td>2</td>\n",
              "      <td>16</td>\n",
              "      <td>49</td>\n",
              "      <td>9</td>\n",
              "      <td>17</td>\n",
              "      <td>1</td>\n",
              "      <td>0</td>\n",
              "      <td>0</td>\n",
              "      <td>0</td>\n",
              "      <td>83</td>\n",
              "      <td>2</td>\n",
              "      <td>0</td>\n",
              "      <td>0</td>\n",
              "    </tr>\n",
              "  </tbody>\n",
              "</table>\n",
              "</div>"
            ],
            "text/plain": [
              "   Date  Team  Opponent  Goal Scored  ...  1st Goal  Round  PSO  Goals in PSO\n",
              "0     7    23        24            5  ...         8      2    0             0\n",
              "1     7    24        23            0  ...        68      2    0             0\n",
              "2     9     8        31            0  ...        67      2    0             0\n",
              "3     9    31         8            1  ...        54      2    0             0\n",
              "4     9    17        13            0  ...        83      2    0             0\n",
              "\n",
              "[5 rows x 25 columns]"
            ]
          },
          "metadata": {
            "tags": []
          },
          "execution_count": 83
        }
      ]
    },
    {
      "cell_type": "markdown",
      "metadata": {
        "id": "ZwFEf1U8o1_T"
      },
      "source": [
        "##**1. Tách dữ liệu**"
      ]
    },
    {
      "cell_type": "code",
      "metadata": {
        "id": "Y0zkHZ-8o1Df"
      },
      "source": [
        "X = df.drop(['Man of the Match'], axis = 1)\n",
        "y = df['Man of the Match']"
      ],
      "execution_count": 86,
      "outputs": []
    },
    {
      "cell_type": "markdown",
      "metadata": {
        "id": "Jvwnfwa1o00X"
      },
      "source": [
        "##**2. Train - Test**"
      ]
    },
    {
      "cell_type": "code",
      "metadata": {
        "id": "6jfhzfLBo_ns"
      },
      "source": [
        "from sklearn.model_selection import train_test_split\n",
        "X_train, X_test, y_train, y_test = train_test_split(X, y, test_size = 0.2, random_state = 42)"
      ],
      "execution_count": 87,
      "outputs": []
    },
    {
      "cell_type": "markdown",
      "metadata": {
        "id": "cmM_EsMGpPVy"
      },
      "source": [
        "#**D. Choose model**"
      ]
    },
    {
      "cell_type": "markdown",
      "metadata": {
        "id": "GgrebCBQpQNW"
      },
      "source": [
        "##**1. Model: Support Vector Machine (SVM)**"
      ]
    },
    {
      "cell_type": "code",
      "metadata": {
        "id": "o_d1UzTrpVlm",
        "outputId": "04fafbee-b518-4092-e6f4-83cf0285d3d7",
        "colab": {
          "base_uri": "https://localhost:8080/"
        }
      },
      "source": [
        "from sklearn.svm import SVC\n",
        "from sklearn.metrics import accuracy_score, confusion_matrix,classification_report\n",
        "\n",
        "clf_svm = SVC(kernel = 'poly', C = 10)   \n",
        "clf_svm.fit(X_train, y_train)\n",
        "\n",
        "print(\"Support Vector Machine\")\n",
        "print(\"\\ntrain accuracy: \", accuracy_score(y_train, clf_svm.predict(X_train)))\n",
        "print(\"test accuracy: \", accuracy_score(y_test, clf_svm.predict(X_test)))\n",
        "print('\\nConfusion matrix : \\n', confusion_matrix(y_test, clf_svm.predict(X_test)))\n",
        "print('Classification report : \\n', classification_report(y_test, clf_svm.predict(X_test), digits = 5))"
      ],
      "execution_count": 94,
      "outputs": [
        {
          "output_type": "stream",
          "text": [
            "Support Vector Machine\n",
            "\n",
            "train accuracy:  0.7941176470588235\n",
            "test accuracy:  0.6923076923076923\n",
            "\n",
            "Confusion matrix : \n",
            " [[ 4  7]\n",
            " [ 1 14]]\n",
            "Classification report : \n",
            "               precision    recall  f1-score   support\n",
            "\n",
            "           0    0.80000   0.36364   0.50000        11\n",
            "           1    0.66667   0.93333   0.77778        15\n",
            "\n",
            "    accuracy                        0.69231        26\n",
            "   macro avg    0.73333   0.64848   0.63889        26\n",
            "weighted avg    0.72308   0.69231   0.66026        26\n",
            "\n"
          ],
          "name": "stdout"
        }
      ]
    },
    {
      "cell_type": "markdown",
      "metadata": {
        "id": "Vb5_bUxepa_9"
      },
      "source": [
        "##**2. Model: Decision Tree Classifier**"
      ]
    },
    {
      "cell_type": "code",
      "metadata": {
        "id": "BPjSOds_pe1N",
        "outputId": "caf31930-c0d0-4e73-e184-a526221c52a9",
        "colab": {
          "base_uri": "https://localhost:8080/"
        }
      },
      "source": [
        "from sklearn.tree import DecisionTreeClassifier\n",
        "from sklearn.metrics import accuracy_score, confusion_matrix,classification_report\n",
        "\n",
        "clf = DecisionTreeClassifier()\n",
        "clf.fit(X_train,y_train)\n",
        "\n",
        "print(\"Decision Tree Classifier\")\n",
        "print(\"\\ntrain accuracy: \", accuracy_score(y_train, clf.predict(X_train)))\n",
        "print(\"test acccuracy: \", accuracy_score(y_test, clf.predict(X_test)))\n",
        "print('\\nConfusion matrix : \\n', confusion_matrix(y_test, clf.predict(X_test)))\n",
        "print('Classification report : \\n', classification_report(y_test, clf.predict(X_test), digits = 5))"
      ],
      "execution_count": 89,
      "outputs": [
        {
          "output_type": "stream",
          "text": [
            "Decision Tree Classifier\n",
            "\n",
            "train accuracy:  1.0\n",
            "test acccuracy:  0.46153846153846156\n",
            "\n",
            "Confusion matrix : \n",
            " [[ 7  4]\n",
            " [10  5]]\n",
            "Classification report : \n",
            "               precision    recall  f1-score   support\n",
            "\n",
            "           0    0.41176   0.63636   0.50000        11\n",
            "           1    0.55556   0.33333   0.41667        15\n",
            "\n",
            "    accuracy                        0.46154        26\n",
            "   macro avg    0.48366   0.48485   0.45833        26\n",
            "weighted avg    0.49472   0.46154   0.45192        26\n",
            "\n"
          ],
          "name": "stdout"
        }
      ]
    },
    {
      "cell_type": "markdown",
      "metadata": {
        "id": "v6Pd6Wo0plDl"
      },
      "source": [
        "##**3. Model: Random Forest Classifier**"
      ]
    },
    {
      "cell_type": "code",
      "metadata": {
        "id": "jm6DiM1wppcO",
        "outputId": "02435142-ef68-4262-dadc-98660433b761",
        "colab": {
          "base_uri": "https://localhost:8080/"
        }
      },
      "source": [
        "from sklearn.ensemble import RandomForestClassifier\n",
        "from sklearn.metrics import accuracy_score, confusion_matrix,classification_report\n",
        "\n",
        "clf = RandomForestClassifier()\n",
        "clf.fit(X_train,y_train)\n",
        "\n",
        "print(\"Random Forest Classifier\")\n",
        "print(\"\\ntrain acc: \", accuracy_score(y_train, clf.predict(X_train)))\n",
        "print(\"test acc: \", accuracy_score(y_test, clf.predict(X_test)))\n",
        "print('\\nConfusion matrix : \\n', confusion_matrix(y_test, clf.predict(X_test)))\n",
        "print('Classification report : \\n', classification_report(y_test, clf.predict(X_test), digits = 5))"
      ],
      "execution_count": 90,
      "outputs": [
        {
          "output_type": "stream",
          "text": [
            "Random Forest Classifier\n",
            "\n",
            "train acc:  1.0\n",
            "test acc:  0.6538461538461539\n",
            "\n",
            "Confusion matrix : \n",
            " [[8 3]\n",
            " [6 9]]\n",
            "Classification report : \n",
            "               precision    recall  f1-score   support\n",
            "\n",
            "           0    0.57143   0.72727   0.64000        11\n",
            "           1    0.75000   0.60000   0.66667        15\n",
            "\n",
            "    accuracy                        0.65385        26\n",
            "   macro avg    0.66071   0.66364   0.65333        26\n",
            "weighted avg    0.67445   0.65385   0.65538        26\n",
            "\n"
          ],
          "name": "stdout"
        }
      ]
    },
    {
      "cell_type": "markdown",
      "metadata": {
        "id": "ZgKNIjYep0W-"
      },
      "source": [
        "##**4. Model: Logistic Regression**"
      ]
    },
    {
      "cell_type": "code",
      "metadata": {
        "id": "ahxGXVlOp1RG",
        "outputId": "5f24e25f-193a-4148-d795-dc4dff1baebb",
        "colab": {
          "base_uri": "https://localhost:8080/"
        }
      },
      "source": [
        "from sklearn.linear_model import LogisticRegression\n",
        "from sklearn.metrics import accuracy_score, confusion_matrix,classification_report\n",
        "\n",
        "clf = LogisticRegression(max_iter = len(y_train))\n",
        "clf.fit(X_train,y_train)\n",
        "\n",
        "print(\"Logistic Regression\")\n",
        "print(\"\\ntrain acc: \", accuracy_score(y_train, clf.predict(X_train)))\n",
        "print(\"test acc: \", accuracy_score(y_test, clf.predict(X_test)))\n",
        "print('\\nConfusion matrix : \\n', confusion_matrix(y_test, clf.predict(X_test)))\n",
        "print('Classification report : \\n', classification_report(y_test, clf.predict(X_test), digits = 5))"
      ],
      "execution_count": 91,
      "outputs": [
        {
          "output_type": "stream",
          "text": [
            "Logistic Regression\n",
            "\n",
            "train acc:  0.7941176470588235\n",
            "test acc:  0.6923076923076923\n",
            "\n",
            "Confusion matrix : \n",
            " [[9 2]\n",
            " [6 9]]\n",
            "Classification report : \n",
            "               precision    recall  f1-score   support\n",
            "\n",
            "           0    0.60000   0.81818   0.69231        11\n",
            "           1    0.81818   0.60000   0.69231        15\n",
            "\n",
            "    accuracy                        0.69231        26\n",
            "   macro avg    0.70909   0.70909   0.69231        26\n",
            "weighted avg    0.72587   0.69231   0.69231        26\n",
            "\n"
          ],
          "name": "stdout"
        },
        {
          "output_type": "stream",
          "text": [
            "/usr/local/lib/python3.6/dist-packages/sklearn/linear_model/_logistic.py:940: ConvergenceWarning: lbfgs failed to converge (status=1):\n",
            "STOP: TOTAL NO. of ITERATIONS REACHED LIMIT.\n",
            "\n",
            "Increase the number of iterations (max_iter) or scale the data as shown in:\n",
            "    https://scikit-learn.org/stable/modules/preprocessing.html\n",
            "Please also refer to the documentation for alternative solver options:\n",
            "    https://scikit-learn.org/stable/modules/linear_model.html#logistic-regression\n",
            "  extra_warning_msg=_LOGISTIC_SOLVER_CONVERGENCE_MSG)\n"
          ],
          "name": "stderr"
        }
      ]
    }
  ]
}