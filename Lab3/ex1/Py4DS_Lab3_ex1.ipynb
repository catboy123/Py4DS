{
  "nbformat": 4,
  "nbformat_minor": 0,
  "metadata": {
    "colab": {
      "name": "Py4DS_Lab3_ex1.ipynb",
      "provenance": [],
      "collapsed_sections": []
    },
    "kernelspec": {
      "name": "python3",
      "display_name": "Python 3"
    }
  },
  "cells": [
    {
      "cell_type": "code",
      "metadata": {
        "id": "WNkKU2Ht_J8y",
        "outputId": "ec12bdbd-22ed-4ff3-ce7e-acd19c14681c",
        "colab": {
          "base_uri": "https://localhost:8080/"
        }
      },
      "source": [
        "from google.colab import drive\n",
        "drive.mount('/content/drive')"
      ],
      "execution_count": null,
      "outputs": [
        {
          "output_type": "stream",
          "text": [
            "Drive already mounted at /content/drive; to attempt to forcibly remount, call drive.mount(\"/content/drive\", force_remount=True).\n"
          ],
          "name": "stdout"
        }
      ]
    },
    {
      "cell_type": "code",
      "metadata": {
        "id": "72ssmrzd_Wo0"
      },
      "source": [
        "import numpy as np\n",
        "import pandas as pd"
      ],
      "execution_count": null,
      "outputs": []
    },
    {
      "cell_type": "code",
      "metadata": {
        "id": "X-sKTHvd_nQW",
        "outputId": "81891dcd-8648-40ba-a069-104017438600",
        "colab": {
          "base_uri": "https://localhost:8080/",
          "height": 439
        }
      },
      "source": [
        "df = pd.read_csv('/content/drive/My Drive/Datasets/Py4DS_Lab3/creditcard.csv')\n",
        "df"
      ],
      "execution_count": null,
      "outputs": [
        {
          "output_type": "execute_result",
          "data": {
            "text/html": [
              "<div>\n",
              "<style scoped>\n",
              "    .dataframe tbody tr th:only-of-type {\n",
              "        vertical-align: middle;\n",
              "    }\n",
              "\n",
              "    .dataframe tbody tr th {\n",
              "        vertical-align: top;\n",
              "    }\n",
              "\n",
              "    .dataframe thead th {\n",
              "        text-align: right;\n",
              "    }\n",
              "</style>\n",
              "<table border=\"1\" class=\"dataframe\">\n",
              "  <thead>\n",
              "    <tr style=\"text-align: right;\">\n",
              "      <th></th>\n",
              "      <th>Time</th>\n",
              "      <th>V1</th>\n",
              "      <th>V2</th>\n",
              "      <th>V3</th>\n",
              "      <th>V4</th>\n",
              "      <th>V5</th>\n",
              "      <th>V6</th>\n",
              "      <th>V7</th>\n",
              "      <th>V8</th>\n",
              "      <th>V9</th>\n",
              "      <th>V10</th>\n",
              "      <th>V11</th>\n",
              "      <th>V12</th>\n",
              "      <th>V13</th>\n",
              "      <th>V14</th>\n",
              "      <th>V15</th>\n",
              "      <th>V16</th>\n",
              "      <th>V17</th>\n",
              "      <th>V18</th>\n",
              "      <th>V19</th>\n",
              "      <th>V20</th>\n",
              "      <th>V21</th>\n",
              "      <th>V22</th>\n",
              "      <th>V23</th>\n",
              "      <th>V24</th>\n",
              "      <th>V25</th>\n",
              "      <th>V26</th>\n",
              "      <th>V27</th>\n",
              "      <th>V28</th>\n",
              "      <th>Amount</th>\n",
              "      <th>Class</th>\n",
              "    </tr>\n",
              "  </thead>\n",
              "  <tbody>\n",
              "    <tr>\n",
              "      <th>0</th>\n",
              "      <td>0.0</td>\n",
              "      <td>-1.359807</td>\n",
              "      <td>-0.072781</td>\n",
              "      <td>2.536347</td>\n",
              "      <td>1.378155</td>\n",
              "      <td>-0.338321</td>\n",
              "      <td>0.462388</td>\n",
              "      <td>0.239599</td>\n",
              "      <td>0.098698</td>\n",
              "      <td>0.363787</td>\n",
              "      <td>0.090794</td>\n",
              "      <td>-0.551600</td>\n",
              "      <td>-0.617801</td>\n",
              "      <td>-0.991390</td>\n",
              "      <td>-0.311169</td>\n",
              "      <td>1.468177</td>\n",
              "      <td>-0.470401</td>\n",
              "      <td>0.207971</td>\n",
              "      <td>0.025791</td>\n",
              "      <td>0.403993</td>\n",
              "      <td>0.251412</td>\n",
              "      <td>-0.018307</td>\n",
              "      <td>0.277838</td>\n",
              "      <td>-0.110474</td>\n",
              "      <td>0.066928</td>\n",
              "      <td>0.128539</td>\n",
              "      <td>-0.189115</td>\n",
              "      <td>0.133558</td>\n",
              "      <td>-0.021053</td>\n",
              "      <td>149.62</td>\n",
              "      <td>0</td>\n",
              "    </tr>\n",
              "    <tr>\n",
              "      <th>1</th>\n",
              "      <td>0.0</td>\n",
              "      <td>1.191857</td>\n",
              "      <td>0.266151</td>\n",
              "      <td>0.166480</td>\n",
              "      <td>0.448154</td>\n",
              "      <td>0.060018</td>\n",
              "      <td>-0.082361</td>\n",
              "      <td>-0.078803</td>\n",
              "      <td>0.085102</td>\n",
              "      <td>-0.255425</td>\n",
              "      <td>-0.166974</td>\n",
              "      <td>1.612727</td>\n",
              "      <td>1.065235</td>\n",
              "      <td>0.489095</td>\n",
              "      <td>-0.143772</td>\n",
              "      <td>0.635558</td>\n",
              "      <td>0.463917</td>\n",
              "      <td>-0.114805</td>\n",
              "      <td>-0.183361</td>\n",
              "      <td>-0.145783</td>\n",
              "      <td>-0.069083</td>\n",
              "      <td>-0.225775</td>\n",
              "      <td>-0.638672</td>\n",
              "      <td>0.101288</td>\n",
              "      <td>-0.339846</td>\n",
              "      <td>0.167170</td>\n",
              "      <td>0.125895</td>\n",
              "      <td>-0.008983</td>\n",
              "      <td>0.014724</td>\n",
              "      <td>2.69</td>\n",
              "      <td>0</td>\n",
              "    </tr>\n",
              "    <tr>\n",
              "      <th>2</th>\n",
              "      <td>1.0</td>\n",
              "      <td>-1.358354</td>\n",
              "      <td>-1.340163</td>\n",
              "      <td>1.773209</td>\n",
              "      <td>0.379780</td>\n",
              "      <td>-0.503198</td>\n",
              "      <td>1.800499</td>\n",
              "      <td>0.791461</td>\n",
              "      <td>0.247676</td>\n",
              "      <td>-1.514654</td>\n",
              "      <td>0.207643</td>\n",
              "      <td>0.624501</td>\n",
              "      <td>0.066084</td>\n",
              "      <td>0.717293</td>\n",
              "      <td>-0.165946</td>\n",
              "      <td>2.345865</td>\n",
              "      <td>-2.890083</td>\n",
              "      <td>1.109969</td>\n",
              "      <td>-0.121359</td>\n",
              "      <td>-2.261857</td>\n",
              "      <td>0.524980</td>\n",
              "      <td>0.247998</td>\n",
              "      <td>0.771679</td>\n",
              "      <td>0.909412</td>\n",
              "      <td>-0.689281</td>\n",
              "      <td>-0.327642</td>\n",
              "      <td>-0.139097</td>\n",
              "      <td>-0.055353</td>\n",
              "      <td>-0.059752</td>\n",
              "      <td>378.66</td>\n",
              "      <td>0</td>\n",
              "    </tr>\n",
              "    <tr>\n",
              "      <th>3</th>\n",
              "      <td>1.0</td>\n",
              "      <td>-0.966272</td>\n",
              "      <td>-0.185226</td>\n",
              "      <td>1.792993</td>\n",
              "      <td>-0.863291</td>\n",
              "      <td>-0.010309</td>\n",
              "      <td>1.247203</td>\n",
              "      <td>0.237609</td>\n",
              "      <td>0.377436</td>\n",
              "      <td>-1.387024</td>\n",
              "      <td>-0.054952</td>\n",
              "      <td>-0.226487</td>\n",
              "      <td>0.178228</td>\n",
              "      <td>0.507757</td>\n",
              "      <td>-0.287924</td>\n",
              "      <td>-0.631418</td>\n",
              "      <td>-1.059647</td>\n",
              "      <td>-0.684093</td>\n",
              "      <td>1.965775</td>\n",
              "      <td>-1.232622</td>\n",
              "      <td>-0.208038</td>\n",
              "      <td>-0.108300</td>\n",
              "      <td>0.005274</td>\n",
              "      <td>-0.190321</td>\n",
              "      <td>-1.175575</td>\n",
              "      <td>0.647376</td>\n",
              "      <td>-0.221929</td>\n",
              "      <td>0.062723</td>\n",
              "      <td>0.061458</td>\n",
              "      <td>123.50</td>\n",
              "      <td>0</td>\n",
              "    </tr>\n",
              "    <tr>\n",
              "      <th>4</th>\n",
              "      <td>2.0</td>\n",
              "      <td>-1.158233</td>\n",
              "      <td>0.877737</td>\n",
              "      <td>1.548718</td>\n",
              "      <td>0.403034</td>\n",
              "      <td>-0.407193</td>\n",
              "      <td>0.095921</td>\n",
              "      <td>0.592941</td>\n",
              "      <td>-0.270533</td>\n",
              "      <td>0.817739</td>\n",
              "      <td>0.753074</td>\n",
              "      <td>-0.822843</td>\n",
              "      <td>0.538196</td>\n",
              "      <td>1.345852</td>\n",
              "      <td>-1.119670</td>\n",
              "      <td>0.175121</td>\n",
              "      <td>-0.451449</td>\n",
              "      <td>-0.237033</td>\n",
              "      <td>-0.038195</td>\n",
              "      <td>0.803487</td>\n",
              "      <td>0.408542</td>\n",
              "      <td>-0.009431</td>\n",
              "      <td>0.798278</td>\n",
              "      <td>-0.137458</td>\n",
              "      <td>0.141267</td>\n",
              "      <td>-0.206010</td>\n",
              "      <td>0.502292</td>\n",
              "      <td>0.219422</td>\n",
              "      <td>0.215153</td>\n",
              "      <td>69.99</td>\n",
              "      <td>0</td>\n",
              "    </tr>\n",
              "    <tr>\n",
              "      <th>...</th>\n",
              "      <td>...</td>\n",
              "      <td>...</td>\n",
              "      <td>...</td>\n",
              "      <td>...</td>\n",
              "      <td>...</td>\n",
              "      <td>...</td>\n",
              "      <td>...</td>\n",
              "      <td>...</td>\n",
              "      <td>...</td>\n",
              "      <td>...</td>\n",
              "      <td>...</td>\n",
              "      <td>...</td>\n",
              "      <td>...</td>\n",
              "      <td>...</td>\n",
              "      <td>...</td>\n",
              "      <td>...</td>\n",
              "      <td>...</td>\n",
              "      <td>...</td>\n",
              "      <td>...</td>\n",
              "      <td>...</td>\n",
              "      <td>...</td>\n",
              "      <td>...</td>\n",
              "      <td>...</td>\n",
              "      <td>...</td>\n",
              "      <td>...</td>\n",
              "      <td>...</td>\n",
              "      <td>...</td>\n",
              "      <td>...</td>\n",
              "      <td>...</td>\n",
              "      <td>...</td>\n",
              "      <td>...</td>\n",
              "    </tr>\n",
              "    <tr>\n",
              "      <th>284802</th>\n",
              "      <td>172786.0</td>\n",
              "      <td>-11.881118</td>\n",
              "      <td>10.071785</td>\n",
              "      <td>-9.834783</td>\n",
              "      <td>-2.066656</td>\n",
              "      <td>-5.364473</td>\n",
              "      <td>-2.606837</td>\n",
              "      <td>-4.918215</td>\n",
              "      <td>7.305334</td>\n",
              "      <td>1.914428</td>\n",
              "      <td>4.356170</td>\n",
              "      <td>-1.593105</td>\n",
              "      <td>2.711941</td>\n",
              "      <td>-0.689256</td>\n",
              "      <td>4.626942</td>\n",
              "      <td>-0.924459</td>\n",
              "      <td>1.107641</td>\n",
              "      <td>1.991691</td>\n",
              "      <td>0.510632</td>\n",
              "      <td>-0.682920</td>\n",
              "      <td>1.475829</td>\n",
              "      <td>0.213454</td>\n",
              "      <td>0.111864</td>\n",
              "      <td>1.014480</td>\n",
              "      <td>-0.509348</td>\n",
              "      <td>1.436807</td>\n",
              "      <td>0.250034</td>\n",
              "      <td>0.943651</td>\n",
              "      <td>0.823731</td>\n",
              "      <td>0.77</td>\n",
              "      <td>0</td>\n",
              "    </tr>\n",
              "    <tr>\n",
              "      <th>284803</th>\n",
              "      <td>172787.0</td>\n",
              "      <td>-0.732789</td>\n",
              "      <td>-0.055080</td>\n",
              "      <td>2.035030</td>\n",
              "      <td>-0.738589</td>\n",
              "      <td>0.868229</td>\n",
              "      <td>1.058415</td>\n",
              "      <td>0.024330</td>\n",
              "      <td>0.294869</td>\n",
              "      <td>0.584800</td>\n",
              "      <td>-0.975926</td>\n",
              "      <td>-0.150189</td>\n",
              "      <td>0.915802</td>\n",
              "      <td>1.214756</td>\n",
              "      <td>-0.675143</td>\n",
              "      <td>1.164931</td>\n",
              "      <td>-0.711757</td>\n",
              "      <td>-0.025693</td>\n",
              "      <td>-1.221179</td>\n",
              "      <td>-1.545556</td>\n",
              "      <td>0.059616</td>\n",
              "      <td>0.214205</td>\n",
              "      <td>0.924384</td>\n",
              "      <td>0.012463</td>\n",
              "      <td>-1.016226</td>\n",
              "      <td>-0.606624</td>\n",
              "      <td>-0.395255</td>\n",
              "      <td>0.068472</td>\n",
              "      <td>-0.053527</td>\n",
              "      <td>24.79</td>\n",
              "      <td>0</td>\n",
              "    </tr>\n",
              "    <tr>\n",
              "      <th>284804</th>\n",
              "      <td>172788.0</td>\n",
              "      <td>1.919565</td>\n",
              "      <td>-0.301254</td>\n",
              "      <td>-3.249640</td>\n",
              "      <td>-0.557828</td>\n",
              "      <td>2.630515</td>\n",
              "      <td>3.031260</td>\n",
              "      <td>-0.296827</td>\n",
              "      <td>0.708417</td>\n",
              "      <td>0.432454</td>\n",
              "      <td>-0.484782</td>\n",
              "      <td>0.411614</td>\n",
              "      <td>0.063119</td>\n",
              "      <td>-0.183699</td>\n",
              "      <td>-0.510602</td>\n",
              "      <td>1.329284</td>\n",
              "      <td>0.140716</td>\n",
              "      <td>0.313502</td>\n",
              "      <td>0.395652</td>\n",
              "      <td>-0.577252</td>\n",
              "      <td>0.001396</td>\n",
              "      <td>0.232045</td>\n",
              "      <td>0.578229</td>\n",
              "      <td>-0.037501</td>\n",
              "      <td>0.640134</td>\n",
              "      <td>0.265745</td>\n",
              "      <td>-0.087371</td>\n",
              "      <td>0.004455</td>\n",
              "      <td>-0.026561</td>\n",
              "      <td>67.88</td>\n",
              "      <td>0</td>\n",
              "    </tr>\n",
              "    <tr>\n",
              "      <th>284805</th>\n",
              "      <td>172788.0</td>\n",
              "      <td>-0.240440</td>\n",
              "      <td>0.530483</td>\n",
              "      <td>0.702510</td>\n",
              "      <td>0.689799</td>\n",
              "      <td>-0.377961</td>\n",
              "      <td>0.623708</td>\n",
              "      <td>-0.686180</td>\n",
              "      <td>0.679145</td>\n",
              "      <td>0.392087</td>\n",
              "      <td>-0.399126</td>\n",
              "      <td>-1.933849</td>\n",
              "      <td>-0.962886</td>\n",
              "      <td>-1.042082</td>\n",
              "      <td>0.449624</td>\n",
              "      <td>1.962563</td>\n",
              "      <td>-0.608577</td>\n",
              "      <td>0.509928</td>\n",
              "      <td>1.113981</td>\n",
              "      <td>2.897849</td>\n",
              "      <td>0.127434</td>\n",
              "      <td>0.265245</td>\n",
              "      <td>0.800049</td>\n",
              "      <td>-0.163298</td>\n",
              "      <td>0.123205</td>\n",
              "      <td>-0.569159</td>\n",
              "      <td>0.546668</td>\n",
              "      <td>0.108821</td>\n",
              "      <td>0.104533</td>\n",
              "      <td>10.00</td>\n",
              "      <td>0</td>\n",
              "    </tr>\n",
              "    <tr>\n",
              "      <th>284806</th>\n",
              "      <td>172792.0</td>\n",
              "      <td>-0.533413</td>\n",
              "      <td>-0.189733</td>\n",
              "      <td>0.703337</td>\n",
              "      <td>-0.506271</td>\n",
              "      <td>-0.012546</td>\n",
              "      <td>-0.649617</td>\n",
              "      <td>1.577006</td>\n",
              "      <td>-0.414650</td>\n",
              "      <td>0.486180</td>\n",
              "      <td>-0.915427</td>\n",
              "      <td>-1.040458</td>\n",
              "      <td>-0.031513</td>\n",
              "      <td>-0.188093</td>\n",
              "      <td>-0.084316</td>\n",
              "      <td>0.041333</td>\n",
              "      <td>-0.302620</td>\n",
              "      <td>-0.660377</td>\n",
              "      <td>0.167430</td>\n",
              "      <td>-0.256117</td>\n",
              "      <td>0.382948</td>\n",
              "      <td>0.261057</td>\n",
              "      <td>0.643078</td>\n",
              "      <td>0.376777</td>\n",
              "      <td>0.008797</td>\n",
              "      <td>-0.473649</td>\n",
              "      <td>-0.818267</td>\n",
              "      <td>-0.002415</td>\n",
              "      <td>0.013649</td>\n",
              "      <td>217.00</td>\n",
              "      <td>0</td>\n",
              "    </tr>\n",
              "  </tbody>\n",
              "</table>\n",
              "<p>284807 rows × 31 columns</p>\n",
              "</div>"
            ],
            "text/plain": [
              "            Time         V1         V2  ...       V28  Amount  Class\n",
              "0            0.0  -1.359807  -0.072781  ... -0.021053  149.62      0\n",
              "1            0.0   1.191857   0.266151  ...  0.014724    2.69      0\n",
              "2            1.0  -1.358354  -1.340163  ... -0.059752  378.66      0\n",
              "3            1.0  -0.966272  -0.185226  ...  0.061458  123.50      0\n",
              "4            2.0  -1.158233   0.877737  ...  0.215153   69.99      0\n",
              "...          ...        ...        ...  ...       ...     ...    ...\n",
              "284802  172786.0 -11.881118  10.071785  ...  0.823731    0.77      0\n",
              "284803  172787.0  -0.732789  -0.055080  ... -0.053527   24.79      0\n",
              "284804  172788.0   1.919565  -0.301254  ... -0.026561   67.88      0\n",
              "284805  172788.0  -0.240440   0.530483  ...  0.104533   10.00      0\n",
              "284806  172792.0  -0.533413  -0.189733  ...  0.013649  217.00      0\n",
              "\n",
              "[284807 rows x 31 columns]"
            ]
          },
          "metadata": {
            "tags": []
          },
          "execution_count": 3
        }
      ]
    },
    {
      "cell_type": "code",
      "metadata": {
        "id": "TiVVOnzTA1u0"
      },
      "source": [
        "X = df.drop(['Time','Class'], axis = 1)\n",
        "Y = df['Class']"
      ],
      "execution_count": null,
      "outputs": []
    },
    {
      "cell_type": "code",
      "metadata": {
        "id": "t9S2Mhr5Gqfu"
      },
      "source": [
        "from sklearn.model_selection import train_test_split\n",
        "from sklearn import preprocessing\n",
        "X_train, X_test, Y_train, Y_test = train_test_split(X,Y,test_size=0.9)"
      ],
      "execution_count": null,
      "outputs": []
    },
    {
      "cell_type": "markdown",
      "metadata": {
        "id": "lWMa3cLzHtKx"
      },
      "source": [
        "Scaling X with StandardScaler"
      ]
    },
    {
      "cell_type": "code",
      "metadata": {
        "id": "6fcLmlePHng0"
      },
      "source": [
        "scaler = preprocessing.StandardScaler()\n",
        "X_train_ss = scaler.fit_transform(X_train)\n",
        "X_test_ss = scaler.transform(X_test)"
      ],
      "execution_count": null,
      "outputs": []
    },
    {
      "cell_type": "markdown",
      "metadata": {
        "id": "iEuSoqWpKlEj"
      },
      "source": [
        "Scaling X with MinMaxScaler"
      ]
    },
    {
      "cell_type": "code",
      "metadata": {
        "id": "nWQqQblkKtNO"
      },
      "source": [
        "scaler = preprocessing.MinMaxScaler()\n",
        "X_train_mms = scaler.fit_transform(X_train)\n",
        "X_test_mms = scaler.transform(X_test)"
      ],
      "execution_count": null,
      "outputs": []
    },
    {
      "cell_type": "markdown",
      "metadata": {
        "id": "5Ic6Y1TLLfrn"
      },
      "source": [
        "Scaling X with MaxAbsScaler"
      ]
    },
    {
      "cell_type": "code",
      "metadata": {
        "id": "R3MF4KtJLka7"
      },
      "source": [
        "scaler = preprocessing.MaxAbsScaler()\n",
        "X_train_mas = scaler.fit_transform(X_train)\n",
        "X_test_mas = scaler.transform(X_test)"
      ],
      "execution_count": null,
      "outputs": []
    },
    {
      "cell_type": "markdown",
      "metadata": {
        "id": "DFBBF-YuMDD3"
      },
      "source": [
        "Scaling X with RobustScaler"
      ]
    },
    {
      "cell_type": "code",
      "metadata": {
        "id": "6C0d_FuRLykr"
      },
      "source": [
        "scaler = preprocessing.RobustScaler()\n",
        "X_train_rs = scaler.fit_transform(X_train)\n",
        "X_test_rs = scaler.transform(X_test)"
      ],
      "execution_count": null,
      "outputs": []
    },
    {
      "cell_type": "markdown",
      "metadata": {
        "id": "H2LC2uh2MhN9"
      },
      "source": [
        "Scaling X with PCA"
      ]
    },
    {
      "cell_type": "code",
      "metadata": {
        "id": "PrBqIa0YMSvi"
      },
      "source": [
        "from sklearn.decomposition import PCA\n",
        "scaler = PCA(n_components = \"mle\", svd_solver = \"full\")\n",
        "X_train_pca = scaler.fit_transform(X_train)\n",
        "X_test_pca = scaler.transform(X_test)"
      ],
      "execution_count": null,
      "outputs": []
    },
    {
      "cell_type": "markdown",
      "metadata": {
        "id": "xCSvhG2pOZG1"
      },
      "source": [
        "Mapping X with Uniform distribution"
      ]
    },
    {
      "cell_type": "code",
      "metadata": {
        "id": "3RoSrDsnNpsD"
      },
      "source": [
        "transformer = preprocessing.QuantileTransformer()\n",
        "X_train_u = transformer.fit_transform(X_train)\n",
        "X_test_u = transformer.transform(X_test)"
      ],
      "execution_count": null,
      "outputs": []
    },
    {
      "cell_type": "markdown",
      "metadata": {
        "id": "Jr2YlVAyPKnZ"
      },
      "source": [
        "Mapping X with Gaussion distribution(Yeo-Johnson)"
      ]
    },
    {
      "cell_type": "code",
      "metadata": {
        "id": "KMSzazHOO_g2"
      },
      "source": [
        "transformer = preprocessing.PowerTransformer(method = \"yeo-johnson\", standardize=False)\n",
        "X_train_g = transformer.fit_transform(X_train)\n",
        "X_test_g = transformer.transform(X_test)"
      ],
      "execution_count": null,
      "outputs": []
    },
    {
      "cell_type": "markdown",
      "metadata": {
        "id": "VbIhBPToQP8n"
      },
      "source": [
        "Mapping X with Normalize distribution"
      ]
    },
    {
      "cell_type": "code",
      "metadata": {
        "id": "pziaYh-DPuea"
      },
      "source": [
        "transformer = preprocessing.Normalizer(norm = 'l2')\n",
        "X_train_n = transformer.transform(X_train)\n",
        "X_test_n = transformer.transform(X_test)"
      ],
      "execution_count": null,
      "outputs": []
    },
    {
      "cell_type": "markdown",
      "metadata": {
        "id": "PayJnLa9TYfA"
      },
      "source": [
        "Encoder X with KBin Discretization"
      ]
    },
    {
      "cell_type": "code",
      "metadata": {
        "id": "arypx5ftQqy0"
      },
      "source": [
        "encoder = preprocessing.KBinsDiscretizer(n_bins = 10, strategy = 'uniform')\n",
        "X_train_kbin = encoder.fit_transform(X_train)\n",
        "X_test_kbin = encoder.transform(X_test)"
      ],
      "execution_count": null,
      "outputs": []
    },
    {
      "cell_type": "markdown",
      "metadata": {
        "id": "4-i6RyDup0XQ"
      },
      "source": [
        "Function to classify"
      ]
    },
    {
      "cell_type": "code",
      "metadata": {
        "id": "-Z0Qt1YNUPSO"
      },
      "source": [
        "def LRaccuracy(X_train,X_test,Y_train,Y_test):\n",
        "  import time\n",
        "  from sklearn.linear_model import LogisticRegression\n",
        "  from sklearn.metrics import accuracy_score\n",
        "  start = time.time()\n",
        "  clf = LogisticRegression(max_iter = X_train.shape[0]).fit(X_train,Y_train)\n",
        "  Y_predict = clf.predict(X_test)\n",
        "  score = accuracy_score(Y_test,Y_predict)\n",
        "  end = time.time()\n",
        "  print(\"Accuracy score for Logistic Regression: \",score)\n",
        "  print(\"Time estimated: \",end-start)\n",
        "  return score"
      ],
      "execution_count": null,
      "outputs": []
    },
    {
      "cell_type": "code",
      "metadata": {
        "id": "JMUSFhJcXO5v"
      },
      "source": [
        "def SVCaccuracy(X_train,X_test,Y_train,Y_test):\n",
        "  import time\n",
        "  from sklearn import svm\n",
        "  from sklearn.metrics import accuracy_score\n",
        "  start = time.time()\n",
        "  clf = svm.SVC()\n",
        "  clf.fit(X_train,Y_train)\n",
        "  Y_predict = clf.predict(X_test)\n",
        "  score = accuracy_score(Y_test,Y_predict)\n",
        "  end = time.time()\n",
        "  print(\"Accuracy score for Support Vector Classification: \",score)\n",
        "  print(\"Time estimated: \",end-start)\n",
        "  return score"
      ],
      "execution_count": null,
      "outputs": []
    },
    {
      "cell_type": "code",
      "metadata": {
        "id": "E_RcHaKZYZdE"
      },
      "source": [
        "def DTCaccuracy(X_train, X_test,Y_train,Y_test):\n",
        "  import time\n",
        "  from sklearn import tree\n",
        "  from sklearn.metrics import accuracy_score\n",
        "  start = time.time()\n",
        "  clf = tree.DecisionTreeClassifier()\n",
        "  clf.fit(X_train,Y_train)\n",
        "  Y_predict = clf.predict(X_test)\n",
        "  score = accuracy_score(Y_test,Y_predict)\n",
        "  end = time.time()\n",
        "  print(\"Accuracy score for Decision Tree Classification: \", score)\n",
        "  print(\"Time estimatimated: \",end-start)\n",
        "  return score"
      ],
      "execution_count": null,
      "outputs": []
    },
    {
      "cell_type": "code",
      "metadata": {
        "id": "r0OThwieZx0I"
      },
      "source": [
        "def RFCaccuracy(X_train,X_test,Y_train,Y_test):\n",
        "  import time\n",
        "  from sklearn.ensemble import RandomForestClassifier\n",
        "  from sklearn.metrics import accuracy_score\n",
        "  start = time.time()\n",
        "  clf = RandomForestClassifier()\n",
        "  clf.fit(X_train,Y_train)\n",
        "  Y_predict = clf.predict(X_test)\n",
        "  score = accuracy_score(Y_test,Y_predict)\n",
        "  end = time.time()\n",
        "  print(\"Accuracy score for Random Forest Classifier: \", score)\n",
        "  print(\"Time estimated: \",end-start)\n",
        "  return score"
      ],
      "execution_count": null,
      "outputs": []
    },
    {
      "cell_type": "code",
      "metadata": {
        "id": "Sjjl6k2mbwei"
      },
      "source": [
        "def Classify(X_train,X_test,Y_train,Y_test):\n",
        "  lr = LRaccuracy(X_train,X_test,Y_train,Y_test)\n",
        "  svc = SVCaccuracy(X_train,X_test,Y_train,Y_test)\n",
        "  dtc = DTCaccuracy(X_train,X_test,Y_train,Y_test)\n",
        "  rfc = RFCaccuracy(X_train,X_test,Y_train,Y_test)\n",
        "  print(\"*\"*50)\n",
        "  return np.array([lr,svc,dtc,rfc])"
      ],
      "execution_count": null,
      "outputs": []
    },
    {
      "cell_type": "code",
      "metadata": {
        "id": "bLgJ-_c1fVxJ"
      },
      "source": [
        "def Compare(NoneProcessing, Processing):\n",
        "  for i in range(len(NoneProcessing)):\n",
        "    state = \"\"\n",
        "    if (NoneProcessing[i]<Processing[i]):\n",
        "      state = \"Good\"\n",
        "    else:\n",
        "      state = \"Bad\"\n",
        "    switcher = {\n",
        "        0: \"Logistic Regression\",\n",
        "        1: \"Support Vector Classification\",\n",
        "        2: \"Decision Tree Classification\",\n",
        "        3: \"Random Forest Classification\"\n",
        "    }\n",
        "    print(state + \" \" + switcher.get(i))\n",
        "  print(\"*\"*50)\n",
        "  print(\"*\"*50)\n"
      ],
      "execution_count": null,
      "outputs": []
    },
    {
      "cell_type": "markdown",
      "metadata": {
        "id": "0pY16Iiep74C"
      },
      "source": [
        "Compare before and after preprocessing"
      ]
    },
    {
      "cell_type": "code",
      "metadata": {
        "id": "E_g-wDfqc3bi",
        "outputId": "262406b1-d24d-43bf-968e-2bf3717bdba3",
        "colab": {
          "base_uri": "https://localhost:8080/"
        }
      },
      "source": [
        "print(\"Classify without preprocessing: \")\n",
        "scores_before = Classify(X_train,X_test,Y_train,Y_test)"
      ],
      "execution_count": null,
      "outputs": [
        {
          "output_type": "stream",
          "text": [
            "Classify without preprocessing: \n",
            "Accuracy score for Logistic Regression:  0.9992704631193748\n",
            "Time estimated:  4.814395427703857\n",
            "Accuracy score for Support Vector Classification:  0.9983731717688733\n",
            "Time estimated:  3.3279998302459717\n",
            "Accuracy score for Decision Tree Classification:  0.9985019135713367\n",
            "Time estimatimated:  0.9613864421844482\n",
            "Accuracy score for Random Forest Classifier:  0.9993211795870119\n",
            "Time estimated:  11.702655792236328\n",
            "**************************************************\n"
          ],
          "name": "stdout"
        }
      ]
    },
    {
      "cell_type": "code",
      "metadata": {
        "id": "lINCIqtfax1u",
        "outputId": "53399805-9461-46da-96f3-72f1f15de4de",
        "colab": {
          "base_uri": "https://localhost:8080/"
        }
      },
      "source": [
        "print(\"Classify with StandardScaler: \")\n",
        "scores_after = Classify(X_train_ss,X_test_ss,Y_train,Y_test)\n",
        "Compare(scores_before,scores_after)"
      ],
      "execution_count": null,
      "outputs": [
        {
          "output_type": "stream",
          "text": [
            "Classify with StandardScaler: \n",
            "Accuracy score for Logistic Regression:  0.999247055518927\n",
            "Time estimated:  0.4596991539001465\n",
            "Accuracy score for Support Vector Classification:  0.9987164832421087\n",
            "Time estimated:  14.79032564163208\n",
            "Accuracy score for Decision Tree Classification:  0.9984668021706649\n",
            "Time estimatimated:  0.9812302589416504\n",
            "Accuracy score for Random Forest Classifier:  0.9992899694530815\n",
            "Time estimated:  12.045189142227173\n",
            "**************************************************\n",
            "Bad Logistic Regression\n",
            "Good Support Vector Classification\n",
            "Bad Decision Tree Classification\n",
            "Bad Random Forest Classification\n",
            "**************************************************\n",
            "**************************************************\n"
          ],
          "name": "stdout"
        }
      ]
    },
    {
      "cell_type": "code",
      "metadata": {
        "id": "g74zCiw4cict",
        "outputId": "93ab6732-48a7-4b61-a656-f52f128cbcc6",
        "colab": {
          "base_uri": "https://localhost:8080/"
        }
      },
      "source": [
        "print(\"Classify with MinMaxScaler: \")\n",
        "scores_after = Classify(X_train_mms,X_test_mms,Y_train,Y_test)\n",
        "Compare(scores_before,scores_after)"
      ],
      "execution_count": null,
      "outputs": [
        {
          "output_type": "stream",
          "text": [
            "Classify with MinMaxScaler: \n",
            "Accuracy score for Logistic Regression:  0.9988218174441241\n",
            "Time estimated:  0.28748345375061035\n",
            "Accuracy score for Support Vector Classification:  0.9993718960546489\n",
            "Time estimated:  2.0489723682403564\n",
            "Accuracy score for Decision Tree Classification:  0.9983770730356146\n",
            "Time estimatimated:  0.9549870491027832\n",
            "Accuracy score for Random Forest Classifier:  0.9992782656528575\n",
            "Time estimated:  11.866410255432129\n",
            "**************************************************\n",
            "Bad Logistic Regression\n",
            "Good Support Vector Classification\n",
            "Bad Decision Tree Classification\n",
            "Bad Random Forest Classification\n",
            "**************************************************\n",
            "**************************************************\n"
          ],
          "name": "stdout"
        }
      ]
    },
    {
      "cell_type": "code",
      "metadata": {
        "id": "fYGm46IsdnX5",
        "outputId": "4d1af91e-df18-458f-91de-d6dede9f08bd",
        "colab": {
          "base_uri": "https://localhost:8080/"
        }
      },
      "source": [
        "print(\"Classify with MaxAbsScaler: \")\n",
        "scores_after = Classify(X_train_mas,X_test_mas,Y_train,Y_test)\n",
        "Compare(scores_before,scores_after)"
      ],
      "execution_count": null,
      "outputs": [
        {
          "output_type": "stream",
          "text": [
            "Classify with MaxAbsScaler: \n",
            "Accuracy score for Logistic Regression:  0.998997374447483\n",
            "Time estimated:  0.17910361289978027\n",
            "Accuracy score for Support Vector Classification:  0.999009078247707\n",
            "Time estimated:  10.437146186828613\n",
            "Accuracy score for Decision Tree Classification:  0.9984082831695451\n",
            "Time estimatimated:  0.9599359035491943\n",
            "Accuracy score for Random Forest Classifier:  0.9992821669195988\n",
            "Time estimated:  12.178847551345825\n",
            "**************************************************\n",
            "Bad Logistic Regression\n",
            "Good Support Vector Classification\n",
            "Bad Decision Tree Classification\n",
            "Bad Random Forest Classification\n",
            "**************************************************\n",
            "**************************************************\n"
          ],
          "name": "stdout"
        }
      ]
    },
    {
      "cell_type": "code",
      "metadata": {
        "id": "Ab8L4U-Rd9Rg",
        "outputId": "d9782320-1a59-4798-c46e-fd212a7a6545",
        "colab": {
          "base_uri": "https://localhost:8080/"
        }
      },
      "source": [
        "print(\"Classify with RobustScaler: \")\n",
        "scores_after = Classify(X_train_rs,X_test_rs,Y_train,Y_test)\n",
        "Compare(scores_before,scores_after)"
      ],
      "execution_count": null,
      "outputs": [
        {
          "output_type": "stream",
          "text": [
            "Classify with RobustScaler: \n",
            "Accuracy score for Logistic Regression:  0.9992548580524097\n",
            "Time estimated:  0.731464147567749\n",
            "Accuracy score for Support Vector Classification:  0.9989232503793982\n",
            "Time estimated:  13.599636793136597\n",
            "Accuracy score for Decision Tree Classification:  0.9985799389061628\n",
            "Time estimatimated:  1.007054090499878\n",
            "Accuracy score for Random Forest Classifier:  0.9993172783202706\n",
            "Time estimated:  12.024746894836426\n",
            "**************************************************\n",
            "Bad Logistic Regression\n",
            "Good Support Vector Classification\n",
            "Good Decision Tree Classification\n",
            "Bad Random Forest Classification\n",
            "**************************************************\n",
            "**************************************************\n"
          ],
          "name": "stdout"
        }
      ]
    },
    {
      "cell_type": "code",
      "metadata": {
        "id": "puRbXGOynmy6",
        "outputId": "b1a9b73b-6480-4267-f02e-fa2a6daa5076",
        "colab": {
          "base_uri": "https://localhost:8080/"
        }
      },
      "source": [
        "print(\"Classify with PCA\")\n",
        "scores_after = Classify(X_train_pca,X_test_pca,Y_train,Y_test)\n",
        "Compare(scores_before,scores_after)"
      ],
      "execution_count": null,
      "outputs": [
        {
          "output_type": "stream",
          "text": [
            "Classify with PCA\n",
            "Accuracy score for Logistic Regression:  0.9992704631193748\n",
            "Time estimated:  2.6892194747924805\n",
            "Accuracy score for Support Vector Classification:  0.9985409262387497\n",
            "Time estimated:  3.822157621383667\n",
            "Accuracy score for Decision Tree Classification:  0.9987515946427805\n",
            "Time estimatimated:  1.0404603481292725\n",
            "Accuracy score for Random Forest Classifier:  0.9993445871874598\n",
            "Time estimated:  11.797689199447632\n",
            "**************************************************\n",
            "Bad Logistic Regression\n",
            "Good Support Vector Classification\n",
            "Good Decision Tree Classification\n",
            "Good Random Forest Classification\n",
            "**************************************************\n",
            "**************************************************\n"
          ],
          "name": "stdout"
        }
      ]
    },
    {
      "cell_type": "code",
      "metadata": {
        "id": "fMg-yFvcn-m6",
        "outputId": "ff8295aa-d89d-4065-9e7d-ccc6816bae49",
        "colab": {
          "base_uri": "https://localhost:8080/"
        }
      },
      "source": [
        "print(\"Classify with Uniform distribution\")\n",
        "scores_after = Classify(X_train_u,X_test_u,Y_train,Y_test)\n",
        "Compare(scores_before,scores_after)"
      ],
      "execution_count": null,
      "outputs": [
        {
          "output_type": "stream",
          "text": [
            "Classify with Uniform distribution\n",
            "Accuracy score for Logistic Regression:  0.999297771986564\n",
            "Time estimated:  0.27301454544067383\n",
            "Accuracy score for Support Vector Classification:  0.9993211795870119\n",
            "Time estimated:  7.0089263916015625\n",
            "Accuracy score for Decision Tree Classification:  0.9985721363726802\n",
            "Time estimatimated:  0.9538381099700928\n",
            "Accuracy score for Random Forest Classifier:  0.9992704631193748\n",
            "Time estimated:  12.032778978347778\n",
            "**************************************************\n",
            "Good Logistic Regression\n",
            "Good Support Vector Classification\n",
            "Good Decision Tree Classification\n",
            "Bad Random Forest Classification\n",
            "**************************************************\n",
            "**************************************************\n"
          ],
          "name": "stdout"
        }
      ]
    },
    {
      "cell_type": "code",
      "metadata": {
        "id": "4teeYPploYoW",
        "outputId": "1d36f3d0-12f3-45b9-a3e8-cc81164363a8",
        "colab": {
          "base_uri": "https://localhost:8080/"
        }
      },
      "source": [
        "print(\"Classify with Gauss distribution\")\n",
        "scores_after = Classify(X_train_g,X_test_g,Y_train,Y_test)\n",
        "Compare(scores_before,scores_after)"
      ],
      "execution_count": null,
      "outputs": [
        {
          "output_type": "stream",
          "text": [
            "Classify with Gauss distribution\n",
            "Accuracy score for Logistic Regression:  0.9992626605858922\n",
            "Time estimated:  0.3631408214569092\n",
            "Accuracy score for Support Vector Classification:  0.9991573263838769\n",
            "Time estimated:  10.246626138687134\n",
            "Accuracy score for Decision Tree Classification:  0.9985643338391976\n",
            "Time estimatimated:  0.9545738697052002\n",
            "Accuracy score for Random Forest Classifier:  0.9992860681863401\n",
            "Time estimated:  11.914490699768066\n",
            "**************************************************\n",
            "Bad Logistic Regression\n",
            "Good Support Vector Classification\n",
            "Good Decision Tree Classification\n",
            "Bad Random Forest Classification\n",
            "**************************************************\n",
            "**************************************************\n"
          ],
          "name": "stdout"
        }
      ]
    },
    {
      "cell_type": "code",
      "metadata": {
        "id": "nxVcxhFMo43J",
        "outputId": "d2d0ab20-a96b-4ee9-a1ee-7faa94801e8e",
        "colab": {
          "base_uri": "https://localhost:8080/"
        }
      },
      "source": [
        "print(\"Classify with Nomalize distribution\")\n",
        "scores_after = Classify(X_train_n,X_test_n,Y_train,Y_test)\n",
        "Compare(scores_before,scores_after)"
      ],
      "execution_count": null,
      "outputs": [
        {
          "output_type": "stream",
          "text": [
            "Classify with Nomalize distribution\n",
            "Accuracy score for Logistic Regression:  0.998833521244348\n",
            "Time estimated:  0.20432186126708984\n",
            "Accuracy score for Support Vector Classification:  0.9990129795144483\n",
            "Time estimated:  3.6861774921417236\n",
            "Accuracy score for Decision Tree Classification:  0.9976865488224026\n",
            "Time estimatimated:  1.270371675491333\n",
            "Accuracy score for Random Forest Classifier:  0.9988140149106415\n",
            "Time estimated:  10.090200424194336\n",
            "**************************************************\n",
            "Bad Logistic Regression\n",
            "Good Support Vector Classification\n",
            "Bad Decision Tree Classification\n",
            "Bad Random Forest Classification\n",
            "**************************************************\n",
            "**************************************************\n"
          ],
          "name": "stdout"
        }
      ]
    },
    {
      "cell_type": "code",
      "metadata": {
        "id": "CBHrCuUdpQi3",
        "outputId": "6205e41f-9d4a-4af2-8f09-4be83b5d2fec",
        "colab": {
          "base_uri": "https://localhost:8080/"
        }
      },
      "source": [
        "print(\"Classify with KBinDiscrete\")\n",
        "scores_after = Classify(X_train_kbin,X_test_kbin,Y_train,Y_test)\n",
        "Compare(scores_before,scores_after)"
      ],
      "execution_count": null,
      "outputs": [
        {
          "output_type": "stream",
          "text": [
            "Classify with KBinDiscrete\n",
            "Accuracy score for Logistic Regression:  0.9992275491852204\n",
            "Time estimated:  0.3785061836242676\n",
            "Accuracy score for Support Vector Classification:  0.9992041415847726\n",
            "Time estimated:  22.801583528518677\n",
            "Accuracy score for Decision Tree Classification:  0.9982600350333753\n",
            "Time estimatimated:  0.25676417350769043\n",
            "Accuracy score for Random Forest Classifier:  0.9990246833146723\n",
            "Time estimated:  5.404771327972412\n",
            "**************************************************\n",
            "Bad Logistic Regression\n",
            "Good Support Vector Classification\n",
            "Bad Decision Tree Classification\n",
            "Bad Random Forest Classification\n",
            "**************************************************\n",
            "**************************************************\n"
          ],
          "name": "stdout"
        }
      ]
    },
    {
      "cell_type": "code",
      "metadata": {
        "id": "Vi8Ac2C6pl6H"
      },
      "source": [
        ""
      ],
      "execution_count": null,
      "outputs": []
    }
  ]
}