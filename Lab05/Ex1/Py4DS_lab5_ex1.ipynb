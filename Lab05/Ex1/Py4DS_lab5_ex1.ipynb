{
  "nbformat": 4,
  "nbformat_minor": 0,
  "metadata": {
    "colab": {
      "name": "Py4DS_lab5_ex1.ipynb",
      "provenance": [],
      "collapsed_sections": []
    },
    "kernelspec": {
      "name": "python3",
      "display_name": "Python 3"
    }
  },
  "cells": [
    {
      "cell_type": "code",
      "metadata": {
        "colab": {
          "base_uri": "https://localhost:8080/"
        },
        "id": "wVRk4BBdrWbX",
        "outputId": "99c8a583-7882-408e-b94c-12f4eaa6f1f2"
      },
      "source": [
        "from google.colab import drive\n",
        "drive.mount('/content/drive')"
      ],
      "execution_count": 1,
      "outputs": [
        {
          "output_type": "stream",
          "text": [
            "Drive already mounted at /content/drive; to attempt to forcibly remount, call drive.mount(\"/content/drive\", force_remount=True).\n"
          ],
          "name": "stdout"
        }
      ]
    },
    {
      "cell_type": "code",
      "metadata": {
        "id": "1s66uh-TsR1l"
      },
      "source": [
        "import pandas as pd\n",
        "import numpy as np\n",
        "import re\n",
        "import sklearn\n",
        "from sklearn.preprocessing import LabelEncoder\n",
        "from sklearn.model_selection import train_test_split\n",
        "import warnings\n",
        "warnings.filterwarnings('ignore')"
      ],
      "execution_count": 2,
      "outputs": []
    },
    {
      "cell_type": "code",
      "metadata": {
        "colab": {
          "base_uri": "https://localhost:8080/",
          "height": 52
        },
        "id": "SJEgsDXXv25N",
        "outputId": "a850f2b7-4e11-45ad-8709-8a40d80a1799"
      },
      "source": [
        "'''\n",
        "Function: impute_mode_age\n",
        "Purpose: Impute missing value with mode(seperate by sex)\n",
        "Parameter: \n",
        "  df_in: Input DataFrame\n",
        "Return:\n",
        "  DataFrame after impute missing value\n",
        "#'''"
      ],
      "execution_count": 3,
      "outputs": [
        {
          "output_type": "execute_result",
          "data": {
            "application/vnd.google.colaboratory.intrinsic+json": {
              "type": "string"
            },
            "text/plain": [
              "'\\nFunction: impute_mode_age\\nPurpose: Impute missing value with mode(seperate by sex)\\nParameter: \\n  df_in: Input DataFrame\\nReturn:\\n  DataFrame after impute missing value\\n#'"
            ]
          },
          "metadata": {
            "tags": []
          },
          "execution_count": 3
        }
      ]
    },
    {
      "cell_type": "code",
      "metadata": {
        "id": "bp5qVcPGbyG_"
      },
      "source": [
        "def impute_mode_age(df_in):\n",
        "  from scipy import stats\n",
        "  a = np.array(df_in.groupby(['Sex'])['Age'])\n",
        "  female_mode = int(stats.mode(a[0][1])[0])\n",
        "  male_mode = int(stats.mode(a[1][1])[0])\n",
        "  df_in = df_in.reset_index(drop = True)\n",
        "  male_df = df_in[df_in['Sex'] == 1]\n",
        "  female_df = df_in[df_in['Sex'] == 0]\n",
        "  male_df = male_df.fillna(male_mode)\n",
        "  female_df = female_df.fillna(female_mode)\n",
        "  return pd.concat([male_df,female_df]).sort_index()"
      ],
      "execution_count": 4,
      "outputs": []
    },
    {
      "cell_type": "code",
      "metadata": {
        "colab": {
          "base_uri": "https://localhost:8080/",
          "height": 52
        },
        "id": "p9CqpZhxwoBY",
        "outputId": "4a9cf330-83e6-4a6e-8236-7e1f68907702"
      },
      "source": [
        "'''\n",
        "Function: impute_gbr_age\n",
        "Purpose: Impute missing value using Gradient Boot Regression to predict\n",
        "Parameter: \n",
        "  df_in: Input DataFrame\n",
        "Return:\n",
        "  DataFrame after impute missing value\n",
        "#'''"
      ],
      "execution_count": 5,
      "outputs": [
        {
          "output_type": "execute_result",
          "data": {
            "application/vnd.google.colaboratory.intrinsic+json": {
              "type": "string"
            },
            "text/plain": [
              "'\\nFunction: impute_gbr_age\\nPurpose: Impute missing value using Gradient Boot Regression to predict\\nParameter: \\n  df_in: Input DataFrame\\nReturn:\\n  DataFrame after impute missing value\\n#'"
            ]
          },
          "metadata": {
            "tags": []
          },
          "execution_count": 5
        }
      ]
    },
    {
      "cell_type": "code",
      "metadata": {
        "id": "yAzZixGpcKjf"
      },
      "source": [
        "def impute_gbr_age(df_in):\n",
        "  from sklearn.ensemble import GradientBoostingRegressor\n",
        "  test = df_in[df_in['Age']!=df_in['Age']]\n",
        "  train = df_in[df_in['Age']==df_in['Age']]\n",
        "  X_train = train.drop(['Age'],axis=1)\n",
        "  y_train = train['Age']\n",
        "  X_test = test.drop('Age',axis=1)\n",
        "  reg = GradientBoostingRegressor(random_state=0)\n",
        "  reg.fit(X_train,y_train)\n",
        "  y_pred = reg.predict(X_test)\n",
        "  X_test['Age'] = y_pred\n",
        "  return pd.concat([train,X_test]).sort_index()"
      ],
      "execution_count": 6,
      "outputs": []
    },
    {
      "cell_type": "code",
      "metadata": {
        "colab": {
          "base_uri": "https://localhost:8080/",
          "height": 52
        },
        "id": "0I-XH5oRw8Ig",
        "outputId": "8d677244-4947-42fa-c0ca-d0fd13ff14dc"
      },
      "source": [
        "'''\n",
        "Function: impute_gbr_age\n",
        "Purpose: Impute missing value using Linear Regression to predict\n",
        "Parameter: \n",
        "  df_in: Input DataFrame\n",
        "Return:\n",
        "  DataFrame after impute missing value\n",
        "#'''"
      ],
      "execution_count": 7,
      "outputs": [
        {
          "output_type": "execute_result",
          "data": {
            "application/vnd.google.colaboratory.intrinsic+json": {
              "type": "string"
            },
            "text/plain": [
              "'\\nFunction: impute_gbr_age\\nPurpose: Impute missing value using Linear Regression to predict\\nParameter: \\n  df_in: Input DataFrame\\nReturn:\\n  DataFrame after impute missing value\\n#'"
            ]
          },
          "metadata": {
            "tags": []
          },
          "execution_count": 7
        }
      ]
    },
    {
      "cell_type": "code",
      "metadata": {
        "id": "DmJxX14IcWBm"
      },
      "source": [
        "def impute_linear_age(df):\n",
        "  from sklearn.linear_model import LinearRegression\n",
        "  test = df[df['Age']!=df['Age']]\n",
        "  train = df[df['Age']==df['Age']]\n",
        "  X_train = train.drop(['Age'],axis=1)\n",
        "  y_train = train['Age']\n",
        "  X_test = test.drop('Age',axis=1)\n",
        "  reg = LinearRegression()\n",
        "  reg.fit(X_train,y_train)\n",
        "  y_pred = reg.predict(X_test)\n",
        "  X_test['Age'] = y_pred\n",
        "  return pd.concat([train,X_test]).sort_index()"
      ],
      "execution_count": 8,
      "outputs": []
    },
    {
      "cell_type": "code",
      "metadata": {
        "colab": {
          "base_uri": "https://localhost:8080/",
          "height": 52
        },
        "id": "Vh9oQ1RJw_N3",
        "outputId": "91cb4660-e6de-47a9-911a-936214bf145e"
      },
      "source": [
        "'''\n",
        "Function: LE_columns\n",
        "Purpose: Label Encoder columns with categorical data\n",
        "Parameter: \n",
        "  df_in: Input DataFrame\n",
        "Return:\n",
        "  DataFrame after encoder\n",
        "#'''"
      ],
      "execution_count": 9,
      "outputs": [
        {
          "output_type": "execute_result",
          "data": {
            "application/vnd.google.colaboratory.intrinsic+json": {
              "type": "string"
            },
            "text/plain": [
              "'\\nFunction: LE_columns\\nPurpose: Label Encoder columns with categorical data\\nParameter: \\n  df_in: Input DataFrame\\nReturn:\\n  DataFrame after encoder\\n#'"
            ]
          },
          "metadata": {
            "tags": []
          },
          "execution_count": 9
        }
      ]
    },
    {
      "cell_type": "code",
      "metadata": {
        "id": "P4Y7Vl78br36"
      },
      "source": [
        "def LE_columns(df):\n",
        "  columns = ['Name','Sex','Cabin','Embarked']\n",
        "  for col in columns:\n",
        "    if (not isinstance(df[col],(int,float))):\n",
        "      df[col] = LabelEncoder().fit_transform(df[col])"
      ],
      "execution_count": 10,
      "outputs": []
    },
    {
      "cell_type": "code",
      "metadata": {
        "colab": {
          "base_uri": "https://localhost:8080/",
          "height": 52
        },
        "id": "ntkr2cdXxQUP",
        "outputId": "a1788aaf-43d6-4e01-8a74-b6f831dfc8cf"
      },
      "source": [
        "'''\n",
        "Function: balancing_data\n",
        "Purpose: Handle imbalanced data\n",
        "Parameter: \n",
        "  df_in: Input DataFrame\n",
        "Return:\n",
        "  DataFrame after handling imbalanced data\n",
        "#'''"
      ],
      "execution_count": 11,
      "outputs": [
        {
          "output_type": "execute_result",
          "data": {
            "application/vnd.google.colaboratory.intrinsic+json": {
              "type": "string"
            },
            "text/plain": [
              "'\\nFunction: balancing_data\\nPurpose: Handle imbalanced data\\nParameter: \\n  df_in: Input DataFrame\\nReturn:\\n  DataFrame after handling imbalanced data\\n#'"
            ]
          },
          "metadata": {
            "tags": []
          },
          "execution_count": 11
        }
      ]
    },
    {
      "cell_type": "code",
      "metadata": {
        "id": "-2XmEKQEguZ_"
      },
      "source": [
        "def balancing_data(X_train,Y_train):\n",
        "  import imblearn\n",
        "  from imblearn.over_sampling import SMOTE\n",
        "  tmp = Y_train.value_counts(normalize=True)\n",
        "  #if (tmp.min()>0.2):\n",
        "    #return\n",
        "  sm = SMOTE(random_state=2)\n",
        "  X_train, Y_train = sm.fit_sample(X_train, Y_train.ravel())"
      ],
      "execution_count": 12,
      "outputs": []
    },
    {
      "cell_type": "code",
      "metadata": {
        "colab": {
          "base_uri": "https://localhost:8080/",
          "height": 52
        },
        "id": "I2B6VX4Pxca_",
        "outputId": "45c2373f-9e76-4574-8fba-e22b20bd8d59"
      },
      "source": [
        "'''\n",
        "Function: RFCaccuracy\n",
        "Purpose: Find Random Forest model's f1 score\n",
        "Parameter: \n",
        "  df_in: Input DataFrame\n",
        "Return:\n",
        "  F1 score\n",
        "#'''"
      ],
      "execution_count": 13,
      "outputs": [
        {
          "output_type": "execute_result",
          "data": {
            "application/vnd.google.colaboratory.intrinsic+json": {
              "type": "string"
            },
            "text/plain": [
              "\"\\nFunction: RFCaccuracy\\nPurpose: Find Random Forest model's f1 score\\nParameter: \\n  df_in: Input DataFrame\\nReturn:\\n  F1 score\\n#\""
            ]
          },
          "metadata": {
            "tags": []
          },
          "execution_count": 13
        }
      ]
    },
    {
      "cell_type": "code",
      "metadata": {
        "id": "pI10nt5acraV"
      },
      "source": [
        "def RFCaccuracy(X_train,X_test,Y_train,Y_test = []):\n",
        "  import time\n",
        "  from sklearn.ensemble import RandomForestClassifier\n",
        "  from sklearn.metrics import f1_score\n",
        "  start = time.time()\n",
        "  clf = RandomForestClassifier()\n",
        "  clf.fit(X_train,Y_train)\n",
        "  Y_predict = clf.predict(X_test)\n",
        "  end = time.time()\n",
        "  if (not Y_test==[]):\n",
        "    score = f1_score(Y_test,Y_predict)\n",
        "    print(\"Train set f1 score for Random Forest Classifier: \", f1_score(Y_train,clf.predict(X_train)))\n",
        "    print(\"Test set f1 score for Random Forest Classifier: \", score)\n",
        "    print(\"Time estimated: \",end-start)\n",
        "    return score\n",
        "  else:\n",
        "    return Y_predict"
      ],
      "execution_count": 14,
      "outputs": []
    },
    {
      "cell_type": "code",
      "metadata": {
        "colab": {
          "base_uri": "https://localhost:8080/",
          "height": 52
        },
        "id": "nYUI1ODvxm0g",
        "outputId": "86fad6f7-44a2-4c8b-cbe1-19f4a9f2e47d"
      },
      "source": [
        "'''\n",
        "Function: LRaccuracy\n",
        "Purpose: Find Logistic Regression model's f1 score\n",
        "Parameter: \n",
        "  df_in: Input DataFrame\n",
        "Return:\n",
        "  F1 score\n",
        "#'''"
      ],
      "execution_count": 15,
      "outputs": [
        {
          "output_type": "execute_result",
          "data": {
            "application/vnd.google.colaboratory.intrinsic+json": {
              "type": "string"
            },
            "text/plain": [
              "\"\\nFunction: LRaccuracy\\nPurpose: Find Logistic Regression model's f1 score\\nParameter: \\n  df_in: Input DataFrame\\nReturn:\\n  F1 score\\n#\""
            ]
          },
          "metadata": {
            "tags": []
          },
          "execution_count": 15
        }
      ]
    },
    {
      "cell_type": "code",
      "metadata": {
        "id": "1NbJB51jogr5"
      },
      "source": [
        "def LRaccuracy(X_train,X_test,Y_train,Y_test):\n",
        "  import time\n",
        "  from sklearn.linear_model import LogisticRegression\n",
        "  from sklearn.metrics import f1_score\n",
        "  start = time.time()\n",
        "  clf = LogisticRegression(max_iter = X_train.shape[0]).fit(X_train,Y_train)\n",
        "  Y_predict = clf.predict(X_test)\n",
        "  score = f1_score(Y_test,Y_predict)\n",
        "  end = time.time()\n",
        "  print(\"Train set f1 score for Logistic Regression: \", f1_score(Y_train,clf.predict(X_train)))\n",
        "  print(\"Test set f1 score for Logistic Regression: \", score)\n",
        "  print(\"Time estimated: \",end-start)\n",
        "  return score"
      ],
      "execution_count": 16,
      "outputs": []
    },
    {
      "cell_type": "code",
      "metadata": {
        "colab": {
          "base_uri": "https://localhost:8080/",
          "height": 52
        },
        "id": "HYysnAbpx4da",
        "outputId": "40976267-4d0a-462d-dc46-f1a5afd04a40"
      },
      "source": [
        "'''\n",
        "Function: SVCaccuracy\n",
        "Purpose: Find Suport Vector Machine model's f1 score\n",
        "Parameter: \n",
        "  df_in: Input DataFrame\n",
        "Return:\n",
        "  F1 score\n",
        "#'''"
      ],
      "execution_count": 17,
      "outputs": [
        {
          "output_type": "execute_result",
          "data": {
            "application/vnd.google.colaboratory.intrinsic+json": {
              "type": "string"
            },
            "text/plain": [
              "\"\\nFunction: SVCaccuracy\\nPurpose: Find Suport Vector Machine model's f1 score\\nParameter: \\n  df_in: Input DataFrame\\nReturn:\\n  F1 score\\n#\""
            ]
          },
          "metadata": {
            "tags": []
          },
          "execution_count": 17
        }
      ]
    },
    {
      "cell_type": "code",
      "metadata": {
        "id": "dj187n-6oh0m"
      },
      "source": [
        "def SVCaccuracy(X_train,X_test,Y_train,Y_test):\n",
        "  import time\n",
        "  from sklearn import svm\n",
        "  from sklearn.metrics import f1_score\n",
        "  start = time.time()\n",
        "  clf = svm.SVC()\n",
        "  clf.fit(X_train,Y_train)\n",
        "  Y_predict = clf.predict(X_test)\n",
        "  score = f1_score(Y_test,Y_predict)\n",
        "  end = time.time()\n",
        "  print(\"Train set f1 score for Support Vector Classification: \", f1_score(Y_train,clf.predict(X_train)))\n",
        "  print(\"Test set f1 score for Support Vector Classification: \", score)\n",
        "  print(\"Time estimated: \",end-start)\n",
        "  return score"
      ],
      "execution_count": 18,
      "outputs": []
    },
    {
      "cell_type": "code",
      "metadata": {
        "colab": {
          "base_uri": "https://localhost:8080/",
          "height": 52
        },
        "id": "jUCni2y_x-sW",
        "outputId": "4d043c1d-eb86-4491-d2e8-04ec96ba0b96"
      },
      "source": [
        "'''\n",
        "Function: DTCaccuracy\n",
        "Purpose: Find Decision Tree model's f1 score\n",
        "Parameter: \n",
        "  df_in: Input DataFrame\n",
        "Return:\n",
        "  F1 score\n",
        "#'''"
      ],
      "execution_count": 19,
      "outputs": [
        {
          "output_type": "execute_result",
          "data": {
            "application/vnd.google.colaboratory.intrinsic+json": {
              "type": "string"
            },
            "text/plain": [
              "\"\\nFunction: DTCaccuracy\\nPurpose: Find Decision Tree model's f1 score\\nParameter: \\n  df_in: Input DataFrame\\nReturn:\\n  F1 score\\n#\""
            ]
          },
          "metadata": {
            "tags": []
          },
          "execution_count": 19
        }
      ]
    },
    {
      "cell_type": "code",
      "metadata": {
        "id": "DY94UqAfojxX"
      },
      "source": [
        "def DTCaccuracy(X_train, X_test,Y_train,Y_test = []):\n",
        "  import time\n",
        "  from sklearn import tree\n",
        "  from sklearn.metrics import f1_score\n",
        "  start = time.time()\n",
        "  clf = tree.DecisionTreeClassifier()\n",
        "  clf.fit(X_train,Y_train)\n",
        "  Y_predict = clf.predict(X_test)\n",
        "  score = f1_score(Y_test,Y_predict)\n",
        "  end = time.time()\n",
        "  print(\"Train set f1 score for Decision Tree Classification: \", f1_score(Y_train,clf.predict(X_train)))\n",
        "  print(\"Test set f1 score for Decision Tree Classification: \", score)\n",
        "  print(\"Time estimatimated: \",end-start)\n",
        "  return score"
      ],
      "execution_count": 20,
      "outputs": []
    },
    {
      "cell_type": "code",
      "metadata": {
        "id": "rMn1gO7U7D4j",
        "colab": {
          "base_uri": "https://localhost:8080/",
          "height": 69
        },
        "outputId": "3f8db8bf-7d53-4b56-9fc5-588260bc0572"
      },
      "source": [
        "'''\n",
        "Purpose: Replace null values with most frequency value\n",
        "Parameters: \n",
        "  df_in: Dataframe input\n",
        "  list_columns: List of columns need to detect missing value and replace\n",
        "Returns:\n",
        "  Dataframe after replace null values with most frequency value\n",
        "#'''"
      ],
      "execution_count": 21,
      "outputs": [
        {
          "output_type": "execute_result",
          "data": {
            "application/vnd.google.colaboratory.intrinsic+json": {
              "type": "string"
            },
            "text/plain": [
              "'\\nPurpose: Replace null values with most frequency value\\nParameters: \\n  df_in: Dataframe input\\n  list_columns: List of columns need to detect missing value and replace\\nReturns:\\n  Dataframe after replace null values with most frequency value\\n#'"
            ]
          },
          "metadata": {
            "tags": []
          },
          "execution_count": 21
        }
      ]
    },
    {
      "cell_type": "code",
      "metadata": {
        "id": "XjJMDgv55sDI"
      },
      "source": [
        "def impute_mode_value(df_in, list_columns):\n",
        "  df_out = df_in.copy()\n",
        "  count_missing = 0\n",
        "  for column in list_columns:\n",
        "    try:\n",
        "      count_missing = count_missing + df_out[column].isnull().sum()\n",
        "      #print(\"Impute {0} missing values from {1} column\".format(df_out[column].isnull().sum(),column))\n",
        "      mode_value = df_out[column].mode()[0]\n",
        "      df_out[column].fillna(mode_value,inplace = True)\n",
        "    except:\n",
        "      print(\"Some thing error with column {0}\".format(column))\n",
        "  #print(\"There are {0} values have been imputed\".format(count_missing))\n",
        "  return df_out"
      ],
      "execution_count": 22,
      "outputs": []
    },
    {
      "cell_type": "code",
      "metadata": {
        "colab": {
          "base_uri": "https://localhost:8080/",
          "height": 52
        },
        "id": "AQFLBP1t0Cwk",
        "outputId": "cbaf7a81-9f3f-4d45-8109-c5f38f9f4878"
      },
      "source": [
        "'''\n",
        "Function: feature_engine\n",
        "Purpose: Handle feature(Create feature, Delete feature, Label encoding, Handle \n",
        "         missing data)\n",
        "Parameter: \n",
        "  df_in: Input DataFrame\n",
        "Return:\n",
        "  DataFrame after handle feature\n",
        "#'''"
      ],
      "execution_count": 23,
      "outputs": [
        {
          "output_type": "execute_result",
          "data": {
            "application/vnd.google.colaboratory.intrinsic+json": {
              "type": "string"
            },
            "text/plain": [
              "'\\nFunction: feature_engine\\nPurpose: Handle feature(Create feature, Delete feature, Label encoding, Handle \\n         missing data)\\nParameter: \\n  df_in: Input DataFrame\\nReturn:\\n  DataFrame after handle feature\\n#'"
            ]
          },
          "metadata": {
            "tags": []
          },
          "execution_count": 23
        }
      ]
    },
    {
      "cell_type": "code",
      "metadata": {
        "id": "PFZSvBBjy_eF"
      },
      "source": [
        "def feature_engine(df_in):\n",
        "  df_out = df_in.copy()\n",
        "  df_out = df_out.drop(['PassengerId','Ticket'],axis = 1)\n",
        "  df_out['FamilySize'] = df_out['SibSp']+df_out['Parch']\n",
        "  df_out['FarePerPerson'] = df_out['Fare']/(df_out['FamilySize']+1)\n",
        "  df_out = df_out.drop(['Fare'],axis = 1)\n",
        "  df_out['Cabin'] = np.where(df_out['Cabin']!=df_out['Cabin'],' ',df_out['Cabin'])\n",
        "  df_out['Cabin'] = [s[0] for s in df_out['Cabin']]\n",
        "  df_out['Name'] = [re.findall(', ([^ ]*). ',s)[0] for s in df_out['Name']]\n",
        "  df_out = impute_mode_value(df_out, df_out.columns.drop(\"Age\"))\n",
        "  LE_columns(df_out)\n",
        "  '''\n",
        "  for i in df_out.columns:\n",
        "    print(df_out[i].value_counts())\n",
        "    print(df_out[i].isnull().sum())\n",
        "    print(\"-\"*30)\n",
        "  #'''\n",
        "  #df_out = impute_mode_age(df_out)\n",
        "  df_out = impute_gbr_age(df_out)\n",
        "  #df_out = impute_linear_age(df_out)\n",
        "  return df_out"
      ],
      "execution_count": 24,
      "outputs": []
    },
    {
      "cell_type": "code",
      "metadata": {
        "id": "9u-iTypdbQHh"
      },
      "source": [
        "def main():\n",
        "  path = '/content/drive/My Drive/Datasets/Py4DS_Lab5/titanic_train.csv'\n",
        "  df_raw = pd.read_csv(path)\n",
        "  df = feature_engine(df_raw)\n",
        "  '''\n",
        "  # Test code\n",
        "  X = df.drop(['Survived'],axis = 1)\n",
        "  Y = df['Survived']\n",
        "  X_train, X_test, Y_train, Y_test = train_test_split(X,Y,test_size=0.2))\n",
        "  balancing_data(X_train,Y_train)\n",
        "  return RFCaccuracy(X_train,X_test,Y_train,Y_test)\n",
        "  #'''\n",
        "  # Product\n",
        "  path_test = '/content/drive/My Drive/Datasets/Py4DS_Lab5/titanic_test.csv'\n",
        "  df_test_raw = pd.read_csv(path_test)\n",
        "  df_test = feature_engine(df_test_raw)\n",
        "  X_train = df.drop(['Survived'],axis = 1)\n",
        "  Y_train = df['Survived']\n",
        "  X_test = df_test\n",
        "  Y_pred = RFCaccuracy(X_train,X_test,Y_train)\n",
        "  df_test_raw['Survived'] = Y_pred\n",
        "  path_predict = '/content/drive/My Drive/Datasets/Py4DS_Lab5/titanic_predict.csv'\n",
        "  df_test_raw.to_csv(path_predict,index = False)\n",
        "  display(df_test_raw)\n",
        "  #'''"
      ],
      "execution_count": 25,
      "outputs": []
    },
    {
      "cell_type": "code",
      "metadata": {
        "colab": {
          "base_uri": "https://localhost:8080/",
          "height": 606
        },
        "id": "deAdDAC6dadI",
        "outputId": "d4bf1bd9-27a7-49e7-cb66-69852a76eb50"
      },
      "source": [
        "main()"
      ],
      "execution_count": 26,
      "outputs": [
        {
          "output_type": "display_data",
          "data": {
            "text/html": [
              "<div>\n",
              "<style scoped>\n",
              "    .dataframe tbody tr th:only-of-type {\n",
              "        vertical-align: middle;\n",
              "    }\n",
              "\n",
              "    .dataframe tbody tr th {\n",
              "        vertical-align: top;\n",
              "    }\n",
              "\n",
              "    .dataframe thead th {\n",
              "        text-align: right;\n",
              "    }\n",
              "</style>\n",
              "<table border=\"1\" class=\"dataframe\">\n",
              "  <thead>\n",
              "    <tr style=\"text-align: right;\">\n",
              "      <th></th>\n",
              "      <th>PassengerId</th>\n",
              "      <th>Pclass</th>\n",
              "      <th>Name</th>\n",
              "      <th>Sex</th>\n",
              "      <th>Age</th>\n",
              "      <th>SibSp</th>\n",
              "      <th>Parch</th>\n",
              "      <th>Ticket</th>\n",
              "      <th>Fare</th>\n",
              "      <th>Cabin</th>\n",
              "      <th>Embarked</th>\n",
              "      <th>Survived</th>\n",
              "    </tr>\n",
              "  </thead>\n",
              "  <tbody>\n",
              "    <tr>\n",
              "      <th>0</th>\n",
              "      <td>892</td>\n",
              "      <td>3</td>\n",
              "      <td>Kelly, Mr. James</td>\n",
              "      <td>male</td>\n",
              "      <td>34.5</td>\n",
              "      <td>0</td>\n",
              "      <td>0</td>\n",
              "      <td>330911</td>\n",
              "      <td>7.8292</td>\n",
              "      <td>NaN</td>\n",
              "      <td>Q</td>\n",
              "      <td>0</td>\n",
              "    </tr>\n",
              "    <tr>\n",
              "      <th>1</th>\n",
              "      <td>893</td>\n",
              "      <td>3</td>\n",
              "      <td>Wilkes, Mrs. James (Ellen Needs)</td>\n",
              "      <td>female</td>\n",
              "      <td>47.0</td>\n",
              "      <td>1</td>\n",
              "      <td>0</td>\n",
              "      <td>363272</td>\n",
              "      <td>7.0000</td>\n",
              "      <td>NaN</td>\n",
              "      <td>S</td>\n",
              "      <td>0</td>\n",
              "    </tr>\n",
              "    <tr>\n",
              "      <th>2</th>\n",
              "      <td>894</td>\n",
              "      <td>2</td>\n",
              "      <td>Myles, Mr. Thomas Francis</td>\n",
              "      <td>male</td>\n",
              "      <td>62.0</td>\n",
              "      <td>0</td>\n",
              "      <td>0</td>\n",
              "      <td>240276</td>\n",
              "      <td>9.6875</td>\n",
              "      <td>NaN</td>\n",
              "      <td>Q</td>\n",
              "      <td>0</td>\n",
              "    </tr>\n",
              "    <tr>\n",
              "      <th>3</th>\n",
              "      <td>895</td>\n",
              "      <td>3</td>\n",
              "      <td>Wirz, Mr. Albert</td>\n",
              "      <td>male</td>\n",
              "      <td>27.0</td>\n",
              "      <td>0</td>\n",
              "      <td>0</td>\n",
              "      <td>315154</td>\n",
              "      <td>8.6625</td>\n",
              "      <td>NaN</td>\n",
              "      <td>S</td>\n",
              "      <td>0</td>\n",
              "    </tr>\n",
              "    <tr>\n",
              "      <th>4</th>\n",
              "      <td>896</td>\n",
              "      <td>3</td>\n",
              "      <td>Hirvonen, Mrs. Alexander (Helga E Lindqvist)</td>\n",
              "      <td>female</td>\n",
              "      <td>22.0</td>\n",
              "      <td>1</td>\n",
              "      <td>1</td>\n",
              "      <td>3101298</td>\n",
              "      <td>12.2875</td>\n",
              "      <td>NaN</td>\n",
              "      <td>S</td>\n",
              "      <td>0</td>\n",
              "    </tr>\n",
              "    <tr>\n",
              "      <th>...</th>\n",
              "      <td>...</td>\n",
              "      <td>...</td>\n",
              "      <td>...</td>\n",
              "      <td>...</td>\n",
              "      <td>...</td>\n",
              "      <td>...</td>\n",
              "      <td>...</td>\n",
              "      <td>...</td>\n",
              "      <td>...</td>\n",
              "      <td>...</td>\n",
              "      <td>...</td>\n",
              "      <td>...</td>\n",
              "    </tr>\n",
              "    <tr>\n",
              "      <th>413</th>\n",
              "      <td>1305</td>\n",
              "      <td>3</td>\n",
              "      <td>Spector, Mr. Woolf</td>\n",
              "      <td>male</td>\n",
              "      <td>NaN</td>\n",
              "      <td>0</td>\n",
              "      <td>0</td>\n",
              "      <td>A.5. 3236</td>\n",
              "      <td>8.0500</td>\n",
              "      <td>NaN</td>\n",
              "      <td>S</td>\n",
              "      <td>0</td>\n",
              "    </tr>\n",
              "    <tr>\n",
              "      <th>414</th>\n",
              "      <td>1306</td>\n",
              "      <td>1</td>\n",
              "      <td>Oliva y Ocana, Dona. Fermina</td>\n",
              "      <td>female</td>\n",
              "      <td>39.0</td>\n",
              "      <td>0</td>\n",
              "      <td>0</td>\n",
              "      <td>PC 17758</td>\n",
              "      <td>108.9000</td>\n",
              "      <td>C105</td>\n",
              "      <td>C</td>\n",
              "      <td>1</td>\n",
              "    </tr>\n",
              "    <tr>\n",
              "      <th>415</th>\n",
              "      <td>1307</td>\n",
              "      <td>3</td>\n",
              "      <td>Saether, Mr. Simon Sivertsen</td>\n",
              "      <td>male</td>\n",
              "      <td>38.5</td>\n",
              "      <td>0</td>\n",
              "      <td>0</td>\n",
              "      <td>SOTON/O.Q. 3101262</td>\n",
              "      <td>7.2500</td>\n",
              "      <td>NaN</td>\n",
              "      <td>S</td>\n",
              "      <td>0</td>\n",
              "    </tr>\n",
              "    <tr>\n",
              "      <th>416</th>\n",
              "      <td>1308</td>\n",
              "      <td>3</td>\n",
              "      <td>Ware, Mr. Frederick</td>\n",
              "      <td>male</td>\n",
              "      <td>NaN</td>\n",
              "      <td>0</td>\n",
              "      <td>0</td>\n",
              "      <td>359309</td>\n",
              "      <td>8.0500</td>\n",
              "      <td>NaN</td>\n",
              "      <td>S</td>\n",
              "      <td>0</td>\n",
              "    </tr>\n",
              "    <tr>\n",
              "      <th>417</th>\n",
              "      <td>1309</td>\n",
              "      <td>3</td>\n",
              "      <td>Peter, Master. Michael J</td>\n",
              "      <td>male</td>\n",
              "      <td>NaN</td>\n",
              "      <td>1</td>\n",
              "      <td>1</td>\n",
              "      <td>2668</td>\n",
              "      <td>22.3583</td>\n",
              "      <td>NaN</td>\n",
              "      <td>C</td>\n",
              "      <td>1</td>\n",
              "    </tr>\n",
              "  </tbody>\n",
              "</table>\n",
              "<p>418 rows × 12 columns</p>\n",
              "</div>"
            ],
            "text/plain": [
              "     PassengerId  Pclass  ... Embarked Survived\n",
              "0            892       3  ...        Q        0\n",
              "1            893       3  ...        S        0\n",
              "2            894       2  ...        Q        0\n",
              "3            895       3  ...        S        0\n",
              "4            896       3  ...        S        0\n",
              "..           ...     ...  ...      ...      ...\n",
              "413         1305       3  ...        S        0\n",
              "414         1306       1  ...        C        1\n",
              "415         1307       3  ...        S        0\n",
              "416         1308       3  ...        S        0\n",
              "417         1309       3  ...        C        1\n",
              "\n",
              "[418 rows x 12 columns]"
            ]
          },
          "metadata": {
            "tags": []
          }
        }
      ]
    },
    {
      "cell_type": "code",
      "metadata": {
        "colab": {
          "base_uri": "https://localhost:8080/",
          "height": 52
        },
        "id": "53OrTFaNdZY5",
        "outputId": "88778efd-bf76-46dd-f743-a925935a8416"
      },
      "source": [
        "'''\n",
        "# Test code\n",
        "a = []\n",
        "for i in range(100):\n",
        "  a.append(main())\n",
        "a = np.array(a)\n",
        "print(np.mean(a))\n",
        "print(a.min())\n",
        "print(a.max())\n",
        "#'''"
      ],
      "execution_count": 27,
      "outputs": [
        {
          "output_type": "execute_result",
          "data": {
            "application/vnd.google.colaboratory.intrinsic+json": {
              "type": "string"
            },
            "text/plain": [
              "'\\n# Test code\\na = []\\nfor i in range(100):\\n  a.append(main())\\na = np.array(a)\\nprint(np.mean(a))\\nprint(a.min())\\nprint(a.max())\\n#'"
            ]
          },
          "metadata": {
            "tags": []
          },
          "execution_count": 27
        }
      ]
    }
  ]
}