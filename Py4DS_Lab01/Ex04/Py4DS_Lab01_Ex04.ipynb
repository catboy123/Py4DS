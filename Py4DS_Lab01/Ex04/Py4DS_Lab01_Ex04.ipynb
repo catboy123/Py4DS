{
  "nbformat": 4,
  "nbformat_minor": 0,
  "metadata": {
    "colab": {
      "name": "Py4DS_Lab01_Ex04.jpny",
      "provenance": [],
      "collapsed_sections": [],
      "toc_visible": true
    },
    "kernelspec": {
      "name": "python3",
      "display_name": "Python 3"
    }
  },
  "cells": [
    {
      "cell_type": "code",
      "metadata": {
        "id": "dcpZZ4yqAXOk"
      },
      "source": [
        "import numpy as np # linear algebra\n",
        "import pandas as pd # data processing, CSV file I/O (e.g. pd.read_csv)"
      ],
      "execution_count": 16,
      "outputs": []
    },
    {
      "cell_type": "markdown",
      "metadata": {
        "id": "d4_lXj5QA2O9"
      },
      "source": [
        "# **STEP 1: Read and view file**"
      ]
    },
    {
      "cell_type": "code",
      "metadata": {
        "id": "7mF8yomg_m95",
        "outputId": "cd294525-f7b9-45aa-c727-cb3435e46892",
        "colab": {
          "base_uri": "https://localhost:8080/",
          "height": 226
        }
      },
      "source": [
        "API_edu = pd.read_csv(r\"/content/drive/My Drive/0. STUDYING Peo Peo/PYTHON/xAPI-Edu-Data.csv\")\n",
        "API_edu.head()"
      ],
      "execution_count": 17,
      "outputs": [
        {
          "output_type": "execute_result",
          "data": {
            "text/html": [
              "<div>\n",
              "<style scoped>\n",
              "    .dataframe tbody tr th:only-of-type {\n",
              "        vertical-align: middle;\n",
              "    }\n",
              "\n",
              "    .dataframe tbody tr th {\n",
              "        vertical-align: top;\n",
              "    }\n",
              "\n",
              "    .dataframe thead th {\n",
              "        text-align: right;\n",
              "    }\n",
              "</style>\n",
              "<table border=\"1\" class=\"dataframe\">\n",
              "  <thead>\n",
              "    <tr style=\"text-align: right;\">\n",
              "      <th></th>\n",
              "      <th>gender</th>\n",
              "      <th>NationalITy</th>\n",
              "      <th>PlaceofBirth</th>\n",
              "      <th>StageID</th>\n",
              "      <th>GradeID</th>\n",
              "      <th>SectionID</th>\n",
              "      <th>Topic</th>\n",
              "      <th>Semester</th>\n",
              "      <th>Relation</th>\n",
              "      <th>raisedhands</th>\n",
              "      <th>VisITedResources</th>\n",
              "      <th>AnnouncementsView</th>\n",
              "      <th>Discussion</th>\n",
              "      <th>ParentAnsweringSurvey</th>\n",
              "      <th>ParentschoolSatisfaction</th>\n",
              "      <th>StudentAbsenceDays</th>\n",
              "      <th>Class</th>\n",
              "    </tr>\n",
              "  </thead>\n",
              "  <tbody>\n",
              "    <tr>\n",
              "      <th>0</th>\n",
              "      <td>M</td>\n",
              "      <td>KW</td>\n",
              "      <td>KuwaIT</td>\n",
              "      <td>lowerlevel</td>\n",
              "      <td>G-04</td>\n",
              "      <td>A</td>\n",
              "      <td>IT</td>\n",
              "      <td>F</td>\n",
              "      <td>Father</td>\n",
              "      <td>15</td>\n",
              "      <td>16</td>\n",
              "      <td>2</td>\n",
              "      <td>20</td>\n",
              "      <td>Yes</td>\n",
              "      <td>Good</td>\n",
              "      <td>Under-7</td>\n",
              "      <td>M</td>\n",
              "    </tr>\n",
              "    <tr>\n",
              "      <th>1</th>\n",
              "      <td>M</td>\n",
              "      <td>KW</td>\n",
              "      <td>KuwaIT</td>\n",
              "      <td>lowerlevel</td>\n",
              "      <td>G-04</td>\n",
              "      <td>A</td>\n",
              "      <td>IT</td>\n",
              "      <td>F</td>\n",
              "      <td>Father</td>\n",
              "      <td>20</td>\n",
              "      <td>20</td>\n",
              "      <td>3</td>\n",
              "      <td>25</td>\n",
              "      <td>Yes</td>\n",
              "      <td>Good</td>\n",
              "      <td>Under-7</td>\n",
              "      <td>M</td>\n",
              "    </tr>\n",
              "    <tr>\n",
              "      <th>2</th>\n",
              "      <td>M</td>\n",
              "      <td>KW</td>\n",
              "      <td>KuwaIT</td>\n",
              "      <td>lowerlevel</td>\n",
              "      <td>G-04</td>\n",
              "      <td>A</td>\n",
              "      <td>IT</td>\n",
              "      <td>F</td>\n",
              "      <td>Father</td>\n",
              "      <td>10</td>\n",
              "      <td>7</td>\n",
              "      <td>0</td>\n",
              "      <td>30</td>\n",
              "      <td>No</td>\n",
              "      <td>Bad</td>\n",
              "      <td>Above-7</td>\n",
              "      <td>L</td>\n",
              "    </tr>\n",
              "    <tr>\n",
              "      <th>3</th>\n",
              "      <td>M</td>\n",
              "      <td>KW</td>\n",
              "      <td>KuwaIT</td>\n",
              "      <td>lowerlevel</td>\n",
              "      <td>G-04</td>\n",
              "      <td>A</td>\n",
              "      <td>IT</td>\n",
              "      <td>F</td>\n",
              "      <td>Father</td>\n",
              "      <td>30</td>\n",
              "      <td>25</td>\n",
              "      <td>5</td>\n",
              "      <td>35</td>\n",
              "      <td>No</td>\n",
              "      <td>Bad</td>\n",
              "      <td>Above-7</td>\n",
              "      <td>L</td>\n",
              "    </tr>\n",
              "    <tr>\n",
              "      <th>4</th>\n",
              "      <td>M</td>\n",
              "      <td>KW</td>\n",
              "      <td>KuwaIT</td>\n",
              "      <td>lowerlevel</td>\n",
              "      <td>G-04</td>\n",
              "      <td>A</td>\n",
              "      <td>IT</td>\n",
              "      <td>F</td>\n",
              "      <td>Father</td>\n",
              "      <td>40</td>\n",
              "      <td>50</td>\n",
              "      <td>12</td>\n",
              "      <td>50</td>\n",
              "      <td>No</td>\n",
              "      <td>Bad</td>\n",
              "      <td>Above-7</td>\n",
              "      <td>M</td>\n",
              "    </tr>\n",
              "  </tbody>\n",
              "</table>\n",
              "</div>"
            ],
            "text/plain": [
              "  gender NationalITy  ... StudentAbsenceDays Class\n",
              "0      M          KW  ...            Under-7     M\n",
              "1      M          KW  ...            Under-7     M\n",
              "2      M          KW  ...            Above-7     L\n",
              "3      M          KW  ...            Above-7     L\n",
              "4      M          KW  ...            Above-7     M\n",
              "\n",
              "[5 rows x 17 columns]"
            ]
          },
          "metadata": {
            "tags": []
          },
          "execution_count": 17
        }
      ]
    },
    {
      "cell_type": "markdown",
      "metadata": {
        "id": "54Fww_ElBdDL"
      },
      "source": [
        "# **STEP 2: Kiểm tra dữ liệu khuyết**"
      ]
    },
    {
      "cell_type": "code",
      "metadata": {
        "id": "kkxXPu8hA1Qw",
        "outputId": "96f970d0-69b6-48ba-bebf-90c8ecda7690",
        "colab": {
          "base_uri": "https://localhost:8080/",
          "height": 434
        }
      },
      "source": [
        "API_edu.info()"
      ],
      "execution_count": 18,
      "outputs": [
        {
          "output_type": "stream",
          "text": [
            "<class 'pandas.core.frame.DataFrame'>\n",
            "RangeIndex: 480 entries, 0 to 479\n",
            "Data columns (total 17 columns):\n",
            " #   Column                    Non-Null Count  Dtype \n",
            "---  ------                    --------------  ----- \n",
            " 0   gender                    480 non-null    object\n",
            " 1   NationalITy               480 non-null    object\n",
            " 2   PlaceofBirth              480 non-null    object\n",
            " 3   StageID                   480 non-null    object\n",
            " 4   GradeID                   480 non-null    object\n",
            " 5   SectionID                 480 non-null    object\n",
            " 6   Topic                     480 non-null    object\n",
            " 7   Semester                  480 non-null    object\n",
            " 8   Relation                  480 non-null    object\n",
            " 9   raisedhands               480 non-null    int64 \n",
            " 10  VisITedResources          480 non-null    int64 \n",
            " 11  AnnouncementsView         480 non-null    int64 \n",
            " 12  Discussion                480 non-null    int64 \n",
            " 13  ParentAnsweringSurvey     480 non-null    object\n",
            " 14  ParentschoolSatisfaction  480 non-null    object\n",
            " 15  StudentAbsenceDays        480 non-null    object\n",
            " 16  Class                     480 non-null    object\n",
            "dtypes: int64(4), object(13)\n",
            "memory usage: 63.9+ KB\n"
          ],
          "name": "stdout"
        }
      ]
    },
    {
      "cell_type": "markdown",
      "metadata": {
        "id": "-a_3mJv-DVhe"
      },
      "source": [
        "# **STEP 3**: \n",
        "##**1. Tách X va y (dataframe)**"
      ]
    },
    {
      "cell_type": "code",
      "metadata": {
        "id": "8-4ZKHvOBkck",
        "outputId": "72111e95-6abb-40b3-99de-d1fd65bb2def",
        "colab": {
          "base_uri": "https://localhost:8080/",
          "height": 469
        }
      },
      "source": [
        "from sklearn import preprocessing\n",
        "le = preprocessing.LabelEncoder()\n",
        "\n",
        "# Tạo biến target\n",
        "y = API_edu['Class']\n",
        "print(y)\n",
        "print(y.unique())\n",
        "\n",
        "#  Tập X được chia thành 2 loại:\n",
        "## Data có dữ liệu là continuous (Dữ liệu chứa số)\n",
        "X_continuous = API_edu[['Discussion', 'AnnouncementsView', 'VisITedResources', 'raisedhands']]\n",
        "## Data với dữ liệu là category (Dữ liệu chứa chữ)\n",
        "X_category = API_edu.drop(['Class', 'Discussion', 'AnnouncementsView', 'VisITedResources', 'raisedhands'], axis = 1)\n",
        "## Encoding các data\n",
        "X_category_encode = pd.get_dummies(X_category, prefix_sep='_')\n",
        "y = le.fit_transform(y)\n",
        "X = pd.concat([X_continuous, X_category_encode], axis = 1) \n",
        "\n",
        "print(y)\n"
      ],
      "execution_count": 19,
      "outputs": [
        {
          "output_type": "stream",
          "text": [
            "0      M\n",
            "1      M\n",
            "2      L\n",
            "3      L\n",
            "4      M\n",
            "      ..\n",
            "475    L\n",
            "476    M\n",
            "477    M\n",
            "478    L\n",
            "479    L\n",
            "Name: Class, Length: 480, dtype: object\n",
            "['M' 'L' 'H']\n",
            "[2 2 1 1 2 2 1 2 2 2 0 2 1 1 0 2 2 2 2 0 2 2 2 1 1 1 2 1 2 2 0 1 1 1 1 1 1\n",
            " 2 1 2 1 2 1 2 2 1 1 0 0 2 1 1 2 0 1 1 1 1 2 2 1 2 0 2 1 1 2 0 0 2 1 2 1 2\n",
            " 1 2 2 2 1 0 1 1 1 2 0 1 0 1 1 1 1 0 0 0 1 0 0 2 2 2 2 0 1 1 2 1 2 0 2 2 0\n",
            " 2 1 1 1 1 2 0 2 2 2 1 2 2 1 1 2 1 1 1 1 2 1 1 0 0 0 2 0 2 1 1 2 0 1 2 0 2\n",
            " 2 0 0 2 0 1 2 0 2 2 1 2 0 2 0 2 2 0 2 0 0 2 0 2 1 1 2 1 0 2 0 2 0 1 0 2 1\n",
            " 0 2 2 0 2 1 1 2 2 2 2 0 0 1 2 0 0 2 2 1 0 2 2 2 2 0 2 0 1 1 1 2 2 0 2 2 2\n",
            " 2 0 0 2 1 1 0 1 2 1 2 2 2 1 1 2 2 0 0 2 1 2 0 2 0 2 1 2 0 1 2 1 0 0 0 2 2\n",
            " 1 1 2 2 2 2 0 2 2 2 2 0 2 2 0 0 0 0 0 2 2 0 0 0 0 2 2 0 0 2 2 1 1 0 0 2 2\n",
            " 0 0 2 2 1 1 2 2 2 2 0 0 2 2 2 2 0 0 0 0 0 0 0 0 2 2 1 1 2 2 1 1 2 2 1 1 2\n",
            " 2 1 1 2 2 2 2 2 2 2 2 0 0 0 0 1 1 1 1 2 2 0 0 2 2 0 0 2 2 0 0 0 0 2 2 0 0\n",
            " 2 2 1 1 1 1 2 2 1 1 1 1 0 0 0 0 2 2 1 1 2 2 0 0 0 0 2 2 0 0 2 2 0 0 0 0 1\n",
            " 1 2 2 0 0 2 2 1 1 0 0 0 0 0 0 2 2 0 0 2 2 1 1 0 0 2 2 2 2 2 2 2 2 2 2 2 2\n",
            " 1 1 2 2 0 0 0 0 2 2 2 2 0 0 0 0 2 2 2 2 0 0 0 0 1 1 2 2 2 2 1 1 2 2 1 1]\n"
          ],
          "name": "stdout"
        }
      ]
    },
    {
      "cell_type": "markdown",
      "metadata": {
        "id": "JKTNbpiUzWkM"
      },
      "source": [
        "**Comments**\n",
        "\n",
        "See y after encoding:\n",
        "\n",
        "M = 2\n",
        "\n",
        "L = 1\n",
        "\n",
        "H = 0"
      ]
    },
    {
      "cell_type": "markdown",
      "metadata": {
        "id": "kU3HMf2bDfBF"
      },
      "source": [
        "##**2. Train_Test**"
      ]
    },
    {
      "cell_type": "code",
      "metadata": {
        "id": "UFzhgWJCDC0E"
      },
      "source": [
        "from sklearn.model_selection import train_test_split\n",
        "X_train, X_test, y_train, y_test = train_test_split(X, y, test_size = 0.3, \n",
        "                                                    stratify = y, random_state = 0)"
      ],
      "execution_count": 20,
      "outputs": []
    },
    {
      "cell_type": "markdown",
      "metadata": {
        "id": "zOs2-fofDo6-"
      },
      "source": [
        "#**STEP 4: Choose model**"
      ]
    },
    {
      "cell_type": "markdown",
      "metadata": {
        "id": "XLqHxCnQI_60"
      },
      "source": [
        "##**1. Model: Support Vector Machine (SVM)**"
      ]
    },
    {
      "cell_type": "code",
      "metadata": {
        "id": "zEpKBMx9DrqX",
        "outputId": "b274c7fe-6a0b-4228-fd43-3de7d144f1a8",
        "colab": {
          "base_uri": "https://localhost:8080/",
          "height": 364
        }
      },
      "source": [
        "from sklearn.svm import SVC\n",
        "from sklearn.metrics import accuracy_score, confusion_matrix,classification_report\n",
        "\n",
        "clf_svm = SVC(kernel = 'poly', C = 10)   \n",
        "clf_svm.fit(X_train, y_train)\n",
        "\n",
        "print(\"Support Vector Machine\")\n",
        "print(\"\\ntrain acc: \", accuracy_score(y_train, clf_svm.predict(X_train)))\n",
        "print(\"test acc: \", accuracy_score(y_test, clf_svm.predict(X_test)))\n",
        "print('\\nConfusion matrix : \\n', confusion_matrix(y_test, clf_svm.predict(X_test)))\n",
        "print('Classification report : \\n', classification_report(y_test, clf_svm.predict(X_test), digits = 5))"
      ],
      "execution_count": 21,
      "outputs": [
        {
          "output_type": "stream",
          "text": [
            "Support Vector Machine\n",
            "\n",
            "train acc:  0.7202380952380952\n",
            "test acc:  0.6388888888888888\n",
            "\n",
            "Confusion matrix : \n",
            " [[19  3 21]\n",
            " [ 0 34  4]\n",
            " [ 9 15 39]]\n",
            "Classification report : \n",
            "               precision    recall  f1-score   support\n",
            "\n",
            "           0    0.67857   0.44186   0.53521        43\n",
            "           1    0.65385   0.89474   0.75556        38\n",
            "           2    0.60938   0.61905   0.61417        63\n",
            "\n",
            "    accuracy                        0.63889       144\n",
            "   macro avg    0.64726   0.65188   0.63498       144\n",
            "weighted avg    0.64177   0.63889   0.62790       144\n",
            "\n"
          ],
          "name": "stdout"
        }
      ]
    },
    {
      "cell_type": "markdown",
      "metadata": {
        "id": "Bp0j8BNIlCWY"
      },
      "source": [
        "**Comments:**\n",
        "\n",
        "Từ confusion matrix chỉ ra rằng trong tổng số 144 dữ liệu của test-set thì có:\n",
        "\n",
        " [[19  3 21]\n",
        "\n",
        "  [ 0 34  4]\n",
        "\n",
        "  [ 9 15 39]]\n",
        "\n",
        "* Dòng 0 (H): High-Level Students\n",
        "    - Thực tế: 43 students\n",
        "    - (0,0): predict 19 High-Level students => dự đoán ĐÚNG\n",
        "    - (0,1): predict 3 Low-Level students => dự đoán sai\n",
        "    - (0,2): predict 21 Middle-Level students => dự đoán sai\n",
        "* Dòng 1 (L): Low-Level Students\n",
        "    - Thực tế: 38 students\n",
        "    - (0,0): predict 0 High-Level students \n",
        "    - (0,1): predict 34 Low-Level students => dự đoán ĐÚNG\n",
        "    - (0,2): predict 4 Middle-Level students => dự đoán sai\n",
        "* Dòng 2 (M): Middle-Level Students\n",
        "    - Thực tế: 63 students\n",
        "    - (0,0): predict 9 High-Level students => dự đoán sai\n",
        "    - (0,1): predict 15 Low-Level students => dự đoán sai\n",
        "    - (0,2): predict 39 Middle-Level students => dự đoán ĐÚNG\n",
        "\n",
        "Bài toán: accuracy  = 63,889%; \n"
      ]
    },
    {
      "cell_type": "markdown",
      "metadata": {
        "id": "IWOzRIqEJ3SX"
      },
      "source": [
        "##**2. Model: Decision Tree Classifier**\n"
      ]
    },
    {
      "cell_type": "code",
      "metadata": {
        "id": "anANyhkTHNTV",
        "outputId": "d4778500-e57c-4c96-b2ea-9fa11f1fd69b",
        "colab": {
          "base_uri": "https://localhost:8080/",
          "height": 364
        }
      },
      "source": [
        "from sklearn.tree import DecisionTreeClassifier\n",
        "from sklearn.metrics import accuracy_score, confusion_matrix,classification_report\n",
        "\n",
        "clf = DecisionTreeClassifier()\n",
        "clf.fit(X_train,y_train)\n",
        "\n",
        "print(\"Decision Tree Classifier\")\n",
        "print(\"\\ntrain acc: \", accuracy_score(y_train, clf.predict(X_train)))\n",
        "print(\"test acc: \", accuracy_score(y_test, clf.predict(X_test)))\n",
        "print('\\nConfusion matrix : \\n', confusion_matrix(y_test, clf.predict(X_test)))\n",
        "print('Classification report : \\n', classification_report(y_test, clf.predict(X_test), digits = 5))"
      ],
      "execution_count": 22,
      "outputs": [
        {
          "output_type": "stream",
          "text": [
            "Decision Tree Classifier\n",
            "\n",
            "train acc:  1.0\n",
            "test acc:  0.7708333333333334\n",
            "\n",
            "Confusion matrix : \n",
            " [[32  0 11]\n",
            " [ 0 34  4]\n",
            " [10  8 45]]\n",
            "Classification report : \n",
            "               precision    recall  f1-score   support\n",
            "\n",
            "           0    0.76190   0.74419   0.75294        43\n",
            "           1    0.80952   0.89474   0.85000        38\n",
            "           2    0.75000   0.71429   0.73171        63\n",
            "\n",
            "    accuracy                        0.77083       144\n",
            "   macro avg    0.77381   0.78440   0.77822       144\n",
            "weighted avg    0.76926   0.77083   0.76926       144\n",
            "\n"
          ],
          "name": "stdout"
        }
      ]
    },
    {
      "cell_type": "markdown",
      "metadata": {
        "id": "rmsnP0A4y2CN"
      },
      "source": [
        "**Comments:**\n",
        "\n",
        "Từ confusion matrix chỉ ra rằng trong tổng số 144 dữ liệu của test-set thì có:\n",
        "\n",
        "[[32  0 11]\n",
        "\n",
        " [ 0 34  4]\n",
        "\n",
        " [10  8 45]]\n",
        "\n",
        "* Dòng 0 (H): High-Level Students\n",
        "    - Thực tế: 43 students\n",
        "    - (0,0): predict 32 High-Level students => dự đoán ĐÚNG\n",
        "    - (0,1): predict 0 Low-Level students => dự đoán sai\n",
        "    - (0,2): predict 11 Middle-Level students => dự đoán sai\n",
        "* Dòng 1 (L): Low-Level Students\n",
        "    - Thực tế: 38 students\n",
        "    - (0,0): predict 0 High-Level students \n",
        "    - (0,1): predict 34 Low-Level students => dự đoán ĐÚNG\n",
        "    - (0,2): predict 4 Middle-Level students => dự đoán sai\n",
        "* Dòng 2 (M): Middle-Level Students\n",
        "    - Thực tế: 63 students\n",
        "    - (0,0): predict 10 High-Level students => dự đoán sai\n",
        "    - (0,1): predict 8 Low-Level students => dự đoán sai\n",
        "    - (0,2): predict 45 Middle-Level students => dự đoán ĐÚNG\n",
        "\n",
        "Bài toán: accuracy  = 77,083%; \n"
      ]
    },
    {
      "cell_type": "markdown",
      "metadata": {
        "id": "JNDUQfqiKC63"
      },
      "source": [
        "##**3. Model: Random Forest Classifier**"
      ]
    },
    {
      "cell_type": "code",
      "metadata": {
        "id": "ZkVu1ipCIWz2",
        "outputId": "7977be89-dabe-4b3f-ca94-c8ae2b5bd4d3",
        "colab": {
          "base_uri": "https://localhost:8080/",
          "height": 364
        }
      },
      "source": [
        "from sklearn.ensemble import RandomForestClassifier\n",
        "from sklearn.metrics import accuracy_score, confusion_matrix,classification_report\n",
        "\n",
        "clf = RandomForestClassifier()\n",
        "clf.fit(X_train,y_train)\n",
        "\n",
        "print(\"Random Forest Classifier\")\n",
        "print(\"\\ntrain acc: \", accuracy_score(y_train, clf.predict(X_train)))\n",
        "print(\"test acc: \", accuracy_score(y_test, clf.predict(X_test)))\n",
        "print('\\nConfusion matrix : \\n', confusion_matrix(y_test, clf.predict(X_test)))\n",
        "print('Classification report : \\n', classification_report(y_test, clf.predict(X_test), digits = 5))"
      ],
      "execution_count": 23,
      "outputs": [
        {
          "output_type": "stream",
          "text": [
            "Random Forest Classifier\n",
            "\n",
            "train acc:  1.0\n",
            "test acc:  0.8263888888888888\n",
            "\n",
            "Confusion matrix : \n",
            " [[33  0 10]\n",
            " [ 0 34  4]\n",
            " [ 5  6 52]]\n",
            "Classification report : \n",
            "               precision    recall  f1-score   support\n",
            "\n",
            "           0    0.86842   0.76744   0.81481        43\n",
            "           1    0.85000   0.89474   0.87179        38\n",
            "           2    0.78788   0.82540   0.80620        63\n",
            "\n",
            "    accuracy                        0.82639       144\n",
            "   macro avg    0.83543   0.82919   0.83094       144\n",
            "weighted avg    0.82832   0.82639   0.82608       144\n",
            "\n"
          ],
          "name": "stdout"
        }
      ]
    },
    {
      "cell_type": "markdown",
      "metadata": {
        "id": "UQHKN2oszzfG"
      },
      "source": [
        "**Comments:**\n",
        "\n",
        "Từ confusion matrix chỉ ra rằng trong tổng số 144 dữ liệu của test-set thì có:\n",
        "\n",
        " [[33  0 10]\n",
        "\n",
        " [ 0 34  4]\n",
        "\n",
        " [ 5  6 52]]\n",
        "\n",
        "* Dòng 0 (H): High-Level Students\n",
        "    - Thực tế: 43 students\n",
        "    - (0,0): predict 33 High-Level students => dự đoán ĐÚNG\n",
        "    - (0,1): predict 0 Low-Level students => dự đoán sai\n",
        "    - (0,2): predict 10 Middle-Level students => dự đoán sai\n",
        "* Dòng 1 (L): Low-Level Students\n",
        "    - Thực tế: 38 students\n",
        "    - (0,0): predict 0 High-Level students \n",
        "    - (0,1): predict 34 Low-Level students => dự đoán ĐÚNG\n",
        "    - (0,2): predict 4 Middle-Level students => dự đoán sai\n",
        "* Dòng 2 (M): Middle-Level Students\n",
        "    - Thực tế: 63 students\n",
        "    - (0,0): predict 5 High-Level students => dự đoán sai\n",
        "    - (0,1): predict 6 Low-Level students => dự đoán sai\n",
        "    - (0,2): predict 52 Middle-Level students => dự đoán ĐÚNG\n",
        "\n",
        "Bài toán: accuracy  = 82,639%; \n"
      ]
    }
  ]
}